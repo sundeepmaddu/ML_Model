{
 "cells": [
  {
   "cell_type": "code",
   "execution_count": 2,
   "metadata": {},
   "outputs": [
    {
     "ename": "ModuleNotFoundError",
     "evalue": "No module named 'pandas_profiling'",
     "output_type": "error",
     "traceback": [
      "\u001b[0;31m---------------------------------------------------------------------------\u001b[0m",
      "\u001b[0;31mModuleNotFoundError\u001b[0m                       Traceback (most recent call last)",
      "\u001b[0;32m<ipython-input-2-37a3a22fd9b6>\u001b[0m in \u001b[0;36m<module>\u001b[0;34m\u001b[0m\n\u001b[1;32m     11\u001b[0m \u001b[0;32mimport\u001b[0m \u001b[0mseaborn\u001b[0m \u001b[0;32mas\u001b[0m \u001b[0msns\u001b[0m\u001b[0;34m\u001b[0m\u001b[0;34m\u001b[0m\u001b[0m\n\u001b[1;32m     12\u001b[0m \u001b[0;34m\u001b[0m\u001b[0m\n\u001b[0;32m---> 13\u001b[0;31m \u001b[0;32mimport\u001b[0m \u001b[0mpandas_profiling\u001b[0m \u001b[0;32mas\u001b[0m \u001b[0mpdp\u001b[0m\u001b[0;34m\u001b[0m\u001b[0;34m\u001b[0m\u001b[0m\n\u001b[0m",
      "\u001b[0;31mModuleNotFoundError\u001b[0m: No module named 'pandas_profiling'"
     ]
    }
   ],
   "source": [
    "features=['gender', 'age', 'hypertension', 'heart_disease', 'ever_married',\n",
    "       'work_type', 'Residence_type',\n",
    "       'smoking_status']\n",
    "from matplotlib.offsetbox import AnchoredText\n",
    "correlation_table = []\n",
    "for cols in features:\n",
    "    y = en_df[\"stroke\"]\n",
    "    x = en_df[cols]\n",
    "    corr = np.corrcoef(x, y)[1][0]\n",
    "    dict ={\n",
    "        'Features': cols,\n",
    "        'Correlation coefficient' : corr,\n",
    "        'Feat_type': 'numerical'\n",
    "    }\n",
    "    correlation_table.append(dict)\n",
    "dF1 = pd.DataFrame(correlation_table)\n",
    "fig = plt.figure(figsize=(10,6), facecolor='#EAECEE')\n",
    "ax = sns.barplot(x=\"Correlation coefficient\", y=\"Features\", \n",
    "                     data=dF1.sort_values(\"Correlation coefficient\", ascending=False),\n",
    "                     palette='viridis', alpha=0.75)\n",
    "ax.grid()\n",
    "#ax.set_title(\"Correlation of numerical features with Target\", fontsize=20, y=1.05)\n",
    "\n",
    "title =  'Correlation features with target'\n",
    "sub_title = 'In comparison with categorical features \\\n",
    "\\nnumericals are less correlated with target.'\n",
    "\n",
    "plt.gcf().text(0.05, 1.02, title, fontsize=24)\n",
    "#plt.gcf().text(0.05, 0.9, sub_title, fontsize=14)\n",
    "\n",
    "at1 = AnchoredText(sub_title,\n",
    "                   loc='lower left', frameon=True,\n",
    "                   bbox_to_anchor=(-0.1, 1.01),\n",
    "                   bbox_transform=ax.transAxes,\n",
    "                   #prop=dict(size=8),\n",
    "                   )\n",
    "at1.patch.set_boxstyle(\"round,pad=0.,rounding_size=0.2\")\n",
    "ax.add_artist(at1)"
   ]
  },
  {
   "cell_type": "code",
   "execution_count": null,
   "metadata": {},
   "outputs": [],
   "source": []
  }
 ],
 "metadata": {
  "kernelspec": {
   "display_name": "Python 3",
   "language": "python",
   "name": "python3"
  },
  "language_info": {
   "codemirror_mode": {
    "name": "ipython",
    "version": 3
   },
   "file_extension": ".py",
   "mimetype": "text/x-python",
   "name": "python",
   "nbconvert_exporter": "python",
   "pygments_lexer": "ipython3",
   "version": "3.8.5"
  }
 },
 "nbformat": 4,
 "nbformat_minor": 4
}
