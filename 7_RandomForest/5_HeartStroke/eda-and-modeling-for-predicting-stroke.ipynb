{
 "cells": [
  {
   "cell_type": "markdown",
   "metadata": {
    "papermill": {
     "duration": 0.027067,
     "end_time": "2021-03-23T16:31:58.246735",
     "exception": false,
     "start_time": "2021-03-23T16:31:58.219668",
     "status": "completed"
    },
    "tags": []
   },
   "source": [
    "<div class=\"jumbotron\">\n",
    "  <h1 class=\"display-4\">Hello, Everyone!</h1>\n",
    "  <p class=\"lead\">We will learn some important information about stroke and what are the \"common\" trait of people having stroke. In this kernel we will be using some classical ML algorithms in order to detecting stroke using. I hope you will enjoy it :)</p>\n",
    "  <hr class=\"my-4\">\n",
    "  <p>Arthors: Rachid Zeghlache.</p>\n",
    "</div>"
   ]
  },
  {
   "cell_type": "markdown",
   "metadata": {
    "papermill": {
     "duration": 0.025261,
     "end_time": "2021-03-23T16:31:58.348507",
     "exception": false,
     "start_time": "2021-03-23T16:31:58.323246",
     "status": "completed"
    },
    "tags": []
   },
   "source": [
    "<h2 style=\"font-family: Verdana; font-size: 24px; font-style: normal; font-weight: bold; text-decoration: none; text-transform: none; letter-spacing: 3px; color: navy; background-color: #ffffff;\">TABLE OF CONTENTS</h2>\n",
    "\n",
    "---\n",
    "\n",
    "<h3 style=\"text-indent: 10vw; font-family: Verdana; font-size: 20px; font-style: normal; font-weight: normal; text-decoration: none; text-transform: none; letter-spacing: 2px; color: navy; background-color: #ffffff;\"><a href=\"#intro\">0&nbsp;&nbsp;&nbsp;&nbsp;Introduction</a></h3>\n",
    "\n",
    "---\n",
    "\n",
    "<h3 style=\"text-indent: 10vw; font-family: Verdana; font-size: 20px; font-style: normal; font-weight: normal; text-decoration: none; text-transform: none; letter-spacing: 2px; color: navy; background-color: #ffffff;\"><a href=\"#background_motivation\">I&nbsp;&nbsp;&nbsp;&nbsp;Background and motivation</a></h3>\n",
    "\n",
    "---\n",
    "\n",
    "<h3 style=\"text-indent: 10vw; font-family: Verdana; font-size: 20px; font-style: normal; font-weight: normal; text-decoration: none; text-transform: none; letter-spacing: 2px; color: navy; background-color: #ffffff;\"><a href=\"#package\">II&nbsp;&nbsp;&nbsp;&nbsp;Package</a></h3>\n",
    "\n",
    "---\n",
    "\n",
    "<h3 style=\"text-indent: 10vw; font-family: Verdana; font-size: 20px; font-style: normal; font-weight: normal; text-decoration: none; text-transform: none; letter-spacing: 2px; color: navy; background-color: #ffffff;\"><a href=\"#firstlook\">III&nbsp;&nbsp;&nbsp;&nbsp;First look on the data</a></h3>\n",
    "\n",
    "---\n",
    "\n",
    "<h3 style=\"text-indent: 10vw; font-family: Verdana; font-size: 20px; font-style: normal; font-weight: normal; text-decoration: none; text-transform: none; letter-spacing: 2px; color: navy; background-color: #ffffff;\"><a href=\"#EDA\">IV&nbsp;&nbsp;&nbsp;&nbsp;Exploratory data analasis</a></h3>\n",
    "\n",
    "---\n",
    "\n",
    "<h3 style=\"text-indent: 10vw; font-family: Verdana; font-size: 20px; font-style: normal; font-weight: normal; text-decoration: none; text-transform: none; letter-spacing: 2px; color: navy; background-color: #ffffff;\"><a href=\"#feature_to_target\">V&nbsp;&nbsp;&nbsp;&nbsp;Feature correlation to target </a></h3>\n",
    "\n",
    "---\n",
    "\n",
    "<h3 style=\"text-indent: 10vw; font-family: Verdana; font-size: 20px; font-style: normal; font-weight: normal; text-decoration: none; text-transform: none; letter-spacing: 2px; color: navy; background-color: #ffffff;\"><a href=\"#fixing_dataset\">VI&nbsp;&nbsp;&nbsp;&nbsp;Fixing the dataset (missing values and umbalanced target) </a></h3>\n",
    "\n",
    "---\n",
    "\n",
    "<h3 style=\"text-indent: 10vw; font-family: Verdana; font-size: 20px; font-style: normal; font-weight: normal; text-decoration: none; text-transform: none; letter-spacing: 2px; color: navy; background-color: #ffffff;\"><a href=\"#modeling\">VII&nbsp;&nbsp;&nbsp;&nbsp;Modeling</a></h3>\n",
    "\n",
    "---\n",
    "\n"
   ]
  },
  {
   "cell_type": "markdown",
   "metadata": {
    "papermill": {
     "duration": 0.02525,
     "end_time": "2021-03-23T16:31:58.399543",
     "exception": false,
     "start_time": "2021-03-23T16:31:58.374293",
     "status": "completed"
    },
    "tags": []
   },
   "source": [
    "<h1 class=\"list-group-item list-group-item-action active\" id=\"intro\">0&nbsp;&nbsp;Introduction</h1>"
   ]
  },
  {
   "cell_type": "markdown",
   "metadata": {
    "papermill": {
     "duration": 0.025953,
     "end_time": "2021-03-23T16:31:58.452646",
     "exception": false,
     "start_time": "2021-03-23T16:31:58.426693",
     "status": "completed"
    },
    "tags": []
   },
   "source": [
    "**What cause a stroke**        |  **How to detect a stroke**\n",
    ":-------------------------:|:-------------------------:\n",
    "![](https://www.mayoclinic.org/-/media/kcms/gbs/patient-consumer/images/2013/11/15/17/44/ds00150_ds01030_my00077_im00074_r7_ischemicstrokethu_jpg.jpg)  |  ![](https://www.cedars-sinai.org/content/dam/cedars-sinai/blog/2019/05/signs-of-a-stroke.jpg)"
   ]
  },
  {
   "cell_type": "markdown",
   "metadata": {
    "papermill": {
     "duration": 0.025503,
     "end_time": "2021-03-23T16:31:58.504616",
     "exception": false,
     "start_time": "2021-03-23T16:31:58.479113",
     "status": "completed"
    },
    "tags": []
   },
   "source": [
    "<h1 class=\"list-group-item list-group-item-action active\" id=\"background-information\">I&nbsp;&nbsp;Background and motivation</h1>"
   ]
  },
  {
   "cell_type": "markdown",
   "metadata": {
    "papermill": {
     "duration": 0.025631,
     "end_time": "2021-03-23T16:31:58.556194",
     "exception": false,
     "start_time": "2021-03-23T16:31:58.530563",
     "status": "completed"
    },
    "tags": []
   },
   "source": [
    "- Background: **A stroke occurs when the blood supply to part of your brain is interrupted or reduced, preventing brain tissue from getting oxygen and nutrients. Brain cells begin to die in minutes.**\n",
    "  **A stroke is a medical emergency, and prompt treatment is crucial. Early action can reduce brain damage and other complications.**\n",
    "    **The good news is that many fewer Americans die of stroke now than in the past. Effective treatments can also help prevent disability from stroke.**\n",
    "\n",
    "- Motivation : **Our objective is to understand what are the reasons that cause stroke to peoeple and see if we can succefully detect stroke on some features using ML technics**"
   ]
  },
  {
   "cell_type": "markdown",
   "metadata": {
    "papermill": {
     "duration": 0.0255,
     "end_time": "2021-03-23T16:31:58.607570",
     "exception": false,
     "start_time": "2021-03-23T16:31:58.582070",
     "status": "completed"
    },
    "tags": []
   },
   "source": [
    "<h1 class=\"list-group-item list-group-item-action active\" id=\"package\">II&nbsp;&nbsp;The Package</h1>"
   ]
  },
  {
   "cell_type": "markdown",
   "metadata": {
    "papermill": {
     "duration": 0.026698,
     "end_time": "2021-03-23T16:31:58.660354",
     "exception": false,
     "start_time": "2021-03-23T16:31:58.633656",
     "status": "completed"
    },
    "tags": []
   },
   "source": [
    "![](https://media.giphy.com/media/3otPoNMCHgEfLaO1NK/giphy.gif)"
   ]
  },
  {
   "cell_type": "code",
   "execution_count": 2,
   "metadata": {
    "execution": {
     "iopub.execute_input": "2021-03-23T16:31:58.717129Z",
     "iopub.status.busy": "2021-03-23T16:31:58.716456Z",
     "iopub.status.idle": "2021-03-23T16:32:03.557277Z",
     "shell.execute_reply": "2021-03-23T16:32:03.556584Z"
    },
    "papermill": {
     "duration": 4.870456,
     "end_time": "2021-03-23T16:32:03.557505",
     "exception": false,
     "start_time": "2021-03-23T16:31:58.687049",
     "status": "completed"
    },
    "tags": []
   },
   "outputs": [
    {
     "ename": "ModuleNotFoundError",
     "evalue": "No module named 'xgboost'",
     "output_type": "error",
     "traceback": [
      "\u001b[0;31m---------------------------------------------------------------------------\u001b[0m",
      "\u001b[0;31mModuleNotFoundError\u001b[0m                       Traceback (most recent call last)",
      "\u001b[0;32m<ipython-input-2-bd03eda1de81>\u001b[0m in \u001b[0;36m<module>\u001b[0;34m\u001b[0m\n\u001b[1;32m     27\u001b[0m \u001b[0;32mfrom\u001b[0m \u001b[0msklearn\u001b[0m\u001b[0;34m.\u001b[0m\u001b[0mimpute\u001b[0m \u001b[0;32mimport\u001b[0m \u001b[0mKNNImputer\u001b[0m\u001b[0;34m\u001b[0m\u001b[0;34m\u001b[0m\u001b[0m\n\u001b[1;32m     28\u001b[0m \u001b[0;34m\u001b[0m\u001b[0m\n\u001b[0;32m---> 29\u001b[0;31m \u001b[0;32mfrom\u001b[0m \u001b[0mxgboost\u001b[0m \u001b[0;32mimport\u001b[0m \u001b[0mXGBClassifier\u001b[0m\u001b[0;34m\u001b[0m\u001b[0;34m\u001b[0m\u001b[0m\n\u001b[0m\u001b[1;32m     30\u001b[0m \u001b[0;34m\u001b[0m\u001b[0m\n\u001b[1;32m     31\u001b[0m \u001b[0;32mfrom\u001b[0m \u001b[0mcatboost\u001b[0m \u001b[0;32mimport\u001b[0m \u001b[0mCatBoostClassifier\u001b[0m\u001b[0;34m\u001b[0m\u001b[0;34m\u001b[0m\u001b[0m\n",
      "\u001b[0;31mModuleNotFoundError\u001b[0m: No module named 'xgboost'"
     ]
    }
   ],
   "source": [
    "import warnings\n",
    "warnings.filterwarnings('ignore')\n",
    "\n",
    "import numpy as np # linear algebra\n",
    "import pandas as pd # data processing, CSV file I/O (e.g. pd.read_csv)\n",
    "import seaborn as sns\n",
    "import sklearn\n",
    "\n",
    "import matplotlib.pyplot as plt\n",
    "\n",
    "\n",
    "\n",
    "from sklearn.model_selection import train_test_split\n",
    "from sklearn.model_selection import cross_val_score\n",
    "from sklearn.model_selection import StratifiedKFold\n",
    "from sklearn.model_selection import GridSearchCV\n",
    "\n",
    "from sklearn.metrics import accuracy_score, classification_report, roc_curve,precision_recall_curve, auc,confusion_matrix\n",
    "from sklearn.preprocessing import LabelEncoder\n",
    "from sklearn.linear_model import LogisticRegression\n",
    "from sklearn.tree import DecisionTreeClassifier\n",
    "from sklearn.ensemble import RandomForestClassifier\n",
    "from sklearn.ensemble import AdaBoostClassifier\n",
    "from sklearn.neighbors import KNeighborsClassifier\n",
    "from sklearn.discriminant_analysis import LinearDiscriminantAnalysis\n",
    "from sklearn.svm import SVC\n",
    "from sklearn.impute import KNNImputer\n",
    "\n",
    "from xgboost import XGBClassifier\n",
    "\n",
    "from catboost import CatBoostClassifier\n"
   ]
  },
  {
   "cell_type": "markdown",
   "metadata": {
    "papermill": {
     "duration": 0.025549,
     "end_time": "2021-03-23T16:32:03.609595",
     "exception": false,
     "start_time": "2021-03-23T16:32:03.584046",
     "status": "completed"
    },
    "tags": []
   },
   "source": [
    "<h1 class=\"list-group-item list-group-item-action active\" id=\"firstlook\">III&nbsp;&nbsp;First look of the data</h1>"
   ]
  },
  {
   "cell_type": "markdown",
   "metadata": {
    "papermill": {
     "duration": 0.025572,
     "end_time": "2021-03-23T16:32:03.660913",
     "exception": false,
     "start_time": "2021-03-23T16:32:03.635341",
     "status": "completed"
    },
    "tags": []
   },
   "source": [
    "![](https://media.giphy.com/media/gd6bBl4IExkXPK07Kx/giphy.gif)"
   ]
  },
  {
   "cell_type": "code",
   "execution_count": 4,
   "metadata": {
    "execution": {
     "iopub.execute_input": "2021-03-23T16:32:03.716303Z",
     "iopub.status.busy": "2021-03-23T16:32:03.715610Z",
     "iopub.status.idle": "2021-03-23T16:32:03.752600Z",
     "shell.execute_reply": "2021-03-23T16:32:03.753115Z"
    },
    "papermill": {
     "duration": 0.066508,
     "end_time": "2021-03-23T16:32:03.753321",
     "exception": false,
     "start_time": "2021-03-23T16:32:03.686813",
     "status": "completed"
    },
    "tags": []
   },
   "outputs": [],
   "source": [
    "df = pd.read_csv('/Users/sundeep/Learnings/1_PGP_DSBA/Project/5_HeartStroke/healthcare-dataset-stroke-data.csv')"
   ]
  },
  {
   "cell_type": "code",
   "execution_count": 5,
   "metadata": {
    "execution": {
     "iopub.execute_input": "2021-03-23T16:32:03.809884Z",
     "iopub.status.busy": "2021-03-23T16:32:03.809229Z",
     "iopub.status.idle": "2021-03-23T16:32:03.847583Z",
     "shell.execute_reply": "2021-03-23T16:32:03.848052Z"
    },
    "papermill": {
     "duration": 0.068635,
     "end_time": "2021-03-23T16:32:03.848232",
     "exception": false,
     "start_time": "2021-03-23T16:32:03.779597",
     "status": "completed"
    },
    "tags": []
   },
   "outputs": [
    {
     "data": {
      "text/html": [
       "<div>\n",
       "<style scoped>\n",
       "    .dataframe tbody tr th:only-of-type {\n",
       "        vertical-align: middle;\n",
       "    }\n",
       "\n",
       "    .dataframe tbody tr th {\n",
       "        vertical-align: top;\n",
       "    }\n",
       "\n",
       "    .dataframe thead th {\n",
       "        text-align: right;\n",
       "    }\n",
       "</style>\n",
       "<table border=\"1\" class=\"dataframe\">\n",
       "  <thead>\n",
       "    <tr style=\"text-align: right;\">\n",
       "      <th></th>\n",
       "      <th>id</th>\n",
       "      <th>gender</th>\n",
       "      <th>age</th>\n",
       "      <th>hypertension</th>\n",
       "      <th>heart_disease</th>\n",
       "      <th>ever_married</th>\n",
       "      <th>work_type</th>\n",
       "      <th>Residence_type</th>\n",
       "      <th>avg_glucose_level</th>\n",
       "      <th>bmi</th>\n",
       "      <th>smoking_status</th>\n",
       "      <th>stroke</th>\n",
       "    </tr>\n",
       "  </thead>\n",
       "  <tbody>\n",
       "    <tr>\n",
       "      <th>0</th>\n",
       "      <td>9046</td>\n",
       "      <td>Male</td>\n",
       "      <td>67.0</td>\n",
       "      <td>0</td>\n",
       "      <td>1</td>\n",
       "      <td>Yes</td>\n",
       "      <td>Private</td>\n",
       "      <td>Urban</td>\n",
       "      <td>228.69</td>\n",
       "      <td>36.6</td>\n",
       "      <td>formerly smoked</td>\n",
       "      <td>1</td>\n",
       "    </tr>\n",
       "    <tr>\n",
       "      <th>1</th>\n",
       "      <td>51676</td>\n",
       "      <td>Female</td>\n",
       "      <td>61.0</td>\n",
       "      <td>0</td>\n",
       "      <td>0</td>\n",
       "      <td>Yes</td>\n",
       "      <td>Self-employed</td>\n",
       "      <td>Rural</td>\n",
       "      <td>202.21</td>\n",
       "      <td>NaN</td>\n",
       "      <td>never smoked</td>\n",
       "      <td>1</td>\n",
       "    </tr>\n",
       "    <tr>\n",
       "      <th>2</th>\n",
       "      <td>31112</td>\n",
       "      <td>Male</td>\n",
       "      <td>80.0</td>\n",
       "      <td>0</td>\n",
       "      <td>1</td>\n",
       "      <td>Yes</td>\n",
       "      <td>Private</td>\n",
       "      <td>Rural</td>\n",
       "      <td>105.92</td>\n",
       "      <td>32.5</td>\n",
       "      <td>never smoked</td>\n",
       "      <td>1</td>\n",
       "    </tr>\n",
       "    <tr>\n",
       "      <th>3</th>\n",
       "      <td>60182</td>\n",
       "      <td>Female</td>\n",
       "      <td>49.0</td>\n",
       "      <td>0</td>\n",
       "      <td>0</td>\n",
       "      <td>Yes</td>\n",
       "      <td>Private</td>\n",
       "      <td>Urban</td>\n",
       "      <td>171.23</td>\n",
       "      <td>34.4</td>\n",
       "      <td>smokes</td>\n",
       "      <td>1</td>\n",
       "    </tr>\n",
       "    <tr>\n",
       "      <th>4</th>\n",
       "      <td>1665</td>\n",
       "      <td>Female</td>\n",
       "      <td>79.0</td>\n",
       "      <td>1</td>\n",
       "      <td>0</td>\n",
       "      <td>Yes</td>\n",
       "      <td>Self-employed</td>\n",
       "      <td>Rural</td>\n",
       "      <td>174.12</td>\n",
       "      <td>24.0</td>\n",
       "      <td>never smoked</td>\n",
       "      <td>1</td>\n",
       "    </tr>\n",
       "  </tbody>\n",
       "</table>\n",
       "</div>"
      ],
      "text/plain": [
       "      id  gender   age  hypertension  heart_disease ever_married  \\\n",
       "0   9046    Male  67.0             0              1          Yes   \n",
       "1  51676  Female  61.0             0              0          Yes   \n",
       "2  31112    Male  80.0             0              1          Yes   \n",
       "3  60182  Female  49.0             0              0          Yes   \n",
       "4   1665  Female  79.0             1              0          Yes   \n",
       "\n",
       "       work_type Residence_type  avg_glucose_level   bmi   smoking_status  \\\n",
       "0        Private          Urban             228.69  36.6  formerly smoked   \n",
       "1  Self-employed          Rural             202.21   NaN     never smoked   \n",
       "2        Private          Rural             105.92  32.5     never smoked   \n",
       "3        Private          Urban             171.23  34.4           smokes   \n",
       "4  Self-employed          Rural             174.12  24.0     never smoked   \n",
       "\n",
       "   stroke  \n",
       "0       1  \n",
       "1       1  \n",
       "2       1  \n",
       "3       1  \n",
       "4       1  "
      ]
     },
     "execution_count": 5,
     "metadata": {},
     "output_type": "execute_result"
    }
   ],
   "source": [
    "df.head()"
   ]
  },
  {
   "cell_type": "code",
   "execution_count": 6,
   "metadata": {
    "execution": {
     "iopub.execute_input": "2021-03-23T16:32:03.906528Z",
     "iopub.status.busy": "2021-03-23T16:32:03.905877Z",
     "iopub.status.idle": "2021-03-23T16:32:03.924619Z",
     "shell.execute_reply": "2021-03-23T16:32:03.925166Z"
    },
    "papermill": {
     "duration": 0.049444,
     "end_time": "2021-03-23T16:32:03.925382",
     "exception": false,
     "start_time": "2021-03-23T16:32:03.875938",
     "status": "completed"
    },
    "tags": []
   },
   "outputs": [
    {
     "data": {
      "text/html": [
       "<div>\n",
       "<style scoped>\n",
       "    .dataframe tbody tr th:only-of-type {\n",
       "        vertical-align: middle;\n",
       "    }\n",
       "\n",
       "    .dataframe tbody tr th {\n",
       "        vertical-align: top;\n",
       "    }\n",
       "\n",
       "    .dataframe thead th {\n",
       "        text-align: right;\n",
       "    }\n",
       "</style>\n",
       "<table border=\"1\" class=\"dataframe\">\n",
       "  <thead>\n",
       "    <tr style=\"text-align: right;\">\n",
       "      <th></th>\n",
       "      <th>gender</th>\n",
       "      <th>age</th>\n",
       "      <th>hypertension</th>\n",
       "      <th>heart_disease</th>\n",
       "      <th>ever_married</th>\n",
       "      <th>work_type</th>\n",
       "      <th>Residence_type</th>\n",
       "      <th>avg_glucose_level</th>\n",
       "      <th>bmi</th>\n",
       "      <th>smoking_status</th>\n",
       "      <th>stroke</th>\n",
       "    </tr>\n",
       "  </thead>\n",
       "  <tbody>\n",
       "    <tr>\n",
       "      <th>0</th>\n",
       "      <td>Male</td>\n",
       "      <td>67.0</td>\n",
       "      <td>0</td>\n",
       "      <td>1</td>\n",
       "      <td>Yes</td>\n",
       "      <td>Private</td>\n",
       "      <td>Urban</td>\n",
       "      <td>228.69</td>\n",
       "      <td>36.6</td>\n",
       "      <td>formerly smoked</td>\n",
       "      <td>1</td>\n",
       "    </tr>\n",
       "    <tr>\n",
       "      <th>1</th>\n",
       "      <td>Female</td>\n",
       "      <td>61.0</td>\n",
       "      <td>0</td>\n",
       "      <td>0</td>\n",
       "      <td>Yes</td>\n",
       "      <td>Self-employed</td>\n",
       "      <td>Rural</td>\n",
       "      <td>202.21</td>\n",
       "      <td>NaN</td>\n",
       "      <td>never smoked</td>\n",
       "      <td>1</td>\n",
       "    </tr>\n",
       "    <tr>\n",
       "      <th>2</th>\n",
       "      <td>Male</td>\n",
       "      <td>80.0</td>\n",
       "      <td>0</td>\n",
       "      <td>1</td>\n",
       "      <td>Yes</td>\n",
       "      <td>Private</td>\n",
       "      <td>Rural</td>\n",
       "      <td>105.92</td>\n",
       "      <td>32.5</td>\n",
       "      <td>never smoked</td>\n",
       "      <td>1</td>\n",
       "    </tr>\n",
       "    <tr>\n",
       "      <th>3</th>\n",
       "      <td>Female</td>\n",
       "      <td>49.0</td>\n",
       "      <td>0</td>\n",
       "      <td>0</td>\n",
       "      <td>Yes</td>\n",
       "      <td>Private</td>\n",
       "      <td>Urban</td>\n",
       "      <td>171.23</td>\n",
       "      <td>34.4</td>\n",
       "      <td>smokes</td>\n",
       "      <td>1</td>\n",
       "    </tr>\n",
       "    <tr>\n",
       "      <th>4</th>\n",
       "      <td>Female</td>\n",
       "      <td>79.0</td>\n",
       "      <td>1</td>\n",
       "      <td>0</td>\n",
       "      <td>Yes</td>\n",
       "      <td>Self-employed</td>\n",
       "      <td>Rural</td>\n",
       "      <td>174.12</td>\n",
       "      <td>24.0</td>\n",
       "      <td>never smoked</td>\n",
       "      <td>1</td>\n",
       "    </tr>\n",
       "  </tbody>\n",
       "</table>\n",
       "</div>"
      ],
      "text/plain": [
       "   gender   age  hypertension  heart_disease ever_married      work_type  \\\n",
       "0    Male  67.0             0              1          Yes        Private   \n",
       "1  Female  61.0             0              0          Yes  Self-employed   \n",
       "2    Male  80.0             0              1          Yes        Private   \n",
       "3  Female  49.0             0              0          Yes        Private   \n",
       "4  Female  79.0             1              0          Yes  Self-employed   \n",
       "\n",
       "  Residence_type  avg_glucose_level   bmi   smoking_status  stroke  \n",
       "0          Urban             228.69  36.6  formerly smoked       1  \n",
       "1          Rural             202.21   NaN     never smoked       1  \n",
       "2          Rural             105.92  32.5     never smoked       1  \n",
       "3          Urban             171.23  34.4           smokes       1  \n",
       "4          Rural             174.12  24.0     never smoked       1  "
      ]
     },
     "execution_count": 6,
     "metadata": {},
     "output_type": "execute_result"
    }
   ],
   "source": [
    "df = df.drop('id', axis=1)\n",
    "df.head()"
   ]
  },
  {
   "cell_type": "code",
   "execution_count": 7,
   "metadata": {
    "execution": {
     "iopub.execute_input": "2021-03-23T16:32:03.983922Z",
     "iopub.status.busy": "2021-03-23T16:32:03.983220Z",
     "iopub.status.idle": "2021-03-23T16:32:04.003769Z",
     "shell.execute_reply": "2021-03-23T16:32:04.004962Z"
    },
    "papermill": {
     "duration": 0.052364,
     "end_time": "2021-03-23T16:32:04.005226",
     "exception": false,
     "start_time": "2021-03-23T16:32:03.952862",
     "status": "completed"
    },
    "tags": []
   },
   "outputs": [
    {
     "name": "stdout",
     "output_type": "stream",
     "text": [
      "<class 'pandas.core.frame.DataFrame'>\n",
      "RangeIndex: 5110 entries, 0 to 5109\n",
      "Data columns (total 11 columns):\n",
      " #   Column             Non-Null Count  Dtype  \n",
      "---  ------             --------------  -----  \n",
      " 0   gender             5110 non-null   object \n",
      " 1   age                5110 non-null   float64\n",
      " 2   hypertension       5110 non-null   int64  \n",
      " 3   heart_disease      5110 non-null   int64  \n",
      " 4   ever_married       5110 non-null   object \n",
      " 5   work_type          5110 non-null   object \n",
      " 6   Residence_type     5110 non-null   object \n",
      " 7   avg_glucose_level  5110 non-null   float64\n",
      " 8   bmi                4909 non-null   float64\n",
      " 9   smoking_status     5110 non-null   object \n",
      " 10  stroke             5110 non-null   int64  \n",
      "dtypes: float64(3), int64(3), object(5)\n",
      "memory usage: 439.3+ KB\n"
     ]
    }
   ],
   "source": [
    "df.info()"
   ]
  },
  {
   "cell_type": "code",
   "execution_count": 8,
   "metadata": {
    "execution": {
     "iopub.execute_input": "2021-03-23T16:32:04.067095Z",
     "iopub.status.busy": "2021-03-23T16:32:04.066404Z",
     "iopub.status.idle": "2021-03-23T16:32:04.077922Z",
     "shell.execute_reply": "2021-03-23T16:32:04.077338Z"
    },
    "papermill": {
     "duration": 0.043034,
     "end_time": "2021-03-23T16:32:04.078071",
     "exception": false,
     "start_time": "2021-03-23T16:32:04.035037",
     "status": "completed"
    },
    "tags": []
   },
   "outputs": [
    {
     "data": {
      "text/plain": [
       "gender                 0\n",
       "age                    0\n",
       "hypertension           0\n",
       "heart_disease          0\n",
       "ever_married           0\n",
       "work_type              0\n",
       "Residence_type         0\n",
       "avg_glucose_level      0\n",
       "bmi                  201\n",
       "smoking_status         0\n",
       "stroke                 0\n",
       "dtype: int64"
      ]
     },
     "execution_count": 8,
     "metadata": {},
     "output_type": "execute_result"
    }
   ],
   "source": [
    "df.isnull().sum()"
   ]
  },
  {
   "cell_type": "code",
   "execution_count": 9,
   "metadata": {
    "execution": {
     "iopub.execute_input": "2021-03-23T16:32:04.139519Z",
     "iopub.status.busy": "2021-03-23T16:32:04.138890Z",
     "iopub.status.idle": "2021-03-23T16:32:04.308695Z",
     "shell.execute_reply": "2021-03-23T16:32:04.309187Z"
    },
    "papermill": {
     "duration": 0.202198,
     "end_time": "2021-03-23T16:32:04.309376",
     "exception": false,
     "start_time": "2021-03-23T16:32:04.107178",
     "status": "completed"
    },
    "tags": []
   },
   "outputs": [
    {
     "data": {
      "image/png": "[encoded data removed]",
      "text/plain": [
       "<Figure size 504x504 with 1 Axes>"
      ]
     },
     "metadata": {},
     "output_type": "display_data"
    }
   ],
   "source": [
    "labels =df['stroke'].value_counts(sort = True).index\n",
    "sizes = df['stroke'].value_counts(sort = True)\n",
    "\n",
    "colors = [\"lightblue\",\"red\"]\n",
    "explode = (0.05,0) \n",
    " \n",
    "plt.figure(figsize=(7,7))\n",
    "plt.pie(sizes, explode=explode, labels=labels, colors=colors, autopct='%1.1f%%', shadow=True, startangle=90,)\n",
    "\n",
    "plt.title('Number of stroke in the dataset')\n",
    "plt.show()"
   ]
  },
  {
   "cell_type": "code",
   "execution_count": 10,
   "metadata": {
    "execution": {
     "iopub.execute_input": "2021-03-23T16:32:04.375871Z",
     "iopub.status.busy": "2021-03-23T16:32:04.373705Z",
     "iopub.status.idle": "2021-03-23T16:32:04.406651Z",
     "shell.execute_reply": "2021-03-23T16:32:04.406097Z"
    },
    "papermill": {
     "duration": 0.066447,
     "end_time": "2021-03-23T16:32:04.406793",
     "exception": false,
     "start_time": "2021-03-23T16:32:04.340346",
     "status": "completed"
    },
    "tags": []
   },
   "outputs": [
    {
     "data": {
      "text/html": [
       "<div>\n",
       "<style scoped>\n",
       "    .dataframe tbody tr th:only-of-type {\n",
       "        vertical-align: middle;\n",
       "    }\n",
       "\n",
       "    .dataframe tbody tr th {\n",
       "        vertical-align: top;\n",
       "    }\n",
       "\n",
       "    .dataframe thead th {\n",
       "        text-align: right;\n",
       "    }\n",
       "</style>\n",
       "<table border=\"1\" class=\"dataframe\">\n",
       "  <thead>\n",
       "    <tr style=\"text-align: right;\">\n",
       "      <th></th>\n",
       "      <th>gender</th>\n",
       "      <th>age</th>\n",
       "      <th>hypertension</th>\n",
       "      <th>heart_disease</th>\n",
       "      <th>ever_married</th>\n",
       "      <th>work_type</th>\n",
       "      <th>Residence_type</th>\n",
       "      <th>avg_glucose_level</th>\n",
       "      <th>bmi</th>\n",
       "      <th>smoking_status</th>\n",
       "      <th>stroke</th>\n",
       "    </tr>\n",
       "  </thead>\n",
       "  <tbody>\n",
       "    <tr>\n",
       "      <th>0</th>\n",
       "      <td>1</td>\n",
       "      <td>88</td>\n",
       "      <td>0</td>\n",
       "      <td>1</td>\n",
       "      <td>1</td>\n",
       "      <td>2</td>\n",
       "      <td>1</td>\n",
       "      <td>3850</td>\n",
       "      <td>239</td>\n",
       "      <td>1</td>\n",
       "      <td>1</td>\n",
       "    </tr>\n",
       "    <tr>\n",
       "      <th>1</th>\n",
       "      <td>0</td>\n",
       "      <td>82</td>\n",
       "      <td>0</td>\n",
       "      <td>0</td>\n",
       "      <td>1</td>\n",
       "      <td>3</td>\n",
       "      <td>0</td>\n",
       "      <td>3588</td>\n",
       "      <td>475</td>\n",
       "      <td>2</td>\n",
       "      <td>1</td>\n",
       "    </tr>\n",
       "    <tr>\n",
       "      <th>2</th>\n",
       "      <td>1</td>\n",
       "      <td>101</td>\n",
       "      <td>0</td>\n",
       "      <td>1</td>\n",
       "      <td>1</td>\n",
       "      <td>2</td>\n",
       "      <td>0</td>\n",
       "      <td>2483</td>\n",
       "      <td>198</td>\n",
       "      <td>2</td>\n",
       "      <td>1</td>\n",
       "    </tr>\n",
       "    <tr>\n",
       "      <th>3</th>\n",
       "      <td>0</td>\n",
       "      <td>70</td>\n",
       "      <td>0</td>\n",
       "      <td>0</td>\n",
       "      <td>1</td>\n",
       "      <td>2</td>\n",
       "      <td>1</td>\n",
       "      <td>3385</td>\n",
       "      <td>217</td>\n",
       "      <td>3</td>\n",
       "      <td>1</td>\n",
       "    </tr>\n",
       "    <tr>\n",
       "      <th>4</th>\n",
       "      <td>0</td>\n",
       "      <td>100</td>\n",
       "      <td>1</td>\n",
       "      <td>0</td>\n",
       "      <td>1</td>\n",
       "      <td>3</td>\n",
       "      <td>0</td>\n",
       "      <td>3394</td>\n",
       "      <td>113</td>\n",
       "      <td>2</td>\n",
       "      <td>1</td>\n",
       "    </tr>\n",
       "  </tbody>\n",
       "</table>\n",
       "</div>"
      ],
      "text/plain": [
       "   gender  age  hypertension  heart_disease  ever_married  work_type  \\\n",
       "0       1   88             0              1             1          2   \n",
       "1       0   82             0              0             1          3   \n",
       "2       1  101             0              1             1          2   \n",
       "3       0   70             0              0             1          2   \n",
       "4       0  100             1              0             1          3   \n",
       "\n",
       "   Residence_type  avg_glucose_level  bmi  smoking_status  stroke  \n",
       "0               1               3850  239               1       1  \n",
       "1               0               3588  475               2       1  \n",
       "2               0               2483  198               2       1  \n",
       "3               1               3385  217               3       1  \n",
       "4               0               3394  113               2       1  "
      ]
     },
     "execution_count": 10,
     "metadata": {},
     "output_type": "execute_result"
    }
   ],
   "source": [
    "#  Using Lable encoding\n",
    "le = LabelEncoder()\n",
    "en_df = df.apply(le.fit_transform)\n",
    "en_df.head()"
   ]
  },
  {
   "cell_type": "markdown",
   "metadata": {
    "papermill": {
     "duration": 0.030228,
     "end_time": "2021-03-23T16:32:04.467537",
     "exception": false,
     "start_time": "2021-03-23T16:32:04.437309",
     "status": "completed"
    },
    "tags": []
   },
   "source": [
    "\n",
    "<div class=\"alert alert-danger\" role=\"alert\">\n",
    "  <h4 class=\"alert-heading\">⛔️⛔️⛔️</h4>\n",
    "  <p>Just by this brief looking we report two things this dataset is very unbanlaced and also we go some missing values on the BMI feauture.</p>\n",
    "  <hr>\n",
    "  <p class=\"mb-0\">Before using any modeling we should solve issues</p>\n",
    "</div>\n",
    "\n"
   ]
  },
  {
   "cell_type": "markdown",
   "metadata": {
    "papermill": {
     "duration": 0.03038,
     "end_time": "2021-03-23T16:32:04.528415",
     "exception": false,
     "start_time": "2021-03-23T16:32:04.498035",
     "status": "completed"
    },
    "tags": []
   },
   "source": [
    "<h1 class=\"list-group-item list-group-item-action active\" id=\"EDA\">IV&nbsp;&nbsp;Exploratory data analysis (EDA)</h1>"
   ]
  },
  {
   "cell_type": "code",
   "execution_count": 11,
   "metadata": {
    "execution": {
     "iopub.execute_input": "2021-03-23T16:32:04.595436Z",
     "iopub.status.busy": "2021-03-23T16:32:04.594767Z",
     "iopub.status.idle": "2021-03-23T16:32:04.598045Z",
     "shell.execute_reply": "2021-03-23T16:32:04.597359Z"
    },
    "papermill": {
     "duration": 0.039572,
     "end_time": "2021-03-23T16:32:04.598195",
     "exception": false,
     "start_time": "2021-03-23T16:32:04.558623",
     "status": "completed"
    },
    "tags": []
   },
   "outputs": [],
   "source": [
    "def plot_hist(col, bins=30, title=\"\",xlabel=\"\",ax=None):\n",
    "    sns.distplot(col, bins=bins,ax=ax)\n",
    "    ax.set_title(f'Histogram of {title}',fontsize=20)\n",
    "    ax.set_xlabel(xlabel)"
   ]
  },
  {
   "cell_type": "code",
   "execution_count": 12,
   "metadata": {
    "execution": {
     "iopub.execute_input": "2021-03-23T16:32:04.684044Z",
     "iopub.status.busy": "2021-03-23T16:32:04.682953Z",
     "iopub.status.idle": "2021-03-23T16:32:05.632093Z",
     "shell.execute_reply": "2021-03-23T16:32:05.631374Z"
    },
    "papermill": {
     "duration": 1.003332,
     "end_time": "2021-03-23T16:32:05.632257",
     "exception": false,
     "start_time": "2021-03-23T16:32:04.628925",
     "status": "completed"
    },
    "tags": []
   },
   "outputs": [
    {
     "data": {
      "image/png": "[encoded data removed]",
      "text/plain": [
       "<Figure size 792x504 with 3 Axes>"
      ]
     },
     "metadata": {
      "needs_background": "light"
     },
     "output_type": "display_data"
    }
   ],
   "source": [
    "fig, axes = plt.subplots(1,3,figsize=(11,7),constrained_layout=True)\n",
    "plot_hist(df.bmi,\n",
    "          title='Bmi',\n",
    "          xlabel=\"Level of the BMI\",\n",
    "          ax=axes[0])\n",
    "plot_hist(df.age,\n",
    "          bins=30,\n",
    "          title='Age',\n",
    "          xlabel='Age',\n",
    "          ax=axes[1])\n",
    "plot_hist(df.avg_glucose_level,\n",
    "          title='Serum Creatinine', \n",
    "          xlabel='Level of serum creatinine in the blood (mg/dL)',\n",
    "          ax=axes[2])\n",
    "\n",
    "plt.show()\n",
    "\n"
   ]
  },
  {
   "cell_type": "code",
   "execution_count": 13,
   "metadata": {
    "execution": {
     "iopub.execute_input": "2021-03-23T16:32:05.705156Z",
     "iopub.status.busy": "2021-03-23T16:32:05.704407Z",
     "iopub.status.idle": "2021-03-23T16:32:06.034973Z",
     "shell.execute_reply": "2021-03-23T16:32:06.035522Z"
    },
    "papermill": {
     "duration": 0.370643,
     "end_time": "2021-03-23T16:32:06.035699",
     "exception": false,
     "start_time": "2021-03-23T16:32:05.665056",
     "status": "completed"
    },
    "tags": []
   },
   "outputs": [
    {
     "data": {
      "text/plain": [
       "<seaborn.axisgrid.FacetGrid at 0x7fb084bca7f0>"
      ]
     },
     "execution_count": 13,
     "metadata": {},
     "output_type": "execute_result"
    },
    {
     "data": {
      "image/png": "[encoded data removed]",
      "text/plain": [
       "<Figure size 402.375x360 with 1 Axes>"
      ]
     },
     "metadata": {
      "needs_background": "light"
     },
     "output_type": "display_data"
    }
   ],
   "source": [
    "sns.catplot(y=\"work_type\", hue=\"stroke\", kind=\"count\",\n",
    "            palette=\"pastel\", edgecolor=\".6\",\n",
    "            data=df)"
   ]
  },
  {
   "cell_type": "code",
   "execution_count": 14,
   "metadata": {
    "execution": {
     "iopub.execute_input": "2021-03-23T16:32:06.117704Z",
     "iopub.status.busy": "2021-03-23T16:32:06.116601Z",
     "iopub.status.idle": "2021-03-23T16:32:06.433706Z",
     "shell.execute_reply": "2021-03-23T16:32:06.432631Z"
    },
    "papermill": {
     "duration": 0.363223,
     "end_time": "2021-03-23T16:32:06.433897",
     "exception": false,
     "start_time": "2021-03-23T16:32:06.070674",
     "status": "completed"
    },
    "tags": []
   },
   "outputs": [
    {
     "data": {
      "text/plain": [
       "<seaborn.axisgrid.FacetGrid at 0x7fb08534f130>"
      ]
     },
     "execution_count": 14,
     "metadata": {},
     "output_type": "execute_result"
    },
    {
     "data": {
      "image/png": "[encoded data removed]",
      "text/plain": [
       "<Figure size 402.375x360 with 1 Axes>"
      ]
     },
     "metadata": {
      "needs_background": "light"
     },
     "output_type": "display_data"
    }
   ],
   "source": [
    "sns.catplot(y=\"smoking_status\", hue=\"stroke\", kind=\"count\",\n",
    "            palette=\"pastel\", edgecolor=\".6\",\n",
    "            data=df)"
   ]
  },
  {
   "cell_type": "markdown",
   "metadata": {
    "papermill": {
     "duration": 0.034659,
     "end_time": "2021-03-23T16:32:06.503514",
     "exception": false,
     "start_time": "2021-03-23T16:32:06.468855",
     "status": "completed"
    },
    "tags": []
   },
   "source": [
    "<div class=\"alert alert-warning\" role=\"alert\">\n",
    "  <h4 class=\"alert-heading\">Observation 🔎🔎🔎.</h4>\n",
    "  <p> 📌 1. In term of proportion private and self-employed have the similar amount of people having a stroke. However people from the gouvernment are more likely to not have a stroke compared to both first gategories moreover chlidren are not very likekly to get a stroke. Maybe that could be explain due to the degree of pressure felt by workers</p>\n",
    "  <hr>\n",
    "  <p class=\"mb-0\"> 📌 2. Surprisingly, it seems that the stroke is not highly corralated to smokers since the proportion of person having a stroke is fairly the same among the different smoking status.</p>\n",
    "</div>"
   ]
  },
  {
   "cell_type": "code",
   "execution_count": 15,
   "metadata": {
    "execution": {
     "iopub.execute_input": "2021-03-23T16:32:06.583977Z",
     "iopub.status.busy": "2021-03-23T16:32:06.582956Z",
     "iopub.status.idle": "2021-03-23T16:32:08.042061Z",
     "shell.execute_reply": "2021-03-23T16:32:08.041440Z"
    },
    "papermill": {
     "duration": 1.503779,
     "end_time": "2021-03-23T16:32:08.042218",
     "exception": false,
     "start_time": "2021-03-23T16:32:06.538439",
     "status": "completed"
    },
    "tags": []
   },
   "outputs": [
    {
     "data": {
      "text/plain": [
       "<Figure size 1224x504 with 0 Axes>"
      ]
     },
     "metadata": {},
     "output_type": "display_data"
    },
    {
     "data": {
      "image/png": "[encoded data removed]",
      "text/plain": [
       "<Figure size 437.75x360 with 1 Axes>"
      ]
     },
     "metadata": {
      "needs_background": "light"
     },
     "output_type": "display_data"
    },
    {
     "data": {
      "image/png": "[encoded data removed]",
      "text/plain": [
       "<Figure size 446.25x360 with 1 Axes>"
      ]
     },
     "metadata": {
      "needs_background": "light"
     },
     "output_type": "display_data"
    },
    {
     "data": {
      "image/png": "[encoded data removed]",
      "text/plain": [
       "<Figure size 433.625x360 with 1 Axes>"
      ]
     },
     "metadata": {
      "needs_background": "light"
     },
     "output_type": "display_data"
    }
   ],
   "source": [
    "plt.figure(figsize=(17,7))\n",
    "sns.catplot(x=\"gender\", y=\"stroke\", hue=\"heart_disease\", palette=\"pastel\", kind=\"bar\", data=df)\n",
    "sns.catplot(x=\"gender\", y=\"stroke\", hue=\"Residence_type\", palette=\"pastel\", kind=\"bar\", data=df)\n",
    "sns.catplot(x=\"gender\", y=\"stroke\", hue=\"hypertension\", palette=\"pastel\", kind=\"bar\", data=df)\n",
    "plt.show()\n"
   ]
  },
  {
   "cell_type": "markdown",
   "metadata": {
    "papermill": {
     "duration": 0.037604,
     "end_time": "2021-03-23T16:32:08.117962",
     "exception": false,
     "start_time": "2021-03-23T16:32:08.080358",
     "status": "completed"
    },
    "tags": []
   },
   "source": [
    "<div class=\"alert alert-warning\" role=\"alert\">\n",
    "  <h4 class=\"alert-heading\">Observation 🔎🔎🔎.</h4>\n",
    "  <p>📌 1. We can see from the plots that the gender is not a feature that descriminate a person having a stroke or not.</p>\n",
    "  <hr>\n",
    "  <p>📌 2. Hypertension and heart disease features are correlated to stroke as we could expect.</p>\n",
    "  <hr>\n",
    "  <p>📌 3. Rural person are less prone to strole than urban people, it seems that the polution is a correlatede to having stroke.</p>\n",
    "  <hr>\n",
    "   \n",
    "</div>\n"
   ]
  },
  {
   "cell_type": "code",
   "execution_count": null,
   "metadata": {
    "execution": {
     "iopub.execute_input": "2021-03-23T16:32:08.209424Z",
     "iopub.status.busy": "2021-03-23T16:32:08.203106Z",
     "iopub.status.idle": "2021-03-23T16:32:08.327016Z",
     "shell.execute_reply": "2021-03-23T16:32:08.326283Z"
    },
    "papermill": {
     "duration": 0.171751,
     "end_time": "2021-03-23T16:32:08.327180",
     "exception": false,
     "start_time": "2021-03-23T16:32:08.155429",
     "status": "completed"
    },
    "tags": []
   },
   "outputs": [],
   "source": [
    "len_data = len(df)\n",
    "len_w = len(df[df[\"gender\"]==\"Male\"])\n",
    "len_m = len_data - len_w\n",
    "\n",
    "men_stroke = len(df.loc[(df[\"stroke\"]==1)&(df['gender']==\"Male\")])\n",
    "men_no_stroke = len_m - men_stroke\n",
    "\n",
    "women_stroke = len(df.loc[(df[\"stroke\"]==1) & (df['gender']==\"Female\")])\n",
    "women_no_stroke = len_w - women_stroke\n",
    "\n",
    "labels = ['Men with stroke','Men healthy','Women with stroke','Women healthy']\n",
    "values = [men_stroke, men_no_stroke, women_stroke, women_no_stroke]\n",
    "\n",
    "fig = go.Figure(data=[go.Pie(labels=labels, values=values,textinfo='label+percent',hole=0.4)])\n",
    "fig.update_layout(\n",
    "    title_text=\"Distribution of stroke EVENT according to their gender\")\n",
    "fig.show()"
   ]
  },
  {
   "cell_type": "code",
   "execution_count": null,
   "metadata": {
    "execution": {
     "iopub.execute_input": "2021-03-23T16:32:08.412994Z",
     "iopub.status.busy": "2021-03-23T16:32:08.412202Z",
     "iopub.status.idle": "2021-03-23T16:32:08.416493Z",
     "shell.execute_reply": "2021-03-23T16:32:08.417046Z"
    },
    "papermill": {
     "duration": 0.050105,
     "end_time": "2021-03-23T16:32:08.417240",
     "exception": false,
     "start_time": "2021-03-23T16:32:08.367135",
     "status": "completed"
    },
    "tags": []
   },
   "outputs": [],
   "source": [
    "df.columns"
   ]
  },
  {
   "cell_type": "markdown",
   "metadata": {
    "papermill": {
     "duration": 0.039207,
     "end_time": "2021-03-23T16:32:08.498324",
     "exception": false,
     "start_time": "2021-03-23T16:32:08.459117",
     "status": "completed"
    },
    "tags": []
   },
   "source": [
    "<h1 class=\"list-group-item list-group-item-action active\" id=\"feature_to_target\">V&nbsp;&nbsp;Feature correlation to target</h1>"
   ]
  },
  {
   "cell_type": "code",
   "execution_count": null,
   "metadata": {
    "_kg_hide-input": true,
    "execution": {
     "iopub.execute_input": "2021-03-23T16:32:08.596870Z",
     "iopub.status.busy": "2021-03-23T16:32:08.596127Z",
     "iopub.status.idle": "2021-03-23T16:32:10.466609Z",
     "shell.execute_reply": "2021-03-23T16:32:10.467132Z"
    },
    "papermill": {
     "duration": 1.929528,
     "end_time": "2021-03-23T16:32:10.467305",
     "exception": false,
     "start_time": "2021-03-23T16:32:08.537777",
     "status": "completed"
    },
    "tags": []
   },
   "outputs": [],
   "source": [
    "fig = px.parallel_categories(df[['gender', 'age', 'hypertension', 'heart_disease', 'ever_married',\n",
    "       'work_type', 'Residence_type',\n",
    "       'smoking_status', 'stroke']], color='stroke', color_continuous_scale=px.colors.sequential.Inferno)\n",
    "fig.show()\n",
    "\n"
   ]
  },
  {
   "cell_type": "markdown",
   "metadata": {
    "papermill": {
     "duration": 0.049543,
     "end_time": "2021-03-23T16:32:10.566564",
     "exception": false,
     "start_time": "2021-03-23T16:32:10.517021",
     "status": "completed"
    },
    "tags": []
   },
   "source": [
    "<div class=\"alert alert-info\" role=\"alert\">\n",
    "  I really like to plot this kind of map in order to have global view what brings you to a certain, in our case is stroke.\n",
    "</div>"
   ]
  },
  {
   "cell_type": "code",
   "execution_count": 44,
   "metadata": {
    "_kg_hide-input": true,
    "execution": {
     "iopub.execute_input": "2021-03-23T16:32:10.678736Z",
     "iopub.status.busy": "2021-03-23T16:32:10.674914Z",
     "iopub.status.idle": "2021-03-23T16:32:10.918787Z",
     "shell.execute_reply": "2021-03-23T16:32:10.918239Z"
    },
    "papermill": {
     "duration": 0.302554,
     "end_time": "2021-03-23T16:32:10.918947",
     "exception": false,
     "start_time": "2021-03-23T16:32:10.616393",
     "status": "completed"
    },
    "tags": []
   },
   "outputs": [
    {
     "data": {
      "image/png": "[encoded data removed]",
      "text/plain": [
       "<Figure size 720x432 with 1 Axes>"
      ]
     },
     "metadata": {},
     "output_type": "display_data"
    }
   ],
   "source": [
    "features=['gender', 'age', 'hypertension', 'heart_disease', 'ever_married',\n",
    "       'work_type', 'Residence_type',\n",
    "       'smoking_status']\n",
    "from matplotlib.offsetbox import AnchoredText\n",
    "correlation_table = []\n",
    "for cols in features:\n",
    "    y = en_df[\"stroke\"]\n",
    "    x = en_df[cols]\n",
    "    corr = np.corrcoef(x, y)[1][0]\n",
    "    dict ={\n",
    "        'Features': cols,\n",
    "        'Correlation coefficient' : corr,\n",
    "        'Feat_type': 'numerical'\n",
    "    }\n",
    "    correlation_table.append(dict)\n",
    "dF1 = pd.DataFrame(correlation_table)\n",
    "fig = plt.figure(figsize=(10,6), facecolor='#EAECEE')\n",
    "ax = sns.barplot(x=\"Correlation coefficient\", y=\"Features\", \n",
    "                     data=dF1.sort_values(\"Correlation coefficient\", ascending=False),\n",
    "                     palette='viridis', alpha=0.75)\n",
    "ax.grid()\n",
    "title =  'Correlation features with target'\n",
    "sub_title = 'In comparison with categorical features \\\n",
    "\\nnumericals are less correlated with target.'\n",
    "plt.gcf().text(0.05, 1.02, title, fontsize=24)\n",
    "at1 = AnchoredText(sub_title,\n",
    "                   loc='lower left', frameon=True,\n",
    "                   bbox_to_anchor=(-0.1, 1.01),\n",
    "                   bbox_transform=ax.transAxes,\n",
    "                   #prop=dict(size=8),\n",
    "                   )\n",
    "at1.patch.set_boxstyle(\"round,pad=0.,rounding_size=0.2\")\n",
    "ax.add_artist(at1);"
   ]
  },
  {
   "cell_type": "code",
   "execution_count": 45,
   "metadata": {
    "execution": {
     "iopub.execute_input": "2021-03-23T16:32:11.031437Z",
     "iopub.status.busy": "2021-03-23T16:32:11.030607Z",
     "iopub.status.idle": "2021-03-23T16:32:11.411713Z",
     "shell.execute_reply": "2021-03-23T16:32:11.410618Z"
    },
    "papermill": {
     "duration": 0.440549,
     "end_time": "2021-03-23T16:32:11.411907",
     "exception": false,
     "start_time": "2021-03-23T16:32:10.971358",
     "status": "completed"
    },
    "tags": []
   },
   "outputs": [
    {
     "data": {
      "image/png": "[encoded data removed]",
      "text/plain": [
       "<Figure size 1152x576 with 2 Axes>"
      ]
     },
     "metadata": {
      "needs_background": "light"
     },
     "output_type": "display_data"
    }
   ],
   "source": [
    "plt.figure(figsize=(16,8))\n",
    "sns.heatmap(en_df.corr(),cmap=\"Blues\");"
   ]
  },
  {
   "cell_type": "code",
   "execution_count": null,
   "metadata": {
    "execution": {
     "iopub.execute_input": "2021-03-23T16:32:11.533935Z",
     "iopub.status.busy": "2021-03-23T16:32:11.533216Z",
     "iopub.status.idle": "2021-03-23T16:32:12.605279Z",
     "shell.execute_reply": "2021-03-23T16:32:12.604638Z"
    },
    "papermill": {
     "duration": 1.13842,
     "end_time": "2021-03-23T16:32:12.605424",
     "exception": false,
     "start_time": "2021-03-23T16:32:11.467004",
     "status": "completed"
    },
    "tags": []
   },
   "outputs": [],
   "source": [
    "from sklearn.ensemble import ExtraTreesClassifier\n",
    "\n",
    "X = en_df[features]\n",
    "y = en_df['stroke']\n",
    "forest = ExtraTreesClassifier(n_estimators=250,\n",
    "                              random_state=0)\n",
    "forest.fit(X, y)\n",
    "importances = forest.feature_importances_\n",
    "std = np.std([tree.feature_importances_ for tree in forest.estimators_],\n",
    "             axis=0)\n",
    "indices = np.argsort(importances)[::-1]\n",
    "\n",
    "# Print the feature ranking\n",
    "print(\"Feature ranking:\")\n",
    "\n",
    "for f in range(X.shape[1]):\n",
    "    print(\"%d. feature %d (%f)\" % (f + 1, indices[f], importances[indices[f]]))\n",
    "\n",
    "    \n",
    "    \n",
    "# Plot the impurity-based feature importances of the forest\n",
    "plt.figure()\n",
    "\n",
    "plt.title(\"Feature importances\")\n",
    "sns.barplot(x=np.array(features)[indices], y=importances[indices], palette=\"deep\",yerr=std[indices])\n",
    "plt.xticks(range(X.shape[1]), np.array(features)[indices],rotation=60)\n",
    "plt.xlim([-1, X.shape[1]])\n",
    "plt.show()"
   ]
  },
  {
   "cell_type": "markdown",
   "metadata": {
    "papermill": {
     "duration": 0.053885,
     "end_time": "2021-03-23T16:32:12.714644",
     "exception": false,
     "start_time": "2021-03-23T16:32:12.660759",
     "status": "completed"
    },
    "tags": []
   },
   "source": [
    "<h1 class=\"list-group-item list-group-item-action active\" id=\"fixing_dataset\">VI&nbsp;&nbsp;Fixing the dataset (Missing values and umblanced target class)</h1>"
   ]
  },
  {
   "cell_type": "markdown",
   "metadata": {
    "papermill": {
     "duration": 0.05516,
     "end_time": "2021-03-23T16:32:12.826862",
     "exception": false,
     "start_time": "2021-03-23T16:32:12.771702",
     "status": "completed"
    },
    "tags": []
   },
   "source": [
    " <div class=\"alert alert-success\" role=\"alert\">\n",
    "  <p>💡 In order to make the dataset balanced we will use the package SMOTE for oversampling. Moreover to fix the missing values in the BMI columns we use a imputation technics based on the KNN. </p>\n",
    "  <hr>\n",
    "</div>\n",
    "\n"
   ]
  },
  {
   "cell_type": "code",
   "execution_count": null,
   "metadata": {
    "execution": {
     "iopub.execute_input": "2021-03-23T16:32:12.947894Z",
     "iopub.status.busy": "2021-03-23T16:32:12.946790Z",
     "iopub.status.idle": "2021-03-23T16:32:12.955121Z",
     "shell.execute_reply": "2021-03-23T16:32:12.954491Z"
    },
    "papermill": {
     "duration": 0.072841,
     "end_time": "2021-03-23T16:32:12.955283",
     "exception": false,
     "start_time": "2021-03-23T16:32:12.882442",
     "status": "completed"
    },
    "tags": []
   },
   "outputs": [],
   "source": [
    "en_df_imputed = en_df\n",
    "imputer = KNNImputer(n_neighbors=4, weights=\"uniform\")\n",
    "imputer.fit_transform(en_df_imputed)\n"
   ]
  },
  {
   "cell_type": "code",
   "execution_count": null,
   "metadata": {
    "execution": {
     "iopub.execute_input": "2021-03-23T16:32:13.074808Z",
     "iopub.status.busy": "2021-03-23T16:32:13.074037Z",
     "iopub.status.idle": "2021-03-23T16:32:13.078300Z",
     "shell.execute_reply": "2021-03-23T16:32:13.077805Z"
    },
    "papermill": {
     "duration": 0.06766,
     "end_time": "2021-03-23T16:32:13.078450",
     "exception": false,
     "start_time": "2021-03-23T16:32:13.010790",
     "status": "completed"
    },
    "tags": []
   },
   "outputs": [],
   "source": [
    "en_df_imputed.isnull().sum()"
   ]
  },
  {
   "cell_type": "code",
   "execution_count": null,
   "metadata": {
    "execution": {
     "iopub.execute_input": "2021-03-23T16:32:13.200027Z",
     "iopub.status.busy": "2021-03-23T16:32:13.199250Z",
     "iopub.status.idle": "2021-03-23T16:32:13.409145Z",
     "shell.execute_reply": "2021-03-23T16:32:13.408460Z"
    },
    "papermill": {
     "duration": 0.274489,
     "end_time": "2021-03-23T16:32:13.409291",
     "exception": false,
     "start_time": "2021-03-23T16:32:13.134802",
     "status": "completed"
    },
    "tags": []
   },
   "outputs": [],
   "source": [
    "from imblearn.over_sampling import SMOTE\n",
    "X , y = en_df_imputed[features],en_df_imputed[\"stroke\"]\n",
    "x_train,x_test,y_train,y_test = train_test_split(X,y,test_size=0.2,random_state=23)\n",
    "sm = SMOTE()\n",
    "X_res, y_res = sm.fit_resample(x_train,y_train)\n",
    "\n",
    "print(\"Before OverSampling, counts of label '1': {}\".format(sum(y==1)))\n",
    "print(\"Before OverSampling, counts of label '0': {} \\n\".format(sum(y==0)))\n",
    "\n",
    "print('After OverSampling, the shape of train_X: {}'.format(X_res.shape))\n",
    "print('After OverSampling, the shape of train_y: {} \\n'.format(y_res.shape))\n",
    "\n",
    "print(\"After OverSampling, counts of label '1': {}\".format(sum(y_res==1)))\n",
    "print(\"After OverSampling, counts of label '0': {}\".format(sum(y_res==0)))"
   ]
  },
  {
   "cell_type": "markdown",
   "metadata": {
    "papermill": {
     "duration": 0.057263,
     "end_time": "2021-03-23T16:32:13.523368",
     "exception": false,
     "start_time": "2021-03-23T16:32:13.466105",
     "status": "completed"
    },
    "tags": []
   },
   "source": [
    "<h1 class=\"list-group-item list-group-item-action active\" id=\"modeling\">VII&nbsp;&nbsp;Modeling</h1>"
   ]
  },
  {
   "cell_type": "code",
   "execution_count": null,
   "metadata": {
    "execution": {
     "iopub.execute_input": "2021-03-23T16:32:13.652933Z",
     "iopub.status.busy": "2021-03-23T16:32:13.651877Z",
     "iopub.status.idle": "2021-03-23T16:32:13.655926Z",
     "shell.execute_reply": "2021-03-23T16:32:13.655256Z"
    },
    "papermill": {
     "duration": 0.076342,
     "end_time": "2021-03-23T16:32:13.656072",
     "exception": false,
     "start_time": "2021-03-23T16:32:13.579730",
     "status": "completed"
    },
    "tags": []
   },
   "outputs": [],
   "source": [
    "def plot_cm(cm,title):\n",
    "    z = cm\n",
    "    x = ['No stroke', 'stroke']\n",
    "    y = x\n",
    "    # change each element of z to type string for annotations\n",
    "    z_text = [[str(y) for y in x] for x in z]\n",
    "\n",
    "    # set up figure \n",
    "    fig = ff.create_annotated_heatmap(z, x=x, y=y, annotation_text=z_text, colorscale='deep')\n",
    "\n",
    "    # add title\n",
    "    fig.update_layout(title_text='<i><b>Confusion matrix {}</b></i>'.format(title),\n",
    "                      #xaxis = dict(title='x'),\n",
    "                      #yaxis = dict(title='x')\n",
    "                     )\n",
    "\n",
    "    # add custom xaxis title\n",
    "    fig.add_annotation({'font':{'color':\"black\",'size':14},\n",
    "                            'x':0.5,\n",
    "                            'y':-0.10,\n",
    "                            'showarrow':False,\n",
    "                            'text':\"Predicted value\",\n",
    "                            'xref':\"paper\",\n",
    "                            'yref':\"paper\"})\n",
    "    \n",
    "    fig.add_annotation({'font':{'color':\"black\",'size':14},\n",
    "                            'x':-0.15,\n",
    "                            'y':0.5,\n",
    "                            'showarrow':False,\n",
    "                            'text':\"Real value\",\n",
    "                            'textangle':-90,\n",
    "                            'xref':\"paper\",\n",
    "                            'yref':\"paper\"})\n",
    "\n",
    "\n",
    "    # adjust margins to make room for yaxis title\n",
    "    fig.update_layout(margin={'t':50, 'l':20},width=750,height=750)\n",
    "    \n",
    "\n",
    "\n",
    "    # add colorbar\n",
    "    fig['data'][0]['showscale'] = True\n",
    "    fig.show()\n",
    "\n",
    "\n",
    "\n",
    "def hist_score(score):\n",
    "    models_names = [\n",
    "        'Logistic Regression',\n",
    "    'KNearest Neighbor',\n",
    "    'Decision Tree Classifier',\n",
    "    'Random Forest Classifier',\n",
    "    'Ada Boost',\n",
    "    'SVM',\n",
    "    'XG Boost',\n",
    "    'Cat Boost']\n",
    "\n",
    "    plt.rcParams['figure.figsize']=20,8\n",
    "    sns.set_style('darkgrid')\n",
    "    ax = sns.barplot(x=models_names, y=score, palette = \"inferno\", saturation =2.0)\n",
    "    plt.xlabel('Classifier Models', fontsize = 20 )\n",
    "    plt.ylabel('% of Accuracy', fontsize = 20)\n",
    "    plt.title('Accuracy of different Classifier Models on test set', fontsize = 20)\n",
    "    plt.xticks(fontsize = 12, horizontalalignment = 'center', rotation = 8)\n",
    "    plt.yticks(fontsize = 12)\n",
    "    for i in ax.patches:\n",
    "        width, height = i.get_width(), i.get_height()\n",
    "        x, y = i.get_xy() \n",
    "        ax.annotate(f'{round(height,2)}%', (x + width/2, y + height*1.02), ha='center', fontsize = 'x-large')\n",
    "    plt.show()\n",
    "\n",
    "\n",
    "\n"
   ]
  },
  {
   "cell_type": "code",
   "execution_count": null,
   "metadata": {
    "execution": {
     "iopub.execute_input": "2021-03-23T16:32:13.787765Z",
     "iopub.status.busy": "2021-03-23T16:32:13.786494Z",
     "iopub.status.idle": "2021-03-23T16:32:13.790606Z",
     "shell.execute_reply": "2021-03-23T16:32:13.790091Z"
    },
    "papermill": {
     "duration": 0.077013,
     "end_time": "2021-03-23T16:32:13.790753",
     "exception": false,
     "start_time": "2021-03-23T16:32:13.713740",
     "status": "completed"
    },
    "tags": []
   },
   "outputs": [],
   "source": [
    "def run_exp_on_feature(x_train,y_train,x_test,y_test):\n",
    "    #x_train,x_test,y_train,y_test = train_test_split(features,labels, test_size=0.2, random_state=23)\n",
    "    models= [['Logistic Regression ',LogisticRegression()],\n",
    "            ['KNearest Neighbor ',KNeighborsClassifier()],\n",
    "            ['Decision Tree Classifier ',DecisionTreeClassifier()],\n",
    "            ['Random Forest Classifier ',RandomForestClassifier()],\n",
    "            ['Ada Boost ',AdaBoostClassifier()],\n",
    "            ['SVM ',SVC()],\n",
    "            ['XG Boost',XGBClassifier()],\n",
    "            ['Cat Boost',CatBoostClassifier(logging_level='Silent')]]\n",
    "\n",
    "    models_score = []\n",
    "    for name,model in models:\n",
    "\n",
    "        model = model\n",
    "        model.fit(x_train,y_train)\n",
    "        model_pred = model.predict(x_test)\n",
    "        cm_model = confusion_matrix(y_test, model_pred)\n",
    "        print(cm_model)\n",
    "        models_score.append(accuracy_score(y_test,model.predict(x_test)))\n",
    "\n",
    "        print(name)\n",
    "        print('Validation Acuuracy: ',accuracy_score(y_test,model.predict(x_test)))\n",
    "        print('Training Accuracy: ',accuracy_score(y_train,model.predict(x_train)))\n",
    "        print('############################################')\n",
    "        plot_cm(cm_model,title=name+\"model\")\n",
    "        fpr, tpr, thresholds = roc_curve(y_test, model_pred)\n",
    "\n",
    "        fig = px.area(\n",
    "            x=fpr, y=tpr,\n",
    "            title=f'ROC Curve (AUC={auc(fpr, tpr):.4f})',\n",
    "            labels={'x':'False Positive Rate', 'y':'True Positive Rate'},\n",
    "            width=700, height=500\n",
    "        )\n",
    "        fig.add_shape(\n",
    "            type='line', line={'dash':'dash'},\n",
    "            x0=0, x1=1, y0=0, y1=1\n",
    "        )\n",
    "\n",
    "        fig.update_yaxes(scaleanchor=\"x\", scaleratio=1)\n",
    "        fig.update_xaxes(constrain='domain')\n",
    "        fig.show()\n",
    "    \n",
    "        \n",
    "    return models_score\n",
    "\n",
    "\n"
   ]
  },
  {
   "cell_type": "code",
   "execution_count": null,
   "metadata": {
    "execution": {
     "iopub.execute_input": "2021-03-23T16:32:13.918123Z",
     "iopub.status.busy": "2021-03-23T16:32:13.917394Z",
     "iopub.status.idle": "2021-03-23T16:32:19.631396Z",
     "shell.execute_reply": "2021-03-23T16:32:19.630669Z"
    },
    "papermill": {
     "duration": 5.78037,
     "end_time": "2021-03-23T16:32:19.631545",
     "exception": false,
     "start_time": "2021-03-23T16:32:13.851175",
     "status": "completed"
    },
    "tags": []
   },
   "outputs": [],
   "source": [
    "models_score = run_exp_on_feature(x_train,y_train,x_test,y_test)"
   ]
  },
  {
   "cell_type": "code",
   "execution_count": null,
   "metadata": {
    "execution": {
     "iopub.execute_input": "2021-03-23T16:32:19.805970Z",
     "iopub.status.busy": "2021-03-23T16:32:19.783358Z",
     "iopub.status.idle": "2021-03-23T16:32:20.075674Z",
     "shell.execute_reply": "2021-03-23T16:32:20.075000Z"
    },
    "papermill": {
     "duration": 0.372532,
     "end_time": "2021-03-23T16:32:20.075841",
     "exception": false,
     "start_time": "2021-03-23T16:32:19.703309",
     "status": "completed"
    },
    "tags": []
   },
   "outputs": [],
   "source": [
    "hist_score(models_score)"
   ]
  },
  {
   "cell_type": "markdown",
   "metadata": {
    "papermill": {
     "duration": 0.073766,
     "end_time": "2021-03-23T16:32:20.224175",
     "exception": false,
     "start_time": "2021-03-23T16:32:20.150409",
     "status": "completed"
    },
    "tags": []
   },
   "source": [
    "<div class=\"alert alert-success\" role=\"alert\">\n",
    "  From the histogramme we can report that decision three algorithms are performing better than the others, lets use some grid search and cv with Xgboost algoritm to see what we can get.\n",
    "</div>\n"
   ]
  },
  {
   "cell_type": "code",
   "execution_count": null,
   "metadata": {
    "execution": {
     "iopub.execute_input": "2021-03-23T16:32:20.380044Z",
     "iopub.status.busy": "2021-03-23T16:32:20.379231Z",
     "iopub.status.idle": "2021-03-23T16:32:20.382976Z",
     "shell.execute_reply": "2021-03-23T16:32:20.382303Z"
    },
    "papermill": {
     "duration": 0.086294,
     "end_time": "2021-03-23T16:32:20.383128",
     "exception": false,
     "start_time": "2021-03-23T16:32:20.296834",
     "status": "completed"
    },
    "tags": []
   },
   "outputs": [],
   "source": [
    "SEED=21\n",
    "def xgb_tuning(new_features,labels):\n",
    "    list_scores=[]    \n",
    "    parameters = {\n",
    "        \n",
    "        'max_depth': [3, 5, 7, 9], \n",
    "        'n_estimators': [5, 10, 15, 20, 25, 50, 100],\n",
    "        'learning_rate': [0.01, 0.05, 0.1]\n",
    "    }\n",
    "\n",
    "    model_xgb = XGBClassifier(objective = \"binary:logistic\",\n",
    "               eval_metric = \"logloss\",\n",
    "               learning_rate = 0.1,\n",
    "        random_state=SEED,\n",
    "    )\n",
    "\n",
    "    scores = ['f1','precision', 'recall']\n",
    "\n",
    "    for score in scores:\n",
    "        print(\"# Tuning hyper-parameters for %s\" % score)\n",
    "        print()\n",
    "\n",
    "        clf = GridSearchCV(\n",
    "            model_xgb, parameters,cv=5, scoring='%s_macro' % score\n",
    "        )\n",
    "        clf.fit(new_features, labels)\n",
    "\n",
    "        print(clf.cv_results_['mean_test_score']) \n",
    "        print(clf.cv_results_['std_test_score'])\n",
    "\n",
    "        list_scores.append([clf.cv_results_['mean_test_score'][clf.best_index_],clf.cv_results_['std_test_score'][clf.best_index_]])\n",
    "    return clf,list_scores"
   ]
  },
  {
   "cell_type": "code",
   "execution_count": null,
   "metadata": {
    "execution": {
     "iopub.execute_input": "2021-03-23T16:32:20.537143Z",
     "iopub.status.busy": "2021-03-23T16:32:20.536444Z",
     "iopub.status.idle": "2021-03-23T16:33:31.555502Z",
     "shell.execute_reply": "2021-03-23T16:33:31.556255Z"
    },
    "papermill": {
     "duration": 71.100029,
     "end_time": "2021-03-23T16:33:31.556470",
     "exception": false,
     "start_time": "2021-03-23T16:32:20.456441",
     "status": "completed"
    },
    "tags": []
   },
   "outputs": [],
   "source": [
    "clf,list_scores = xgb_tuning(x_train,y_train)"
   ]
  },
  {
   "cell_type": "code",
   "execution_count": null,
   "metadata": {
    "execution": {
     "iopub.execute_input": "2021-03-23T16:33:31.712663Z",
     "iopub.status.busy": "2021-03-23T16:33:31.711996Z",
     "iopub.status.idle": "2021-03-23T16:33:31.715046Z",
     "shell.execute_reply": "2021-03-23T16:33:31.715669Z"
    },
    "papermill": {
     "duration": 0.083386,
     "end_time": "2021-03-23T16:33:31.715864",
     "exception": false,
     "start_time": "2021-03-23T16:33:31.632478",
     "status": "completed"
    },
    "tags": []
   },
   "outputs": [],
   "source": [
    "list_scores"
   ]
  },
  {
   "cell_type": "markdown",
   "metadata": {
    "papermill": {
     "duration": 0.075356,
     "end_time": "2021-03-23T16:33:31.868091",
     "exception": false,
     "start_time": "2021-03-23T16:33:31.792735",
     "status": "completed"
    },
    "tags": []
   },
   "source": [
    "## Thank you for watching this notenook I hope you enjoyed it. Do not hesitate to give me feedback from your own analysis :D Stay safe !"
   ]
  }
 ],
 "metadata": {
  "kernelspec": {
   "display_name": "Python 3",
   "language": "python",
   "name": "python3"
  },
  "language_info": {
   "codemirror_mode": {
    "name": "ipython",
    "version": 3
   },
   "file_extension": ".py",
   "mimetype": "text/x-python",
   "name": "python",
   "nbconvert_exporter": "python",
   "pygments_lexer": "ipython3",
   "version": "3.8.5"
  },
  "papermill": {
   "default_parameters": {},
   "duration": 101.237672,
   "end_time": "2021-03-23T16:33:32.956986",
   "environment_variables": {},
   "exception": null,
   "input_path": "__notebook__.ipynb",
   "output_path": "__notebook__.ipynb",
   "parameters": {},
   "start_time": "2021-03-23T16:31:51.719314",
   "version": "2.2.2"
  }
 },
 "nbformat": 4,
 "nbformat_minor": 4
}
