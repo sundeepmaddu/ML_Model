{
 "cells": [
  {
   "cell_type": "markdown",
   "metadata": {},
   "source": [
    "# Objective: \n",
    "- Statistical Analysis of Business Data. Explore the dataset and extract insights from the data. The idea is for you to get comfortable with doing statistical analysis in Python.\n",
    "- Explore the dataset and extract insights using Exploratory Data Analysis.\n",
    "- Prove (or disprove) that the medical claims made by the people who smoke is greater than those who don't? \n",
    "- Prove (or disprove) with statistical evidence that the BMI of females is different from that of males.\n",
    "- Is the proportion of smokers significantly different across different regions? \n",
    "- Is the mean BMI of women with no children, one child, and two children the same? Explain your answer with statistical evidence.\n",
    "- Consider a significance level of 0.05 for all tests.\n",
    "\n",
    "# Data Dictionary:\n",
    "\n",
    "- Age - This is an integer indicating the age of the primary beneficiary \n",
    "- Sex - This is the policy holder's gender, either male or female.\n",
    "- BMI - This is the body mass index (BMI)\n",
    "- Children - This is an integer indicating the number of children / dependents covered by the insurance plan.\n",
    "- Smoker - This is yes or no depending on whether the insured regularly smokes tobacco.\n",
    "- Region - This is the beneficiary's place of residence in the U.S., divided into four geographic regions \n",
    "- Charges - Individual medical costs billed to health insurance"
   ]
  },
  {
   "cell_type": "code",
   "execution_count": 3,
   "metadata": {},
   "outputs": [],
   "source": [
    "# Importing libraries \n",
    "import pandas            as pd\n",
    "import numpy             as np\n",
    "import matplotlib.pyplot as plt\n",
    "# To enble plots in the notebook\n",
    "%matplotlib inline \n",
    "import seaborn           as sns\n",
    "import warnings\n",
    "warnings.filterwarnings('ignore')\n",
    "#sns.set(color_codes=True)"
   ]
  },
  {
   "cell_type": "code",
   "execution_count": 4,
   "metadata": {},
   "outputs": [
    {
     "data": {
      "text/plain": [
       "'/Users/sundeep/Learnings/1_PGP_DSBA/Project/3_Axis_Insurance'"
      ]
     },
     "execution_count": 4,
     "metadata": {},
     "output_type": "execute_result"
    }
   ],
   "source": [
    "pwd # Current working directory"
   ]
  },
  {
   "cell_type": "code",
   "execution_count": 5,
   "metadata": {},
   "outputs": [],
   "source": [
    "# importing input CSV file.\n",
    "df = pd.read_csv('AxisInsurance.csv')\n",
    "# Copy data to another dataframe , Original data will not be changed and available in df dataframe\n",
    "data = df.copy()"
   ]
  },
  {
   "cell_type": "code",
   "execution_count": 6,
   "metadata": {},
   "outputs": [
    {
     "data": {
      "text/plain": [
       "age           int64\n",
       "sex          object\n",
       "bmi         float64\n",
       "children      int64\n",
       "smoker       object\n",
       "region       object\n",
       "charges     float64\n",
       "dtype: object"
      ]
     },
     "execution_count": 6,
     "metadata": {},
     "output_type": "execute_result"
    }
   ],
   "source": [
    "# Data types of all variables\n",
    "data.dtypes"
   ]
  },
  {
   "cell_type": "code",
   "execution_count": null,
   "metadata": {},
   "outputs": [],
   "source": []
  }
 ],
 "metadata": {
  "kernelspec": {
   "display_name": "Python 3",
   "language": "python",
   "name": "python3"
  },
  "language_info": {
   "codemirror_mode": {
    "name": "ipython",
    "version": 3
   },
   "file_extension": ".py",
   "mimetype": "text/x-python",
   "name": "python",
   "nbconvert_exporter": "python",
   "pygments_lexer": "ipython3",
   "version": "3.8.5"
  }
 },
 "nbformat": 4,
 "nbformat_minor": 4
}
