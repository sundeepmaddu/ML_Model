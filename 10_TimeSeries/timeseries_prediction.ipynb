{
 "cells": [
  {
   "cell_type": "code",
   "execution_count": 1,
   "metadata": {},
   "outputs": [],
   "source": [
    "import pandas as pd\n",
    "import matplotlib.pyplot as plt\n",
    "%matplotlib inline # To display the plot after the command , we need not use plt.show() if we use this"
   ]
  },
  {
   "cell_type": "code",
   "execution_count": 9,
   "metadata": {},
   "outputs": [],
   "source": [
    "birth_data = pd.read_csv('birth_us.csv',index_col=[0],parse_dates=[0],squeeze=True)\n",
    "# squeeze=True changes the format from Data Frame to Series."
   ]
  },
  {
   "cell_type": "code",
   "execution_count": 10,
   "metadata": {},
   "outputs": [
    {
     "data": {
      "text/plain": [
       "Date\n",
       "2019-01-01    36\n",
       "2019-01-02    93\n",
       "2019-01-03     8\n",
       "2019-01-04    50\n",
       "2019-01-05     7\n",
       "Name: DailyBirth, dtype: int64"
      ]
     },
     "execution_count": 10,
     "metadata": {},
     "output_type": "execute_result"
    }
   ],
   "source": [
    "birth_data.head()\n",
    "# Python by default create index"
   ]
  },
  {
   "cell_type": "code",
   "execution_count": 11,
   "metadata": {},
   "outputs": [
    {
     "data": {
      "text/plain": [
       "pandas.core.series.Series"
      ]
     },
     "execution_count": 11,
     "metadata": {},
     "output_type": "execute_result"
    }
   ],
   "source": [
    "type(birth_data)"
   ]
  },
  {
   "cell_type": "code",
   "execution_count": 15,
   "metadata": {},
   "outputs": [],
   "source": [
    "# value from DataFrame is converted into series.\n",
    "series_value = birth_data.values"
   ]
  },
  {
   "cell_type": "code",
   "execution_count": 17,
   "metadata": {},
   "outputs": [
    {
     "data": {
      "text/plain": [
       "array([ 36,  93,   8,  50,   7,  25,  65,  48,  19,  73,  47,   4,  14,\n",
       "        10,  62,  19,  97,   7,   9,  61,  30,  38,  21,  66,  67,  19,\n",
       "        97,  81,  88,  62,  81,   6,  40,  41,  90,  11,  37,  26,  72,\n",
       "        20,  98,  47,  45,  62,  10,  89,  31,  35,  80,   2,  17,  36,\n",
       "        51,  33,  64,  90,  91,  49,  16,  17,  57,  65,  22,  15,  47,\n",
       "        56,  35,   7,  28,  17,   7,  98,  77,  49,  87,  33,  30,  71,\n",
       "        25,  38,  65,  93,   2,  87,  58,  56,  65,  69,  48,   7,  22,\n",
       "         1,  84,  89,  74,  59,  56,  29,  70,  84,  64,  40,  94,   0,\n",
       "        39,  12,  16,  87,  12,  14,  80,  58,   2,   0,  80,  86,  93,\n",
       "        93,  25,  57,  59,  51,  58,   3,  60,  42,  10,  53,  98,  50,\n",
       "        39,  93,  51,  90,  92,  32,  92,  85,  63,  96,   9,  30,  51,\n",
       "        59,   5,  78,  46,  12,   4,  13,  92,  55,  25,  22,  99,  22,\n",
       "        52,  13,  75,  21,  55,  39,  37,  46,  40,  46,  82,   9,   0,\n",
       "        26,  81,  80,  37,   5,  97,  50,  11,  66,  42,  39,  37,  57,\n",
       "        55,  71,  51,  20,  77,  80,  71,   9,  87,  38,   2,  47,  61,\n",
       "        26,  93,  70,  62,  88,  91,  68,  20,  65,  99,  25,  53,  61,\n",
       "        38,  24,  91,  68,  95,  53,  56,  47,  11,   4,  47,  78,  21,\n",
       "        39,  57,  71,  87,  83,  23,  67,   2,  94,  88,  24,  21,  98,\n",
       "        39,   6,  26,  91,  46,  76,  44,  85,  84,  84,  70,  19,  75,\n",
       "        82,  36,  60,  60,  37,  92,  74,  51,  40,  53,  64,  35,  53,\n",
       "        20,  32,  58,  98,  41,  26,   4,  11,   0,  33,  25,  14,  18,\n",
       "        72,  69,  33,  74,  53,  32,  94,  15,  19,  73,  88,  67,  29,\n",
       "        86,  59,  25,  35,  80,  51,  75,  92,   6,  24,  73,  75,  32,\n",
       "        52,  68,  13,  59,  20,   0,  18,  32,  36,  94,   5,  18,  17,\n",
       "        20,  88,  73,  12,   7,   1,  78,  57,  56,  80,  18,  18,  87,\n",
       "        82,  67,  45,  71,  80,  48,  65,  76,  33,  19,  97,  46,  34,\n",
       "        45,   9,  18,  76,  99,  14,  51,  97,  23,  95,  60,  73,  64,\n",
       "        72,  35,  26,   5,  12,  64,  30,  30,  49,  76,  51,  86,  52,\n",
       "        56,  48,  71,  12,  92,   7,  79,  79,  47,   7,   5,  11,  71,\n",
       "        52,  26,  67,  21,  16,  55,  57,  85,  68,  88,  15,  90,   6,\n",
       "        77,  20,  60,  74,  33,  55,   8,  10,  29,  88,  41,  80,  30,\n",
       "        33,  71,   3,  32,  98,  24,  90,  12,   2,  75,  46,  25,   4,\n",
       "       100,  30,  14,  65,  59,  27,  15,  87,  19,  23,  83,  55,  32,\n",
       "        87,  29,  99,  31,  38,  57,  74,  83,  23,  83,  99,  68,  67,\n",
       "        72,  50,  18,  41,  22,   1,  99,  46,   5,  62,  12,  87,  90,\n",
       "        29,  90,  47,   1,  63,   7,  62,  12,  26,  63,  93,  70,  33,\n",
       "         1,   4,  43,  17,  14,  30,  25,   9,  49,  92,  95,  36,  59,\n",
       "         0,  27,  13,  23,  22,  51,  92,  52,  64,  53,  92,  24,  96,\n",
       "        76,  93,   9,  92,  57,  14,  61,  29,  74,  24,  10,  33,  80,\n",
       "        65,  23,  62,  88,  17,  43,  74,  79,   3,  61,  84,   3,  75,\n",
       "        84,  64,  66,  82,  37,  44,  32,  13,  85,  59,  73,  35,  34,\n",
       "        88,  80,   2,   8,  95,  48,  69,   4,  92,  19,  65,  32,  28,\n",
       "        94,  73,  59,  95,  57,  81,  26,  51,  45,  45,  90,  99,  36,\n",
       "        49,   8,  47,  29,  84,  21,  31,  60,  65,  16,   2,  41,  91,\n",
       "        85,  94,  97,  92,  59,  35,  40,  51,  50,  34,  27,  56,  30,\n",
       "        58,  21,  95,  63,  41,  99,  93,  51,  30,  79,  58,  38,   7,\n",
       "        61,  52,   3,   2,  24,  26,  68,  24,  90,  69,  20,  19,  61,\n",
       "        20,  39,  81,  21,  79, 100,  89,   7,  67,  53,  80,  46,  57,\n",
       "        29,  49,  60,  12,   6,  21,  51,  47,  68,  36,  97,   3,  20,\n",
       "        22,  40,  74,  61,  62,   7,  74,  56,  19,  58,   8,  54,  77,\n",
       "        76,  64,   5,  30,  28,  57,  61,  34,  62,  65,  70,  91,  40,\n",
       "        98,  90,  84,  88,  66,  86,  58,  85,  79,  47,  30,  85,  33,\n",
       "        56,  91,  28,  79,   3,  42,  91,  77,  32,  91, 100,  56,  19,\n",
       "        68,  24,  98,  22,  79,  16,  42,  37,  65,  36,  39,  29,  70,\n",
       "        74,  49,  50,  45,  52,  33,  94,  70,  90,  54,  47,   6,  56,\n",
       "        75,  57,  79,  79,  56,  78,  96,  58,   8,  29,  38,  37,  88,\n",
       "        45,  78,  98,  71,   9,  70, 100,  18,   2,  25,   2,  21,  52,\n",
       "        50, 100,  14,  85,  57,  98,  10,  72,  31,  33,  11,  15,  83,\n",
       "        65,  34,  74,  89,  95,  85,  28,  86,  54,  72,  68,   4,   1,\n",
       "        41,  83,  91,  26,  70,  98,  17,  87,  69,  20,  50,  49,   3,\n",
       "         8,  74,   0,  39,  26,   8,  47,  27,  78,   0])"
      ]
     },
     "execution_count": 17,
     "metadata": {},
     "output_type": "execute_result"
    }
   ],
   "source": [
    "series_value"
   ]
  },
  {
   "cell_type": "code",
   "execution_count": 16,
   "metadata": {},
   "outputs": [
    {
     "data": {
      "text/plain": [
       "numpy.ndarray"
      ]
     },
     "execution_count": 16,
     "metadata": {},
     "output_type": "execute_result"
    }
   ],
   "source": [
    "type(series_value)"
   ]
  },
  {
   "cell_type": "code",
   "execution_count": 18,
   "metadata": {},
   "outputs": [
    {
     "data": {
      "text/plain": [
       "790"
      ]
     },
     "execution_count": 18,
     "metadata": {},
     "output_type": "execute_result"
    }
   ],
   "source": [
    "birth_data.size"
   ]
  },
  {
   "cell_type": "code",
   "execution_count": 19,
   "metadata": {},
   "outputs": [
    {
     "data": {
      "text/plain": [
       "Date\n",
       "2021-02-24     8\n",
       "2021-02-25    47\n",
       "2021-02-26    27\n",
       "2021-02-27    78\n",
       "2021-02-28     0\n",
       "Name: DailyBirth, dtype: int64"
      ]
     },
     "execution_count": 19,
     "metadata": {},
     "output_type": "execute_result"
    }
   ],
   "source": [
    "birth_data.tail()"
   ]
  },
  {
   "cell_type": "code",
   "execution_count": 20,
   "metadata": {},
   "outputs": [
    {
     "data": {
      "text/plain": [
       "count    790.000000\n",
       "mean      49.886076\n",
       "std       29.166446\n",
       "min        0.000000\n",
       "25%       25.000000\n",
       "50%       51.000000\n",
       "75%       74.750000\n",
       "max      100.000000\n",
       "Name: DailyBirth, dtype: float64"
      ]
     },
     "execution_count": 20,
     "metadata": {},
     "output_type": "execute_result"
    }
   ],
   "source": [
    "birth_data.describe()"
   ]
  },
  {
   "cell_type": "code",
   "execution_count": 21,
   "metadata": {},
   "outputs": [
    {
     "data": {
      "text/plain": [
       "<AxesSubplot:xlabel='Date'>"
      ]
     },
     "execution_count": 21,
     "metadata": {},
     "output_type": "execute_result"
    },
    {
     "data": {
      "image/png": "[encoded data removed]",
      "text/plain": [
       "<Figure size 432x288 with 1 Axes>"
      ]
     },
     "metadata": {
      "needs_background": "light"
     },
     "output_type": "display_data"
    }
   ],
   "source": [
    "birth_data.plot()"
   ]
  },
  {
   "cell_type": "code",
   "execution_count": 23,
   "metadata": {},
   "outputs": [],
   "source": [
    "#Smoothings the series with moving average.\n",
    "birth_data_mean = birth_data.rolling(window = 20).mean()"
   ]
  },
  {
   "cell_type": "code",
   "execution_count": 24,
   "metadata": {},
   "outputs": [
    {
     "data": {
      "text/plain": [
       "<AxesSubplot:xlabel='Date'>"
      ]
     },
     "execution_count": 24,
     "metadata": {},
     "output_type": "execute_result"
    },
    {
     "data": {
      "image/png": "[encoded data removed]",
      "text/plain": [
       "<Figure size 432x288 with 1 Axes>"
      ]
     },
     "metadata": {
      "needs_background": "light"
     },
     "output_type": "display_data"
    }
   ],
   "source": [
    "birth_data.plot()"
   ]
  },
  {
   "cell_type": "code",
   "execution_count": 25,
   "metadata": {},
   "outputs": [
    {
     "data": {
      "text/plain": [
       "<AxesSubplot:xlabel='Date'>"
      ]
     },
     "execution_count": 25,
     "metadata": {},
     "output_type": "execute_result"
    },
    {
     "data": {
      "image/png": "[encoded data removed]",
      "text/plain": [
       "<Figure size 432x288 with 1 Axes>"
      ]
     },
     "metadata": {
      "needs_background": "light"
     },
     "output_type": "display_data"
    }
   ],
   "source": [
    "birth_data_mean.plot()"
   ]
  },
  {
   "cell_type": "code",
   "execution_count": 26,
   "metadata": {},
   "outputs": [],
   "source": [
    "# we lot of models , linear model is very simple. \n",
    "value = pd.DataFrame(series_value)"
   ]
  },
  {
   "cell_type": "code",
   "execution_count": 27,
   "metadata": {},
   "outputs": [],
   "source": [
    "birth_df = pd.concat([value,value.shift(1)],axis=1)"
   ]
  },
  {
   "cell_type": "code",
   "execution_count": 28,
   "metadata": {},
   "outputs": [
    {
     "data": {
      "text/html": [
       "<div>\n",
       "<style scoped>\n",
       "    .dataframe tbody tr th:only-of-type {\n",
       "        vertical-align: middle;\n",
       "    }\n",
       "\n",
       "    .dataframe tbody tr th {\n",
       "        vertical-align: top;\n",
       "    }\n",
       "\n",
       "    .dataframe thead th {\n",
       "        text-align: right;\n",
       "    }\n",
       "</style>\n",
       "<table border=\"1\" class=\"dataframe\">\n",
       "  <thead>\n",
       "    <tr style=\"text-align: right;\">\n",
       "      <th></th>\n",
       "      <th>0</th>\n",
       "      <th>0</th>\n",
       "    </tr>\n",
       "  </thead>\n",
       "  <tbody>\n",
       "    <tr>\n",
       "      <th>0</th>\n",
       "      <td>36</td>\n",
       "      <td>NaN</td>\n",
       "    </tr>\n",
       "    <tr>\n",
       "      <th>1</th>\n",
       "      <td>93</td>\n",
       "      <td>36.0</td>\n",
       "    </tr>\n",
       "    <tr>\n",
       "      <th>2</th>\n",
       "      <td>8</td>\n",
       "      <td>93.0</td>\n",
       "    </tr>\n",
       "    <tr>\n",
       "      <th>3</th>\n",
       "      <td>50</td>\n",
       "      <td>8.0</td>\n",
       "    </tr>\n",
       "    <tr>\n",
       "      <th>4</th>\n",
       "      <td>7</td>\n",
       "      <td>50.0</td>\n",
       "    </tr>\n",
       "  </tbody>\n",
       "</table>\n",
       "</div>"
      ],
      "text/plain": [
       "    0     0\n",
       "0  36   NaN\n",
       "1  93  36.0\n",
       "2   8  93.0\n",
       "3  50   8.0\n",
       "4   7  50.0"
      ]
     },
     "execution_count": 28,
     "metadata": {},
     "output_type": "execute_result"
    }
   ],
   "source": [
    "birth_df.head()"
   ]
  },
  {
   "cell_type": "code",
   "execution_count": 29,
   "metadata": {},
   "outputs": [],
   "source": [
    "birth_df.columns = ['Actual_birth','Forecast_birth']"
   ]
  },
  {
   "cell_type": "code",
   "execution_count": 30,
   "metadata": {},
   "outputs": [
    {
     "data": {
      "text/html": [
       "<div>\n",
       "<style scoped>\n",
       "    .dataframe tbody tr th:only-of-type {\n",
       "        vertical-align: middle;\n",
       "    }\n",
       "\n",
       "    .dataframe tbody tr th {\n",
       "        vertical-align: top;\n",
       "    }\n",
       "\n",
       "    .dataframe thead th {\n",
       "        text-align: right;\n",
       "    }\n",
       "</style>\n",
       "<table border=\"1\" class=\"dataframe\">\n",
       "  <thead>\n",
       "    <tr style=\"text-align: right;\">\n",
       "      <th></th>\n",
       "      <th>Actual_birth</th>\n",
       "      <th>Forecast_birth</th>\n",
       "    </tr>\n",
       "  </thead>\n",
       "  <tbody>\n",
       "    <tr>\n",
       "      <th>0</th>\n",
       "      <td>36</td>\n",
       "      <td>NaN</td>\n",
       "    </tr>\n",
       "    <tr>\n",
       "      <th>1</th>\n",
       "      <td>93</td>\n",
       "      <td>36.0</td>\n",
       "    </tr>\n",
       "    <tr>\n",
       "      <th>2</th>\n",
       "      <td>8</td>\n",
       "      <td>93.0</td>\n",
       "    </tr>\n",
       "    <tr>\n",
       "      <th>3</th>\n",
       "      <td>50</td>\n",
       "      <td>8.0</td>\n",
       "    </tr>\n",
       "    <tr>\n",
       "      <th>4</th>\n",
       "      <td>7</td>\n",
       "      <td>50.0</td>\n",
       "    </tr>\n",
       "  </tbody>\n",
       "</table>\n",
       "</div>"
      ],
      "text/plain": [
       "   Actual_birth  Forecast_birth\n",
       "0            36             NaN\n",
       "1            93            36.0\n",
       "2             8            93.0\n",
       "3            50             8.0\n",
       "4             7            50.0"
      ]
     },
     "execution_count": 30,
     "metadata": {},
     "output_type": "execute_result"
    }
   ],
   "source": [
    "birth_df.head()"
   ]
  },
  {
   "cell_type": "code",
   "execution_count": 31,
   "metadata": {},
   "outputs": [],
   "source": [
    "from sklearn.metrics import mean_squared_error\n",
    "import numpy as np"
   ]
  },
  {
   "cell_type": "code",
   "execution_count": 44,
   "metadata": {},
   "outputs": [],
   "source": [
    "birth_test = birth_df[1:]"
   ]
  },
  {
   "cell_type": "code",
   "execution_count": 45,
   "metadata": {},
   "outputs": [
    {
     "data": {
      "text/html": [
       "<div>\n",
       "<style scoped>\n",
       "    .dataframe tbody tr th:only-of-type {\n",
       "        vertical-align: middle;\n",
       "    }\n",
       "\n",
       "    .dataframe tbody tr th {\n",
       "        vertical-align: top;\n",
       "    }\n",
       "\n",
       "    .dataframe thead th {\n",
       "        text-align: right;\n",
       "    }\n",
       "</style>\n",
       "<table border=\"1\" class=\"dataframe\">\n",
       "  <thead>\n",
       "    <tr style=\"text-align: right;\">\n",
       "      <th></th>\n",
       "      <th>Actual_birth</th>\n",
       "      <th>Forecast_birth</th>\n",
       "    </tr>\n",
       "  </thead>\n",
       "  <tbody>\n",
       "    <tr>\n",
       "      <th>1</th>\n",
       "      <td>93</td>\n",
       "      <td>36.0</td>\n",
       "    </tr>\n",
       "    <tr>\n",
       "      <th>2</th>\n",
       "      <td>8</td>\n",
       "      <td>93.0</td>\n",
       "    </tr>\n",
       "    <tr>\n",
       "      <th>3</th>\n",
       "      <td>50</td>\n",
       "      <td>8.0</td>\n",
       "    </tr>\n",
       "    <tr>\n",
       "      <th>4</th>\n",
       "      <td>7</td>\n",
       "      <td>50.0</td>\n",
       "    </tr>\n",
       "    <tr>\n",
       "      <th>5</th>\n",
       "      <td>25</td>\n",
       "      <td>7.0</td>\n",
       "    </tr>\n",
       "  </tbody>\n",
       "</table>\n",
       "</div>"
      ],
      "text/plain": [
       "   Actual_birth  Forecast_birth\n",
       "1            93            36.0\n",
       "2             8            93.0\n",
       "3            50             8.0\n",
       "4             7            50.0\n",
       "5            25             7.0"
      ]
     },
     "execution_count": 45,
     "metadata": {},
     "output_type": "execute_result"
    }
   ],
   "source": [
    "birth_test.head()"
   ]
  },
  {
   "cell_type": "code",
   "execution_count": 41,
   "metadata": {},
   "outputs": [
    {
     "data": {
      "text/html": [
       "<div>\n",
       "<style scoped>\n",
       "    .dataframe tbody tr th:only-of-type {\n",
       "        vertical-align: middle;\n",
       "    }\n",
       "\n",
       "    .dataframe tbody tr th {\n",
       "        vertical-align: top;\n",
       "    }\n",
       "\n",
       "    .dataframe thead th {\n",
       "        text-align: right;\n",
       "    }\n",
       "</style>\n",
       "<table border=\"1\" class=\"dataframe\">\n",
       "  <thead>\n",
       "    <tr style=\"text-align: right;\">\n",
       "      <th></th>\n",
       "      <th>Actual_birth</th>\n",
       "      <th>Forecast_birth</th>\n",
       "    </tr>\n",
       "  </thead>\n",
       "  <tbody>\n",
       "    <tr>\n",
       "      <th>785</th>\n",
       "      <td>8</td>\n",
       "      <td>26.0</td>\n",
       "    </tr>\n",
       "    <tr>\n",
       "      <th>786</th>\n",
       "      <td>47</td>\n",
       "      <td>8.0</td>\n",
       "    </tr>\n",
       "    <tr>\n",
       "      <th>787</th>\n",
       "      <td>27</td>\n",
       "      <td>47.0</td>\n",
       "    </tr>\n",
       "    <tr>\n",
       "      <th>788</th>\n",
       "      <td>78</td>\n",
       "      <td>27.0</td>\n",
       "    </tr>\n",
       "    <tr>\n",
       "      <th>789</th>\n",
       "      <td>0</td>\n",
       "      <td>78.0</td>\n",
       "    </tr>\n",
       "  </tbody>\n",
       "</table>\n",
       "</div>"
      ],
      "text/plain": [
       "     Actual_birth  Forecast_birth\n",
       "785             8            26.0\n",
       "786            47             8.0\n",
       "787            27            47.0\n",
       "788            78            27.0\n",
       "789             0            78.0"
      ]
     },
     "execution_count": 41,
     "metadata": {},
     "output_type": "execute_result"
    }
   ],
   "source": [
    "birth_test.tail()"
   ]
  },
  {
   "cell_type": "code",
   "execution_count": 48,
   "metadata": {},
   "outputs": [],
   "source": [
    "# This will thorw an error , as the first row does not have any value. We have NAN. \n",
    "# birth_test is the new dataset created with out NAN values in the row\n",
    "\n",
    "birth_error = mean_squared_error(birth_test.Actual_birth,birth_test.Forecast_birth)"
   ]
  },
  {
   "cell_type": "code",
   "execution_count": 49,
   "metadata": {},
   "outputs": [
    {
     "data": {
      "text/plain": [
       "1667.318124207858"
      ]
     },
     "execution_count": 49,
     "metadata": {},
     "output_type": "execute_result"
    }
   ],
   "source": [
    "birth_error"
   ]
  },
  {
   "cell_type": "code",
   "execution_count": 50,
   "metadata": {},
   "outputs": [
    {
     "data": {
      "text/plain": [
       "40.83280695969673"
      ]
     },
     "execution_count": 50,
     "metadata": {},
     "output_type": "execute_result"
    }
   ],
   "source": [
    "np.sqrt(birth_error)"
   ]
  },
  {
   "cell_type": "code",
   "execution_count": 51,
   "metadata": {},
   "outputs": [],
   "source": [
    "from statsmodels.graphics.tsaplots import plot_acf,plot_pacf"
   ]
  },
  {
   "cell_type": "code",
   "execution_count": 52,
   "metadata": {},
   "outputs": [
    {
     "data": {
      "image/png": "[encoded data removed]",
      "text/plain": [
       "<Figure size 432x288 with 1 Axes>"
      ]
     },
     "execution_count": 52,
     "metadata": {},
     "output_type": "execute_result"
    },
    {
     "data": {
      "image/png": "[encoded data removed]",
      "text/plain": [
       "<Figure size 432x288 with 1 Axes>"
      ]
     },
     "metadata": {
      "needs_background": "light"
     },
     "output_type": "display_data"
    }
   ],
   "source": [
    "plot_acf(birth_data) # To identify the value of Q"
   ]
  },
  {
   "cell_type": "code",
   "execution_count": 53,
   "metadata": {},
   "outputs": [
    {
     "data": {
      "image/png": "[encoded data removed]",
      "text/plain": [
       "<Figure size 432x288 with 1 Axes>"
      ]
     },
     "execution_count": 53,
     "metadata": {},
     "output_type": "execute_result"
    },
    {
     "data": {
      "image/png": "[encoded data removed]",
      "text/plain": [
       "<Figure size 432x288 with 1 Axes>"
      ]
     },
     "metadata": {
      "needs_background": "light"
     },
     "output_type": "display_data"
    }
   ],
   "source": [
    "plot_pacf(birth_data) # To identify the value of p"
   ]
  },
  {
   "cell_type": "code",
   "execution_count": 54,
   "metadata": {},
   "outputs": [
    {
     "data": {
      "text/plain": [
       "790"
      ]
     },
     "execution_count": 54,
     "metadata": {},
     "output_type": "execute_result"
    }
   ],
   "source": [
    "# Model P = 2,3    d=0 &q = 3,4\n",
    "birth_data.size"
   ]
  },
  {
   "cell_type": "code",
   "execution_count": 56,
   "metadata": {},
   "outputs": [],
   "source": [
    "# divide the data into Test and Train\n",
    "\n",
    "birth_train = birth_data[0:600]\n",
    "birth_test = birth_data[600:790]"
   ]
  },
  {
   "cell_type": "code",
   "execution_count": 57,
   "metadata": {},
   "outputs": [
    {
     "data": {
      "text/plain": [
       "600"
      ]
     },
     "execution_count": 57,
     "metadata": {},
     "output_type": "execute_result"
    }
   ],
   "source": [
    "birth_train.size"
   ]
  },
  {
   "cell_type": "code",
   "execution_count": 59,
   "metadata": {},
   "outputs": [
    {
     "data": {
      "text/plain": [
       "190"
      ]
     },
     "execution_count": 59,
     "metadata": {},
     "output_type": "execute_result"
    }
   ],
   "source": [
    "birth_test.size"
   ]
  },
  {
   "cell_type": "code",
   "execution_count": 60,
   "metadata": {},
   "outputs": [],
   "source": [
    "from statsmodels.tsa.arima_model import ARIMA"
   ]
  },
  {
   "cell_type": "code",
   "execution_count": 61,
   "metadata": {},
   "outputs": [
    {
     "name": "stderr",
     "output_type": "stream",
     "text": [
      "/Users/sundeep/opt/anaconda3/lib/python3.8/site-packages/statsmodels/tsa/arima_model.py:472: FutureWarning: \n",
      "statsmodels.tsa.arima_model.ARMA and statsmodels.tsa.arima_model.ARIMA have\n",
      "been deprecated in favor of statsmodels.tsa.arima.model.ARIMA (note the .\n",
      "between arima and model) and\n",
      "statsmodels.tsa.SARIMAX. These will be removed after the 0.12 release.\n",
      "\n",
      "statsmodels.tsa.arima.model.ARIMA makes use of the statespace framework and\n",
      "is both well tested and maintained.\n",
      "\n",
      "To silence this warning and continue using ARMA and ARIMA until they are\n",
      "removed, use:\n",
      "\n",
      "import warnings\n",
      "warnings.filterwarnings('ignore', 'statsmodels.tsa.arima_model.ARMA',\n",
      "                        FutureWarning)\n",
      "warnings.filterwarnings('ignore', 'statsmodels.tsa.arima_model.ARIMA',\n",
      "                        FutureWarning)\n",
      "\n",
      "  warnings.warn(ARIMA_DEPRECATION_WARN, FutureWarning)\n",
      "/Users/sundeep/opt/anaconda3/lib/python3.8/site-packages/statsmodels/tsa/base/tsa_model.py:524: ValueWarning: No frequency information was provided, so inferred frequency D will be used.\n",
      "  warnings.warn('No frequency information was'\n",
      "/Users/sundeep/opt/anaconda3/lib/python3.8/site-packages/statsmodels/tsa/base/tsa_model.py:524: ValueWarning: No frequency information was provided, so inferred frequency D will be used.\n",
      "  warnings.warn('No frequency information was'\n"
     ]
    }
   ],
   "source": [
    "birth_model = ARIMA(birth_train,order=(2,1,3))"
   ]
  },
  {
   "cell_type": "code",
   "execution_count": 62,
   "metadata": {},
   "outputs": [
    {
     "name": "stderr",
     "output_type": "stream",
     "text": [
      "/Users/sundeep/opt/anaconda3/lib/python3.8/site-packages/statsmodels/tsa/arima_model.py:472: FutureWarning: \n",
      "statsmodels.tsa.arima_model.ARMA and statsmodels.tsa.arima_model.ARIMA have\n",
      "been deprecated in favor of statsmodels.tsa.arima.model.ARIMA (note the .\n",
      "between arima and model) and\n",
      "statsmodels.tsa.SARIMAX. These will be removed after the 0.12 release.\n",
      "\n",
      "statsmodels.tsa.arima.model.ARIMA makes use of the statespace framework and\n",
      "is both well tested and maintained.\n",
      "\n",
      "To silence this warning and continue using ARMA and ARIMA until they are\n",
      "removed, use:\n",
      "\n",
      "import warnings\n",
      "warnings.filterwarnings('ignore', 'statsmodels.tsa.arima_model.ARMA',\n",
      "                        FutureWarning)\n",
      "warnings.filterwarnings('ignore', 'statsmodels.tsa.arima_model.ARIMA',\n",
      "                        FutureWarning)\n",
      "\n",
      "  warnings.warn(ARIMA_DEPRECATION_WARN, FutureWarning)\n"
     ]
    }
   ],
   "source": [
    "birth_model_fit = birth_model.fit()"
   ]
  },
  {
   "cell_type": "code",
   "execution_count": 63,
   "metadata": {},
   "outputs": [
    {
     "data": {
      "text/plain": [
       "5754.056294134658"
      ]
     },
     "execution_count": 63,
     "metadata": {},
     "output_type": "execute_result"
    }
   ],
   "source": [
    "birth_model_fit.aic"
   ]
  },
  {
   "cell_type": "code",
   "execution_count": 76,
   "metadata": {},
   "outputs": [],
   "source": [
    "birth_forecast = birth_model_fit.forecast(steps = 190)[0]"
   ]
  },
  {
   "cell_type": "code",
   "execution_count": 77,
   "metadata": {},
   "outputs": [
    {
     "data": {
      "text/plain": [
       "array([51.43458913, 52.5985745 , 50.63245048, 50.79294069, 52.58251385,\n",
       "       51.30604198, 50.43047266, 52.2228264 , 51.93245632, 50.42571943,\n",
       "       51.68012362, 52.33444193, 50.73851496, 51.1490142 , 52.42625816,\n",
       "       51.23795044, 50.79468912, 52.22743691, 51.75406851, 50.70685137,\n",
       "       51.84285667, 52.13449122, 50.88262204, 51.41964348, 52.28818918,\n",
       "       51.23973753, 51.09702585, 52.20485932, 51.65201152, 50.96525561,\n",
       "       51.94729499, 51.99336676, 51.0448183 , 51.62265284, 52.17597154,\n",
       "       51.28952264, 51.3441208 , 52.17172572, 51.60935523, 51.19586442,\n",
       "       52.01281134, 51.90355289, 51.21142224, 51.77392863, 52.09252487,\n",
       "       51.3702974 , 51.54403087, 52.1391182 , 51.61135401, 51.39750959,\n",
       "       52.05421015, 51.85672752, 51.37362229, 51.88702217, 52.03761368,\n",
       "       51.4692908 , 51.70512049, 52.11388253, 51.64566914, 51.57152815,\n",
       "       52.08240409, 51.84466033, 51.52625908, 51.97306946, 52.00905957,\n",
       "       51.57727325, 51.83534947, 52.09974567, 51.70233554, 51.72071795,\n",
       "       52.10511151, 51.85976413, 51.66680912, 52.04091324, 52.00363254,\n",
       "       51.687872  , 51.94185942, 52.09823211, 51.77357206, 51.84858492,\n",
       "       52.12751707, 51.89539146, 51.7945658 , 52.09734216, 52.01767941,\n",
       "       51.79694253, 52.03077521, 52.10938975, 51.85350815, 51.95882511,\n",
       "       52.15286252, 51.94595197, 51.91000129, 52.14738563, 52.04754435,\n",
       "       51.90201949, 52.10715399, 52.132346  , 51.93787805, 52.05498944,\n",
       "       52.18295198, 52.00690998, 52.0142863 , 52.19462221, 52.08983022,\n",
       "       52.00185603, 52.17502964, 52.16571864, 52.02371646, 52.14028583,\n",
       "       52.21856816, 52.07470789, 52.10894206, 52.24147445, 52.14154248,\n",
       "       52.09605088, 52.23751318, 52.20790736, 52.10907706, 52.21748071,\n",
       "       52.25980365, 52.14664893, 52.19559913, 52.2894744 , 52.20014989,\n",
       "       52.1847566 , 52.29692088, 52.25729039, 52.19278498, 52.28886925,\n",
       "       52.30631575, 52.22076307, 52.2758399 , 52.33949191, 52.26358925,\n",
       "       52.26845884, 52.35491045, 52.31234808, 52.27422819, 52.35629052,\n",
       "       52.35751588, 52.29567194, 52.35110415, 52.39192355, 52.33023497,\n",
       "       52.34781556, 52.4126125 , 52.37173244, 52.35318783, 52.42116931,\n",
       "       52.41270458, 52.37046283, 52.42264052, 52.44684375, 52.39884905,\n",
       "       52.42354489, 52.47074974, 52.43429811, 52.42970485, 52.48457162,\n",
       "       52.47116338, 52.44457726, 52.49149004, 52.50412148, 52.46852239,\n",
       "       52.49635119, 52.52974006, 52.49910713, 52.50397859, 52.5472647 ,\n",
       "       52.53221315, 52.5177165 , 52.55849064, 52.56350749, 52.53861489,\n",
       "       52.5668801 , 52.58978227, 52.56541718, 52.57629266, 52.60977563,\n",
       "       52.59524757, 52.58976447, 52.62429446, 52.62469682, 52.60869913,\n",
       "       52.63569482, 52.65092493, 52.6326603 , 52.64696274, 52.67244471])"
      ]
     },
     "execution_count": 77,
     "metadata": {},
     "output_type": "execute_result"
    }
   ],
   "source": [
    "birth_forecast"
   ]
  },
  {
   "cell_type": "code",
   "execution_count": 74,
   "metadata": {},
   "outputs": [
    {
     "data": {
      "text/plain": [
       "array([51.43458913, 52.5985745 , 50.63245048, 50.79294069, 52.58251385,\n",
       "       51.30604198, 50.43047266, 52.2228264 , 51.93245632, 50.42571943,\n",
       "       51.68012362, 52.33444193, 50.73851496, 51.1490142 , 52.42625816,\n",
       "       51.23795044, 50.79468912, 52.22743691, 51.75406851, 50.70685137,\n",
       "       51.84285667, 52.13449122, 50.88262204, 51.41964348, 52.28818918,\n",
       "       51.23973753, 51.09702585, 52.20485932, 51.65201152, 50.96525561,\n",
       "       51.94729499, 51.99336676, 51.0448183 , 51.62265284, 52.17597154])"
      ]
     },
     "execution_count": 74,
     "metadata": {},
     "output_type": "execute_result"
    }
   ],
   "source": [
    "birth_forecast"
   ]
  },
  {
   "cell_type": "code",
   "execution_count": 67,
   "metadata": {},
   "outputs": [
    {
     "data": {
      "text/plain": [
       "Date\n",
       "2020-08-23     3\n",
       "2020-08-24     2\n",
       "2020-08-25    24\n",
       "2020-08-26    26\n",
       "2020-08-27    68\n",
       "              ..\n",
       "2021-02-24     8\n",
       "2021-02-25    47\n",
       "2021-02-26    27\n",
       "2021-02-27    78\n",
       "2021-02-28     0\n",
       "Name: DailyBirth, Length: 190, dtype: int64"
      ]
     },
     "execution_count": 67,
     "metadata": {},
     "output_type": "execute_result"
    }
   ],
   "source": [
    "birth_test"
   ]
  },
  {
   "cell_type": "code",
   "execution_count": 79,
   "metadata": {},
   "outputs": [
    {
     "data": {
      "text/plain": [
       "29.103635268014784"
      ]
     },
     "execution_count": 79,
     "metadata": {},
     "output_type": "execute_result"
    }
   ],
   "source": [
    "np.sqrt(mean_squared_error(birth_test,birth_forecast))"
   ]
  },
  {
   "cell_type": "code",
   "execution_count": null,
   "metadata": {},
   "outputs": [],
   "source": []
  }
 ],
 "metadata": {
  "kernelspec": {
   "display_name": "Python 3",
   "language": "python",
   "name": "python3"
  },
  "language_info": {
   "codemirror_mode": {
    "name": "ipython",
    "version": 3
   },
   "file_extension": ".py",
   "mimetype": "text/x-python",
   "name": "python",
   "nbconvert_exporter": "python",
   "pygments_lexer": "ipython3",
   "version": "3.8.5"
  }
 },
 "nbformat": 4,
 "nbformat_minor": 4
}
