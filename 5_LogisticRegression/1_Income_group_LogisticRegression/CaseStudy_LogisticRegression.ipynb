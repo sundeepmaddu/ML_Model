{
 "cells": [
  {
   "cell_type": "markdown",
   "id": "002e6e2b",
   "metadata": {
    "id": "HXJ7MT8d9WJL"
   },
   "source": [
    "## Income Group Classification"
   ]
  },
  {
   "cell_type": "markdown",
   "id": "b93146ba",
   "metadata": {
    "id": "2pM66Y9j9WJQ"
   },
   "source": [
    "## Context \n",
    "DeltaSquare is an NGO that works with the Government on matters of social policy to bring about a change in the lives of underprivileged sections of society. They are tasked with coming up with a policy framework by looking at the data government got from WHO. You as a data scientist at DeltaSquare are tasked with solving this problem and sharing a proposal for the government. "
   ]
  },
  {
   "cell_type": "markdown",
   "id": "487190ff",
   "metadata": {
    "id": "Z5BrK2Fo9WJS"
   },
   "source": [
    "### Objective\n",
    "\n",
    "1. What are the different factors that influence the income of an individual?\n",
    "\n",
    "2. To build a prediction model that can help the government formulate policies for the right pockets of the society."
   ]
  },
  {
   "cell_type": "markdown",
   "id": "6f9efdb3",
   "metadata": {
    "id": "WNvGGvrD9WJS"
   },
   "source": [
    "### Dataset\n",
    "\n",
    "The data contains characteristics of the people\n",
    "\n",
    "* age: continuous - age of a Person \n",
    "* workclass: Where does a person works - categorical -Private, Self-emp-not-inc, Self-emp-inc, Federal-gov, Local-gov, State-gov, Without-pay, Never-worked.\n",
    "* fnlwgt: continuous - Weight assigned by Current Population Survey (CPS) - People with similar demographic characteristics should have similar weights since it is a feature aimed to allocate similar weights to people with similar demographic characteristics.\n",
    "* education: Degree the person has - Bachelors, Some-college, 11th, HS-grad, Prof-school, Assoc-acdm, Assoc-voc, 9th, 7th-8th, 12th, Masters, 1st-4th, 10th, Doctorate, 5th-6th, Preschool.\n",
    "* education-num: no. of years a person studied - continuous.\n",
    "* marital-status: Married-civ-spouse, Divorced, Never-married, Separated, Widowed, Married-spouse-absent, Married-AF-spouse.\n",
    "* occupation: Tech-support, Craft-repair, Other-service, Sales, Exec-managerial, Prof-specialty, Handlers-cleaners, Machine-op-inspct, Adm-clerical, Farming-fishing, Transport-moving, Priv-house-serv, Protective-serv, Armed-Forces.\n",
    "* race: White, Asian-Pac-Islander, Amer-Indian-Eskimo, Other, Black.\n",
    "* sex: Female, Male.\n",
    "* capital-gain: Investment gain of the person other than salary - continuous\n",
    "* capital-loss: Loss from investments - continuous\n",
    "* hours-per-week: No. of hours a person works - continuous.\n",
    "* native-country: United-States, Cambodia, England, Puerto-Rico, Canada, Germany, Outlying-US(Guam-USVI-etc), India, Japan, Greece, South, China, Cuba, Iran, Honduras, Philippines, Italy, Poland, Jamaica, Vietnam, Mexico, Portugal, Ireland, France, Dominican-Republic, Laos, Ecuador, Taiwan, Haiti, Columbia, Hungary, Guatemala, Nicaragua, Scotland, Thailand, Yugoslavia, El-Salvador, Trinidad&Tobago, Peru, Hong, Holand-Netherlands.\n",
    "* salary: >50K, <=50K (dependent variable, the salary is in Dollars per year)"
   ]
  },
  {
   "cell_type": "markdown",
   "id": "30f65a96",
   "metadata": {
    "id": "ZzsW_RNeuNEx"
   },
   "source": [
    "### Loading Libraries"
   ]
  },
  {
   "cell_type": "code",
   "execution_count": 1,
   "id": "3ecd8d31",
   "metadata": {},
   "outputs": [],
   "source": [
    "import warnings\n",
    "warnings.filterwarnings(\"ignore\")\n",
    "\n",
    "# Libraries to help with reading and manipulating data\n",
    "\n",
    "import pandas as pd\n",
    "import numpy as np\n",
    "\n",
    "# Library to split data\n",
    "from sklearn.model_selection import train_test_split\n",
    "\n",
    "# libaries to help with data visualization\n",
    "import matplotlib.pyplot as plt\n",
    "import seaborn as sns\n",
    "\n",
    "# Removes the limit from the number of displayed columns and rows.\n",
    "# This is so I can see the entire dataframe when I  print it\n",
    "pd.set_option(\"display.max_columns\", None)\n",
    "# pd.set_option('display.max_rows', None)\n",
    "pd.set_option(\"display.max_rows\", 200)\n",
    "\n",
    "# To build linear model for statistical analysis and prediction\n",
    "import statsmodels.stats.api as sms\n",
    "from statsmodels.stats.outliers_influence import variance_inflation_factor\n",
    "import statsmodels.api as sm\n",
    "from statsmodels.tools.tools import add_constant\n",
    "\n",
    "# To build sklearn model\n",
    "from sklearn.linear_model import LogisticRegression\n",
    "\n",
    "# To get diferent metric scores\n",
    "from sklearn import metrics\n",
    "from sklearn.metrics import f1_score,accuracy_score, recall_score, precision_score, roc_auc_score, roc_curve, confusion_matrix, precision_recall_curve\n"
   ]
  },
  {
   "cell_type": "markdown",
   "id": "cff846ab",
   "metadata": {},
   "source": [
    "### Note: The first section of the notebook is the section that has been covered multiple times in the previous case studies.  For this discussion this part can be skipped and we can directly refer to this **<a href = #link1>summary</a>** of data cleaning steps and observations from EDA."
   ]
  },
  {
   "cell_type": "markdown",
   "id": "9405ff81",
   "metadata": {
    "id": "sAccTEIqj9VV"
   },
   "source": [
    "### Load data"
   ]
  },
  {
   "cell_type": "code",
   "execution_count": 2,
   "id": "f5632dc8",
   "metadata": {
    "id": "STzpWgWu9WJZ"
   },
   "outputs": [],
   "source": [
    "who = pd.read_csv(\"who_data.csv\")"
   ]
  },
  {
   "cell_type": "code",
   "execution_count": 3,
   "id": "fd136458",
   "metadata": {},
   "outputs": [],
   "source": [
    "# copying data to another variable to avoid any changes to original data\n",
    "data = who.copy()"
   ]
  },
  {
   "cell_type": "markdown",
   "id": "93e04038",
   "metadata": {},
   "source": [
    "### View the first and last 5 rows of the dataset."
   ]
  },
  {
   "cell_type": "code",
   "execution_count": 4,
   "id": "e89d5572",
   "metadata": {
    "colab": {
     "base_uri": "https://localhost:8080/",
     "height": 306
    },
    "id": "frKZJfik9WJc",
    "outputId": "80196792-f0f7-4482-d9be-ba731e441e23"
   },
   "outputs": [
    {
     "data": {
      "text/html": [
       "<div>\n",
       "<style scoped>\n",
       "    .dataframe tbody tr th:only-of-type {\n",
       "        vertical-align: middle;\n",
       "    }\n",
       "\n",
       "    .dataframe tbody tr th {\n",
       "        vertical-align: top;\n",
       "    }\n",
       "\n",
       "    .dataframe thead th {\n",
       "        text-align: right;\n",
       "    }\n",
       "</style>\n",
       "<table border=\"1\" class=\"dataframe\">\n",
       "  <thead>\n",
       "    <tr style=\"text-align: right;\">\n",
       "      <th></th>\n",
       "      <th>age</th>\n",
       "      <th>workclass</th>\n",
       "      <th>fnlwgt</th>\n",
       "      <th>education</th>\n",
       "      <th>education-no. of years</th>\n",
       "      <th>marital status</th>\n",
       "      <th>occupation</th>\n",
       "      <th>race</th>\n",
       "      <th>sex</th>\n",
       "      <th>capital gain</th>\n",
       "      <th>capital loss</th>\n",
       "      <th>working hours per week</th>\n",
       "      <th>native-country</th>\n",
       "      <th>salary</th>\n",
       "    </tr>\n",
       "  </thead>\n",
       "  <tbody>\n",
       "    <tr>\n",
       "      <th>0</th>\n",
       "      <td>39</td>\n",
       "      <td>State-gov</td>\n",
       "      <td>77516</td>\n",
       "      <td>Bachelors</td>\n",
       "      <td>13</td>\n",
       "      <td>Never-married</td>\n",
       "      <td>Adm-clerical</td>\n",
       "      <td>White</td>\n",
       "      <td>Male</td>\n",
       "      <td>2174</td>\n",
       "      <td>0</td>\n",
       "      <td>40</td>\n",
       "      <td>United-States</td>\n",
       "      <td>&lt;=50K</td>\n",
       "    </tr>\n",
       "    <tr>\n",
       "      <th>1</th>\n",
       "      <td>50</td>\n",
       "      <td>Self-emp-not-inc</td>\n",
       "      <td>83311</td>\n",
       "      <td>Bachelors</td>\n",
       "      <td>13</td>\n",
       "      <td>Married-civ-spouse</td>\n",
       "      <td>Exec-managerial</td>\n",
       "      <td>White</td>\n",
       "      <td>Male</td>\n",
       "      <td>0</td>\n",
       "      <td>0</td>\n",
       "      <td>13</td>\n",
       "      <td>United-States</td>\n",
       "      <td>&lt;=50K</td>\n",
       "    </tr>\n",
       "    <tr>\n",
       "      <th>2</th>\n",
       "      <td>38</td>\n",
       "      <td>Private</td>\n",
       "      <td>215646</td>\n",
       "      <td>HS-grad</td>\n",
       "      <td>9</td>\n",
       "      <td>Divorced</td>\n",
       "      <td>Handlers-cleaners</td>\n",
       "      <td>White</td>\n",
       "      <td>Male</td>\n",
       "      <td>0</td>\n",
       "      <td>0</td>\n",
       "      <td>40</td>\n",
       "      <td>United-States</td>\n",
       "      <td>&lt;=50K</td>\n",
       "    </tr>\n",
       "    <tr>\n",
       "      <th>3</th>\n",
       "      <td>53</td>\n",
       "      <td>Private</td>\n",
       "      <td>234721</td>\n",
       "      <td>11th</td>\n",
       "      <td>7</td>\n",
       "      <td>Married-civ-spouse</td>\n",
       "      <td>Handlers-cleaners</td>\n",
       "      <td>Black</td>\n",
       "      <td>Male</td>\n",
       "      <td>0</td>\n",
       "      <td>0</td>\n",
       "      <td>40</td>\n",
       "      <td>United-States</td>\n",
       "      <td>&lt;=50K</td>\n",
       "    </tr>\n",
       "    <tr>\n",
       "      <th>4</th>\n",
       "      <td>28</td>\n",
       "      <td>Private</td>\n",
       "      <td>338409</td>\n",
       "      <td>Bachelors</td>\n",
       "      <td>13</td>\n",
       "      <td>Married-civ-spouse</td>\n",
       "      <td>Prof-specialty</td>\n",
       "      <td>Black</td>\n",
       "      <td>Female</td>\n",
       "      <td>0</td>\n",
       "      <td>0</td>\n",
       "      <td>40</td>\n",
       "      <td>Cuba</td>\n",
       "      <td>&lt;=50K</td>\n",
       "    </tr>\n",
       "  </tbody>\n",
       "</table>\n",
       "</div>"
      ],
      "text/plain": [
       "   age          workclass  fnlwgt   education  education-no. of years  \\\n",
       "0   39          State-gov   77516   Bachelors                      13   \n",
       "1   50   Self-emp-not-inc   83311   Bachelors                      13   \n",
       "2   38            Private  215646     HS-grad                       9   \n",
       "3   53            Private  234721        11th                       7   \n",
       "4   28            Private  338409   Bachelors                      13   \n",
       "\n",
       "        marital status          occupation    race      sex  capital gain  \\\n",
       "0        Never-married        Adm-clerical   White     Male          2174   \n",
       "1   Married-civ-spouse     Exec-managerial   White     Male             0   \n",
       "2             Divorced   Handlers-cleaners   White     Male             0   \n",
       "3   Married-civ-spouse   Handlers-cleaners   Black     Male             0   \n",
       "4   Married-civ-spouse      Prof-specialty   Black   Female             0   \n",
       "\n",
       "   capital loss  working hours per week  native-country  salary  \n",
       "0             0                      40   United-States   <=50K  \n",
       "1             0                      13   United-States   <=50K  \n",
       "2             0                      40   United-States   <=50K  \n",
       "3             0                      40   United-States   <=50K  \n",
       "4             0                      40            Cuba   <=50K  "
      ]
     },
     "execution_count": 4,
     "metadata": {},
     "output_type": "execute_result"
    }
   ],
   "source": [
    "data.head()"
   ]
  },
  {
   "cell_type": "code",
   "execution_count": 5,
   "id": "f18ce311",
   "metadata": {},
   "outputs": [
    {
     "data": {
      "text/html": [
       "<div>\n",
       "<style scoped>\n",
       "    .dataframe tbody tr th:only-of-type {\n",
       "        vertical-align: middle;\n",
       "    }\n",
       "\n",
       "    .dataframe tbody tr th {\n",
       "        vertical-align: top;\n",
       "    }\n",
       "\n",
       "    .dataframe thead th {\n",
       "        text-align: right;\n",
       "    }\n",
       "</style>\n",
       "<table border=\"1\" class=\"dataframe\">\n",
       "  <thead>\n",
       "    <tr style=\"text-align: right;\">\n",
       "      <th></th>\n",
       "      <th>age</th>\n",
       "      <th>workclass</th>\n",
       "      <th>fnlwgt</th>\n",
       "      <th>education</th>\n",
       "      <th>education-no. of years</th>\n",
       "      <th>marital status</th>\n",
       "      <th>occupation</th>\n",
       "      <th>race</th>\n",
       "      <th>sex</th>\n",
       "      <th>capital gain</th>\n",
       "      <th>capital loss</th>\n",
       "      <th>working hours per week</th>\n",
       "      <th>native-country</th>\n",
       "      <th>salary</th>\n",
       "    </tr>\n",
       "  </thead>\n",
       "  <tbody>\n",
       "    <tr>\n",
       "      <th>32556</th>\n",
       "      <td>27</td>\n",
       "      <td>Private</td>\n",
       "      <td>257302</td>\n",
       "      <td>Assoc-acdm</td>\n",
       "      <td>12</td>\n",
       "      <td>Married-civ-spouse</td>\n",
       "      <td>Tech-support</td>\n",
       "      <td>White</td>\n",
       "      <td>Female</td>\n",
       "      <td>0</td>\n",
       "      <td>0</td>\n",
       "      <td>38</td>\n",
       "      <td>United-States</td>\n",
       "      <td>&lt;=50K</td>\n",
       "    </tr>\n",
       "    <tr>\n",
       "      <th>32557</th>\n",
       "      <td>40</td>\n",
       "      <td>Private</td>\n",
       "      <td>154374</td>\n",
       "      <td>HS-grad</td>\n",
       "      <td>9</td>\n",
       "      <td>Married-civ-spouse</td>\n",
       "      <td>Machine-op-inspct</td>\n",
       "      <td>White</td>\n",
       "      <td>Male</td>\n",
       "      <td>0</td>\n",
       "      <td>0</td>\n",
       "      <td>40</td>\n",
       "      <td>United-States</td>\n",
       "      <td>&gt;50K</td>\n",
       "    </tr>\n",
       "    <tr>\n",
       "      <th>32558</th>\n",
       "      <td>58</td>\n",
       "      <td>Private</td>\n",
       "      <td>151910</td>\n",
       "      <td>HS-grad</td>\n",
       "      <td>9</td>\n",
       "      <td>Widowed</td>\n",
       "      <td>Adm-clerical</td>\n",
       "      <td>White</td>\n",
       "      <td>Female</td>\n",
       "      <td>0</td>\n",
       "      <td>0</td>\n",
       "      <td>40</td>\n",
       "      <td>United-States</td>\n",
       "      <td>&lt;=50K</td>\n",
       "    </tr>\n",
       "    <tr>\n",
       "      <th>32559</th>\n",
       "      <td>22</td>\n",
       "      <td>Private</td>\n",
       "      <td>201490</td>\n",
       "      <td>HS-grad</td>\n",
       "      <td>9</td>\n",
       "      <td>Never-married</td>\n",
       "      <td>Adm-clerical</td>\n",
       "      <td>White</td>\n",
       "      <td>Male</td>\n",
       "      <td>0</td>\n",
       "      <td>0</td>\n",
       "      <td>20</td>\n",
       "      <td>United-States</td>\n",
       "      <td>&lt;=50K</td>\n",
       "    </tr>\n",
       "    <tr>\n",
       "      <th>32560</th>\n",
       "      <td>52</td>\n",
       "      <td>Self-emp-inc</td>\n",
       "      <td>287927</td>\n",
       "      <td>HS-grad</td>\n",
       "      <td>9</td>\n",
       "      <td>Married-civ-spouse</td>\n",
       "      <td>Exec-managerial</td>\n",
       "      <td>White</td>\n",
       "      <td>Female</td>\n",
       "      <td>15024</td>\n",
       "      <td>0</td>\n",
       "      <td>40</td>\n",
       "      <td>United-States</td>\n",
       "      <td>&gt;50K</td>\n",
       "    </tr>\n",
       "  </tbody>\n",
       "</table>\n",
       "</div>"
      ],
      "text/plain": [
       "       age      workclass  fnlwgt    education  education-no. of years  \\\n",
       "32556   27        Private  257302   Assoc-acdm                      12   \n",
       "32557   40        Private  154374      HS-grad                       9   \n",
       "32558   58        Private  151910      HS-grad                       9   \n",
       "32559   22        Private  201490      HS-grad                       9   \n",
       "32560   52   Self-emp-inc  287927      HS-grad                       9   \n",
       "\n",
       "            marital status          occupation    race      sex  capital gain  \\\n",
       "32556   Married-civ-spouse        Tech-support   White   Female             0   \n",
       "32557   Married-civ-spouse   Machine-op-inspct   White     Male             0   \n",
       "32558              Widowed        Adm-clerical   White   Female             0   \n",
       "32559        Never-married        Adm-clerical   White     Male             0   \n",
       "32560   Married-civ-spouse     Exec-managerial   White   Female         15024   \n",
       "\n",
       "       capital loss  working hours per week  native-country  salary  \n",
       "32556             0                      38   United-States   <=50K  \n",
       "32557             0                      40   United-States    >50K  \n",
       "32558             0                      40   United-States   <=50K  \n",
       "32559             0                      20   United-States   <=50K  \n",
       "32560             0                      40   United-States    >50K  "
      ]
     },
     "execution_count": 5,
     "metadata": {},
     "output_type": "execute_result"
    }
   ],
   "source": [
    "data.tail()"
   ]
  },
  {
   "cell_type": "markdown",
   "id": "8679e7cd",
   "metadata": {
    "colab_type": "text",
    "id": "dEuSu6e4hU2e"
   },
   "source": [
    "### Understand the shape of the dataset."
   ]
  },
  {
   "cell_type": "code",
   "execution_count": 6,
   "id": "02a8e996",
   "metadata": {},
   "outputs": [
    {
     "data": {
      "text/plain": [
       "(32561, 14)"
      ]
     },
     "execution_count": 6,
     "metadata": {},
     "output_type": "execute_result"
    }
   ],
   "source": [
    "data.shape"
   ]
  },
  {
   "cell_type": "markdown",
   "id": "ed2d1623",
   "metadata": {},
   "source": [
    "* The dataset has 32561 rows and 14 columns "
   ]
  },
  {
   "cell_type": "markdown",
   "id": "4ac4c48c",
   "metadata": {
    "colab_type": "text",
    "id": "mwAu-vEwhU2m"
   },
   "source": [
    "### Check the data types of the columns for the dataset."
   ]
  },
  {
   "cell_type": "code",
   "execution_count": 7,
   "id": "f769bed6",
   "metadata": {
    "colab": {
     "base_uri": "https://localhost:8080/"
    },
    "id": "UXqzxZrw9WJg",
    "outputId": "4d1e0b70-4911-4e63-d263-6168fa386b65",
    "scrolled": false
   },
   "outputs": [
    {
     "name": "stdout",
     "output_type": "stream",
     "text": [
      "<class 'pandas.core.frame.DataFrame'>\n",
      "RangeIndex: 32561 entries, 0 to 32560\n",
      "Data columns (total 14 columns):\n",
      " #   Column                  Non-Null Count  Dtype \n",
      "---  ------                  --------------  ----- \n",
      " 0   age                     32561 non-null  int64 \n",
      " 1   workclass               32561 non-null  object\n",
      " 2   fnlwgt                  32561 non-null  int64 \n",
      " 3   education               32561 non-null  object\n",
      " 4   education-no. of years  32561 non-null  int64 \n",
      " 5   marital status          32561 non-null  object\n",
      " 6   occupation              32561 non-null  object\n",
      " 7   race                    32561 non-null  object\n",
      " 8   sex                     32561 non-null  object\n",
      " 9   capital gain            32561 non-null  int64 \n",
      " 10  capital loss            32561 non-null  int64 \n",
      " 11  working hours per week  32561 non-null  int64 \n",
      " 12  native-country          32561 non-null  object\n",
      " 13  salary                  32561 non-null  object\n",
      "dtypes: int64(6), object(8)\n",
      "memory usage: 3.5+ MB\n"
     ]
    }
   ],
   "source": [
    "data.info()"
   ]
  },
  {
   "cell_type": "markdown",
   "id": "b502424d",
   "metadata": {
    "id": "kkceeszl9WJj"
   },
   "source": [
    "* We see that names of the columns have spaces, dots, and dash which we will remove as they should not be present in column names. We are doing this to maintain uniformity along with column names\n",
    "* Dependent variable is the salary which is of categorical type\n",
    "* age, capital gain, and capital loss are of integer type while other variables are of categorical type\n",
    "* There are no missing values in the dataset."
   ]
  },
  {
   "cell_type": "code",
   "execution_count": 8,
   "id": "e31eb373",
   "metadata": {
    "id": "BMXZrEVsuZcc"
   },
   "outputs": [],
   "source": [
    "# fixing the names of columns as there are dots, spaces  in columns names\n",
    "data.columns =[col.replace(' ','_') for col in data.columns]\n",
    "data.columns =[col.replace('-','_') for col in data.columns]\n",
    "data.columns =[col.replace('.','') for col in data.columns]"
   ]
  },
  {
   "cell_type": "code",
   "execution_count": 9,
   "id": "e6a27ec1",
   "metadata": {
    "colab": {
     "base_uri": "https://localhost:8080/"
    },
    "id": "3BUEfwoqudEU",
    "outputId": "4f861321-21f4-4fac-f144-1a3486e49f1f"
   },
   "outputs": [
    {
     "name": "stdout",
     "output_type": "stream",
     "text": [
      "Index(['age', 'workclass', 'fnlwgt', 'education', 'education_no_of_years',\n",
      "       'marital_status', 'occupation', 'race', 'sex', 'capital_gain',\n",
      "       'capital_loss', 'working_hours_per_week', 'native_country', 'salary'],\n",
      "      dtype='object')\n"
     ]
    }
   ],
   "source": [
    "print(data.columns)"
   ]
  },
  {
   "cell_type": "markdown",
   "id": "3203ba05",
   "metadata": {
    "id": "dGTJS089uj3d"
   },
   "source": [
    "* column names are fixed"
   ]
  },
  {
   "cell_type": "markdown",
   "id": "dd5dfdfc",
   "metadata": {
    "colab_type": "text",
    "id": "7E1orwlJhU20"
   },
   "source": [
    "### Summary of the dataset."
   ]
  },
  {
   "cell_type": "code",
   "execution_count": 10,
   "id": "eb4feccd",
   "metadata": {
    "colab": {
     "base_uri": "https://localhost:8080/",
     "height": 427
    },
    "id": "zWfoZeXv9WJm",
    "outputId": "a775bf9f-9a96-476d-889d-1ae4c5c616fe"
   },
   "outputs": [
    {
     "data": {
      "text/html": [
       "<div>\n",
       "<style scoped>\n",
       "    .dataframe tbody tr th:only-of-type {\n",
       "        vertical-align: middle;\n",
       "    }\n",
       "\n",
       "    .dataframe tbody tr th {\n",
       "        vertical-align: top;\n",
       "    }\n",
       "\n",
       "    .dataframe thead th {\n",
       "        text-align: right;\n",
       "    }\n",
       "</style>\n",
       "<table border=\"1\" class=\"dataframe\">\n",
       "  <thead>\n",
       "    <tr style=\"text-align: right;\">\n",
       "      <th></th>\n",
       "      <th>count</th>\n",
       "      <th>mean</th>\n",
       "      <th>std</th>\n",
       "      <th>min</th>\n",
       "      <th>25%</th>\n",
       "      <th>50%</th>\n",
       "      <th>75%</th>\n",
       "      <th>max</th>\n",
       "    </tr>\n",
       "  </thead>\n",
       "  <tbody>\n",
       "    <tr>\n",
       "      <th>age</th>\n",
       "      <td>32561.0</td>\n",
       "      <td>38.581647</td>\n",
       "      <td>13.640433</td>\n",
       "      <td>17.0</td>\n",
       "      <td>28.0</td>\n",
       "      <td>37.0</td>\n",
       "      <td>48.0</td>\n",
       "      <td>90.0</td>\n",
       "    </tr>\n",
       "    <tr>\n",
       "      <th>fnlwgt</th>\n",
       "      <td>32561.0</td>\n",
       "      <td>189778.366512</td>\n",
       "      <td>105549.977697</td>\n",
       "      <td>12285.0</td>\n",
       "      <td>117827.0</td>\n",
       "      <td>178356.0</td>\n",
       "      <td>237051.0</td>\n",
       "      <td>1484705.0</td>\n",
       "    </tr>\n",
       "    <tr>\n",
       "      <th>education_no_of_years</th>\n",
       "      <td>32561.0</td>\n",
       "      <td>10.080679</td>\n",
       "      <td>2.572720</td>\n",
       "      <td>1.0</td>\n",
       "      <td>9.0</td>\n",
       "      <td>10.0</td>\n",
       "      <td>12.0</td>\n",
       "      <td>16.0</td>\n",
       "    </tr>\n",
       "    <tr>\n",
       "      <th>capital_gain</th>\n",
       "      <td>32561.0</td>\n",
       "      <td>1077.648844</td>\n",
       "      <td>7385.292085</td>\n",
       "      <td>0.0</td>\n",
       "      <td>0.0</td>\n",
       "      <td>0.0</td>\n",
       "      <td>0.0</td>\n",
       "      <td>99999.0</td>\n",
       "    </tr>\n",
       "    <tr>\n",
       "      <th>capital_loss</th>\n",
       "      <td>32561.0</td>\n",
       "      <td>87.303830</td>\n",
       "      <td>402.960219</td>\n",
       "      <td>0.0</td>\n",
       "      <td>0.0</td>\n",
       "      <td>0.0</td>\n",
       "      <td>0.0</td>\n",
       "      <td>4356.0</td>\n",
       "    </tr>\n",
       "    <tr>\n",
       "      <th>working_hours_per_week</th>\n",
       "      <td>32561.0</td>\n",
       "      <td>40.437456</td>\n",
       "      <td>12.347429</td>\n",
       "      <td>1.0</td>\n",
       "      <td>40.0</td>\n",
       "      <td>40.0</td>\n",
       "      <td>45.0</td>\n",
       "      <td>99.0</td>\n",
       "    </tr>\n",
       "  </tbody>\n",
       "</table>\n",
       "</div>"
      ],
      "text/plain": [
       "                          count           mean            std      min  \\\n",
       "age                     32561.0      38.581647      13.640433     17.0   \n",
       "fnlwgt                  32561.0  189778.366512  105549.977697  12285.0   \n",
       "education_no_of_years   32561.0      10.080679       2.572720      1.0   \n",
       "capital_gain            32561.0    1077.648844    7385.292085      0.0   \n",
       "capital_loss            32561.0      87.303830     402.960219      0.0   \n",
       "working_hours_per_week  32561.0      40.437456      12.347429      1.0   \n",
       "\n",
       "                             25%       50%       75%        max  \n",
       "age                         28.0      37.0      48.0       90.0  \n",
       "fnlwgt                  117827.0  178356.0  237051.0  1484705.0  \n",
       "education_no_of_years        9.0      10.0      12.0       16.0  \n",
       "capital_gain                 0.0       0.0       0.0    99999.0  \n",
       "capital_loss                 0.0       0.0       0.0     4356.0  \n",
       "working_hours_per_week      40.0      40.0      45.0       99.0  "
      ]
     },
     "execution_count": 10,
     "metadata": {},
     "output_type": "execute_result"
    }
   ],
   "source": [
    "data.describe().T"
   ]
  },
  {
   "cell_type": "markdown",
   "id": "4fe777bc",
   "metadata": {
    "id": "aMsnBrFN9WJp"
   },
   "source": [
    "* `age`: Average age of people in the dataset is 38 years, age has a wide range from 17 to 90 years.\n",
    "* `education_no_of_years`: The average education in years is 10 years. There's a large difference between the minimum value and 25th percentile which indicates that there might be outliers present in this variable.\n",
    "* `capital_gain`: There's a huge difference in the 75th percentile and maximum value of capital_gain indicating the presence of outliers. Also, 75% of the observations are 0.\n",
    "* `capital_loss`: Same as capital gain there's a huge difference in the 75th percentile and maximum value indicating the presence of outliers. Also, 75% of the observations are 0.\n",
    "* `working_hours_per_week`: On average people work for 40 hours a week. A vast difference in minimum value and 25th percentile, as well as 75th percentile and the maximum value, indicates that there might be outliers present in the variable."
   ]
  },
  {
   "cell_type": "markdown",
   "id": "b74d6dc3",
   "metadata": {
    "id": "4qAJgcnu9WJz"
   },
   "source": [
    "**Lets us look at different levels in categorical variables**"
   ]
  },
  {
   "cell_type": "code",
   "execution_count": 11,
   "id": "717403d7",
   "metadata": {},
   "outputs": [
    {
     "data": {
      "text/plain": [
       "Index(['workclass', 'education', 'marital_status', 'occupation', 'race', 'sex',\n",
       "       'native_country', 'salary'],\n",
       "      dtype='object')"
      ]
     },
     "execution_count": 11,
     "metadata": {},
     "output_type": "execute_result"
    }
   ],
   "source": [
    "# filtering object type columns\n",
    "cat_columns = data.describe(include=['object']).columns\n",
    "cat_columns"
   ]
  },
  {
   "cell_type": "code",
   "execution_count": 12,
   "id": "bcde269f",
   "metadata": {
    "scrolled": false
   },
   "outputs": [
    {
     "name": "stdout",
     "output_type": "stream",
     "text": [
      "Unique values in workclass are :\n",
      " Private             22696\n",
      " Self-emp-not-inc     2541\n",
      " Local-gov            2093\n",
      " ?                    1836\n",
      " State-gov            1298\n",
      " Self-emp-inc         1116\n",
      " Federal-gov           960\n",
      " Without-pay            14\n",
      " Never-worked            7\n",
      "Name: workclass, dtype: int64\n",
      "**************************************************\n",
      "Unique values in education are :\n",
      " HS-grad         10501\n",
      " Some-college     7291\n",
      " Bachelors        5355\n",
      " Masters          1723\n",
      " Assoc-voc        1382\n",
      " 11th             1175\n",
      " Assoc-acdm       1067\n",
      " 10th              933\n",
      " 7th-8th           646\n",
      " Prof-school       576\n",
      " 9th               514\n",
      " 12th              433\n",
      " Doctorate         413\n",
      " 5th-6th           333\n",
      " 1st-4th           168\n",
      " Preschool          51\n",
      "Name: education, dtype: int64\n",
      "**************************************************\n",
      "Unique values in marital_status are :\n",
      " Married-civ-spouse       14976\n",
      " Never-married            10683\n",
      " Divorced                  4443\n",
      " Separated                 1025\n",
      " Widowed                    993\n",
      " Married-spouse-absent      418\n",
      " Married-AF-spouse           23\n",
      "Name: marital_status, dtype: int64\n",
      "**************************************************\n",
      "Unique values in occupation are :\n",
      " Prof-specialty       4140\n",
      " Craft-repair         4099\n",
      " Exec-managerial      4066\n",
      " Adm-clerical         3770\n",
      " Sales                3650\n",
      " Other-service        3295\n",
      " Machine-op-inspct    2002\n",
      " ?                    1843\n",
      " Transport-moving     1597\n",
      " Handlers-cleaners    1370\n",
      " Farming-fishing       994\n",
      " Tech-support          928\n",
      " Protective-serv       649\n",
      " Priv-house-serv       149\n",
      " Armed-Forces            9\n",
      "Name: occupation, dtype: int64\n",
      "**************************************************\n",
      "Unique values in race are :\n",
      " White                 27816\n",
      " Black                  3124\n",
      " Asian-Pac-Islander     1039\n",
      " Amer-Indian-Eskimo      311\n",
      " Other                   271\n",
      "Name: race, dtype: int64\n",
      "**************************************************\n",
      "Unique values in sex are :\n",
      " Male      21790\n",
      " Female    10771\n",
      "Name: sex, dtype: int64\n",
      "**************************************************\n",
      "Unique values in native_country are :\n",
      " United-States                 29170\n",
      " Mexico                          643\n",
      " ?                               583\n",
      " Philippines                     198\n",
      " Germany                         137\n",
      " Canada                          121\n",
      " Puerto-Rico                     114\n",
      " El-Salvador                     106\n",
      " India                           100\n",
      " Cuba                             95\n",
      " England                          90\n",
      " Jamaica                          81\n",
      " South                            80\n",
      " China                            75\n",
      " Italy                            73\n",
      " Dominican-Republic               70\n",
      " Vietnam                          67\n",
      " Guatemala                        64\n",
      " Japan                            62\n",
      " Poland                           60\n",
      " Columbia                         59\n",
      " Taiwan                           51\n",
      " Haiti                            44\n",
      " Iran                             43\n",
      " Portugal                         37\n",
      " Nicaragua                        34\n",
      " Peru                             31\n",
      " France                           29\n",
      " Greece                           29\n",
      " Ecuador                          28\n",
      " Ireland                          24\n",
      " Hong                             20\n",
      " Trinadad&Tobago                  19\n",
      " Cambodia                         19\n",
      " Laos                             18\n",
      " Thailand                         18\n",
      " Yugoslavia                       16\n",
      " Outlying-US(Guam-USVI-etc)       14\n",
      " Hungary                          13\n",
      " Honduras                         13\n",
      " Scotland                         12\n",
      " Holand-Netherlands                1\n",
      "Name: native_country, dtype: int64\n",
      "**************************************************\n",
      "Unique values in salary are :\n",
      " <=50K    24720\n",
      " >50K      7841\n",
      "Name: salary, dtype: int64\n",
      "**************************************************\n"
     ]
    }
   ],
   "source": [
    "for i in cat_columns:\n",
    "    print('Unique values in',i, 'are :')\n",
    "    print(data[i].value_counts())\n",
    "    print('*'*50)"
   ]
  },
  {
   "cell_type": "markdown",
   "id": "9cf2b101",
   "metadata": {},
   "source": [
    "* There are some values represented by a '?' in workclass, occupation, and native country columns which we should investigate further.\n",
    "* There are many distinct values in native_country that can be reduced to their respective continents.\n",
    "* The distinct levels of marital_status can also be reduced."
   ]
  },
  {
   "cell_type": "markdown",
   "id": "893106cf",
   "metadata": {},
   "source": [
    "#### We can assume that wherever there is a ? the data is unknown or missing. Let us see if there is a pattern in the missingness."
   ]
  },
  {
   "cell_type": "markdown",
   "id": "99c8612e",
   "metadata": {},
   "source": [
    "#### workclass"
   ]
  },
  {
   "cell_type": "code",
   "execution_count": 13,
   "id": "669299e3",
   "metadata": {},
   "outputs": [
    {
     "data": {
      "text/html": [
       "<div>\n",
       "<style scoped>\n",
       "    .dataframe tbody tr th:only-of-type {\n",
       "        vertical-align: middle;\n",
       "    }\n",
       "\n",
       "    .dataframe tbody tr th {\n",
       "        vertical-align: top;\n",
       "    }\n",
       "\n",
       "    .dataframe thead th {\n",
       "        text-align: right;\n",
       "    }\n",
       "</style>\n",
       "<table border=\"1\" class=\"dataframe\">\n",
       "  <thead>\n",
       "    <tr style=\"text-align: right;\">\n",
       "      <th></th>\n",
       "      <th>age</th>\n",
       "      <th>workclass</th>\n",
       "      <th>fnlwgt</th>\n",
       "      <th>education</th>\n",
       "      <th>education_no_of_years</th>\n",
       "      <th>marital_status</th>\n",
       "      <th>occupation</th>\n",
       "      <th>race</th>\n",
       "      <th>sex</th>\n",
       "      <th>capital_gain</th>\n",
       "      <th>capital_loss</th>\n",
       "      <th>working_hours_per_week</th>\n",
       "      <th>native_country</th>\n",
       "      <th>salary</th>\n",
       "    </tr>\n",
       "  </thead>\n",
       "  <tbody>\n",
       "    <tr>\n",
       "      <th>22101</th>\n",
       "      <td>21</td>\n",
       "      <td>?</td>\n",
       "      <td>262280</td>\n",
       "      <td>Some-college</td>\n",
       "      <td>10</td>\n",
       "      <td>Married-civ-spouse</td>\n",
       "      <td>?</td>\n",
       "      <td>White</td>\n",
       "      <td>Female</td>\n",
       "      <td>3781</td>\n",
       "      <td>0</td>\n",
       "      <td>40</td>\n",
       "      <td>United-States</td>\n",
       "      <td>&lt;=50K</td>\n",
       "    </tr>\n",
       "    <tr>\n",
       "      <th>8085</th>\n",
       "      <td>67</td>\n",
       "      <td>?</td>\n",
       "      <td>81761</td>\n",
       "      <td>HS-grad</td>\n",
       "      <td>9</td>\n",
       "      <td>Divorced</td>\n",
       "      <td>?</td>\n",
       "      <td>White</td>\n",
       "      <td>Male</td>\n",
       "      <td>0</td>\n",
       "      <td>0</td>\n",
       "      <td>20</td>\n",
       "      <td>United-States</td>\n",
       "      <td>&lt;=50K</td>\n",
       "    </tr>\n",
       "    <tr>\n",
       "      <th>10253</th>\n",
       "      <td>17</td>\n",
       "      <td>?</td>\n",
       "      <td>210547</td>\n",
       "      <td>10th</td>\n",
       "      <td>6</td>\n",
       "      <td>Never-married</td>\n",
       "      <td>?</td>\n",
       "      <td>White</td>\n",
       "      <td>Male</td>\n",
       "      <td>0</td>\n",
       "      <td>0</td>\n",
       "      <td>40</td>\n",
       "      <td>United-States</td>\n",
       "      <td>&lt;=50K</td>\n",
       "    </tr>\n",
       "    <tr>\n",
       "      <th>7763</th>\n",
       "      <td>53</td>\n",
       "      <td>?</td>\n",
       "      <td>64322</td>\n",
       "      <td>7th-8th</td>\n",
       "      <td>4</td>\n",
       "      <td>Separated</td>\n",
       "      <td>?</td>\n",
       "      <td>White</td>\n",
       "      <td>Male</td>\n",
       "      <td>0</td>\n",
       "      <td>0</td>\n",
       "      <td>40</td>\n",
       "      <td>United-States</td>\n",
       "      <td>&lt;=50K</td>\n",
       "    </tr>\n",
       "    <tr>\n",
       "      <th>27085</th>\n",
       "      <td>18</td>\n",
       "      <td>?</td>\n",
       "      <td>78567</td>\n",
       "      <td>Some-college</td>\n",
       "      <td>10</td>\n",
       "      <td>Never-married</td>\n",
       "      <td>?</td>\n",
       "      <td>White</td>\n",
       "      <td>Male</td>\n",
       "      <td>0</td>\n",
       "      <td>0</td>\n",
       "      <td>30</td>\n",
       "      <td>United-States</td>\n",
       "      <td>&lt;=50K</td>\n",
       "    </tr>\n",
       "  </tbody>\n",
       "</table>\n",
       "</div>"
      ],
      "text/plain": [
       "       age workclass  fnlwgt      education  education_no_of_years  \\\n",
       "22101   21         ?  262280   Some-college                     10   \n",
       "8085    67         ?   81761        HS-grad                      9   \n",
       "10253   17         ?  210547           10th                      6   \n",
       "7763    53         ?   64322        7th-8th                      4   \n",
       "27085   18         ?   78567   Some-college                     10   \n",
       "\n",
       "            marital_status occupation    race      sex  capital_gain  \\\n",
       "22101   Married-civ-spouse          ?   White   Female          3781   \n",
       "8085              Divorced          ?   White     Male             0   \n",
       "10253        Never-married          ?   White     Male             0   \n",
       "7763             Separated          ?   White     Male             0   \n",
       "27085        Never-married          ?   White     Male             0   \n",
       "\n",
       "       capital_loss  working_hours_per_week  native_country  salary  \n",
       "22101             0                      40   United-States   <=50K  \n",
       "8085              0                      20   United-States   <=50K  \n",
       "10253             0                      40   United-States   <=50K  \n",
       "7763              0                      40   United-States   <=50K  \n",
       "27085             0                      30   United-States   <=50K  "
      ]
     },
     "execution_count": 13,
     "metadata": {},
     "output_type": "execute_result"
    }
   ],
   "source": [
    "data[data['workclass'] ==' ?'].sample(5)"
   ]
  },
  {
   "cell_type": "markdown",
   "id": "b37909e9",
   "metadata": {},
   "source": [
    "* From the sample it looks like wherever workclass is missing occupation is also missing. \n",
    "* It looks like for ? observations in workclass the native country is the United States.\n",
    "* Let's see if the above observations hold."
   ]
  },
  {
   "cell_type": "code",
   "execution_count": 14,
   "id": "30142cb3",
   "metadata": {},
   "outputs": [
    {
     "data": {
      "text/plain": [
       " ?    1836\n",
       "Name: occupation, dtype: int64"
      ]
     },
     "execution_count": 14,
     "metadata": {},
     "output_type": "execute_result"
    }
   ],
   "source": [
    "data[data['workclass'] ==' ?']['occupation'].value_counts()"
   ]
  },
  {
   "cell_type": "markdown",
   "id": "2dac6151",
   "metadata": {},
   "source": [
    "* It is indeed true that wherever workclass has ? the occupation is also ?\n",
    "* This indicates there is a strong pattern in the missingness of workclass and occupation. This is intuitive as well because both the columns are capturing similar information."
   ]
  },
  {
   "cell_type": "code",
   "execution_count": 15,
   "id": "148bb936",
   "metadata": {},
   "outputs": [
    {
     "data": {
      "text/plain": [
       " United-States         1659\n",
       " Mexico                  33\n",
       " ?                       27\n",
       " Canada                  14\n",
       " Philippines             10\n",
       " Taiwan                   9\n",
       " Germany                  9\n",
       " South                    9\n",
       " China                    7\n",
       " El-Salvador              6\n",
       " Italy                    5\n",
       " Puerto-Rico              5\n",
       " Poland                   4\n",
       " England                  4\n",
       " Dominican-Republic       3\n",
       " Vietnam                  3\n",
       " Columbia                 3\n",
       " Japan                    3\n",
       " Cuba                     3\n",
       " Portugal                 3\n",
       " Haiti                    2\n",
       " France                   2\n",
       " Scotland                 1\n",
       " Thailand                 1\n",
       " Cambodia                 1\n",
       " Guatemala                1\n",
       " Jamaica                  1\n",
       " Iran                     1\n",
       " Honduras                 1\n",
       " Nicaragua                1\n",
       " Peru                     1\n",
       " Ecuador                  1\n",
       " Trinadad&Tobago          1\n",
       " Hong                     1\n",
       " Laos                     1\n",
       "Name: native_country, dtype: int64"
      ]
     },
     "execution_count": 15,
     "metadata": {},
     "output_type": "execute_result"
    }
   ],
   "source": [
    "data[data['workclass'] ==' ?']['native_country'].value_counts()"
   ]
  },
  {
   "cell_type": "markdown",
   "id": "2df563ae",
   "metadata": {},
   "source": [
    "* The above observations don't hold for native_country as there many other countries where the observations are ?."
   ]
  },
  {
   "cell_type": "markdown",
   "id": "f6ec1591",
   "metadata": {},
   "source": [
    "#### occupation"
   ]
  },
  {
   "cell_type": "code",
   "execution_count": 16,
   "id": "1026ae27",
   "metadata": {},
   "outputs": [
    {
     "data": {
      "text/html": [
       "<div>\n",
       "<style scoped>\n",
       "    .dataframe tbody tr th:only-of-type {\n",
       "        vertical-align: middle;\n",
       "    }\n",
       "\n",
       "    .dataframe tbody tr th {\n",
       "        vertical-align: top;\n",
       "    }\n",
       "\n",
       "    .dataframe thead th {\n",
       "        text-align: right;\n",
       "    }\n",
       "</style>\n",
       "<table border=\"1\" class=\"dataframe\">\n",
       "  <thead>\n",
       "    <tr style=\"text-align: right;\">\n",
       "      <th></th>\n",
       "      <th>age</th>\n",
       "      <th>workclass</th>\n",
       "      <th>fnlwgt</th>\n",
       "      <th>education</th>\n",
       "      <th>education_no_of_years</th>\n",
       "      <th>marital_status</th>\n",
       "      <th>occupation</th>\n",
       "      <th>race</th>\n",
       "      <th>sex</th>\n",
       "      <th>capital_gain</th>\n",
       "      <th>capital_loss</th>\n",
       "      <th>working_hours_per_week</th>\n",
       "      <th>native_country</th>\n",
       "      <th>salary</th>\n",
       "    </tr>\n",
       "  </thead>\n",
       "  <tbody>\n",
       "    <tr>\n",
       "      <th>30208</th>\n",
       "      <td>17</td>\n",
       "      <td>?</td>\n",
       "      <td>34019</td>\n",
       "      <td>10th</td>\n",
       "      <td>6</td>\n",
       "      <td>Never-married</td>\n",
       "      <td>?</td>\n",
       "      <td>White</td>\n",
       "      <td>Male</td>\n",
       "      <td>0</td>\n",
       "      <td>0</td>\n",
       "      <td>20</td>\n",
       "      <td>United-States</td>\n",
       "      <td>&lt;=50K</td>\n",
       "    </tr>\n",
       "    <tr>\n",
       "      <th>27563</th>\n",
       "      <td>28</td>\n",
       "      <td>?</td>\n",
       "      <td>131310</td>\n",
       "      <td>HS-grad</td>\n",
       "      <td>9</td>\n",
       "      <td>Separated</td>\n",
       "      <td>?</td>\n",
       "      <td>White</td>\n",
       "      <td>Female</td>\n",
       "      <td>0</td>\n",
       "      <td>0</td>\n",
       "      <td>40</td>\n",
       "      <td>United-States</td>\n",
       "      <td>&lt;=50K</td>\n",
       "    </tr>\n",
       "    <tr>\n",
       "      <th>25056</th>\n",
       "      <td>18</td>\n",
       "      <td>?</td>\n",
       "      <td>67793</td>\n",
       "      <td>HS-grad</td>\n",
       "      <td>9</td>\n",
       "      <td>Never-married</td>\n",
       "      <td>?</td>\n",
       "      <td>White</td>\n",
       "      <td>Female</td>\n",
       "      <td>0</td>\n",
       "      <td>0</td>\n",
       "      <td>60</td>\n",
       "      <td>United-States</td>\n",
       "      <td>&lt;=50K</td>\n",
       "    </tr>\n",
       "    <tr>\n",
       "      <th>5928</th>\n",
       "      <td>21</td>\n",
       "      <td>?</td>\n",
       "      <td>134746</td>\n",
       "      <td>Some-college</td>\n",
       "      <td>10</td>\n",
       "      <td>Never-married</td>\n",
       "      <td>?</td>\n",
       "      <td>White</td>\n",
       "      <td>Female</td>\n",
       "      <td>0</td>\n",
       "      <td>0</td>\n",
       "      <td>35</td>\n",
       "      <td>United-States</td>\n",
       "      <td>&lt;=50K</td>\n",
       "    </tr>\n",
       "    <tr>\n",
       "      <th>30827</th>\n",
       "      <td>57</td>\n",
       "      <td>?</td>\n",
       "      <td>50248</td>\n",
       "      <td>Some-college</td>\n",
       "      <td>10</td>\n",
       "      <td>Married-civ-spouse</td>\n",
       "      <td>?</td>\n",
       "      <td>White</td>\n",
       "      <td>Male</td>\n",
       "      <td>0</td>\n",
       "      <td>0</td>\n",
       "      <td>40</td>\n",
       "      <td>United-States</td>\n",
       "      <td>&lt;=50K</td>\n",
       "    </tr>\n",
       "  </tbody>\n",
       "</table>\n",
       "</div>"
      ],
      "text/plain": [
       "       age workclass  fnlwgt      education  education_no_of_years  \\\n",
       "30208   17         ?   34019           10th                      6   \n",
       "27563   28         ?  131310        HS-grad                      9   \n",
       "25056   18         ?   67793        HS-grad                      9   \n",
       "5928    21         ?  134746   Some-college                     10   \n",
       "30827   57         ?   50248   Some-college                     10   \n",
       "\n",
       "            marital_status occupation    race      sex  capital_gain  \\\n",
       "30208        Never-married          ?   White     Male             0   \n",
       "27563            Separated          ?   White   Female             0   \n",
       "25056        Never-married          ?   White   Female             0   \n",
       "5928         Never-married          ?   White   Female             0   \n",
       "30827   Married-civ-spouse          ?   White     Male             0   \n",
       "\n",
       "       capital_loss  working_hours_per_week  native_country  salary  \n",
       "30208             0                      20   United-States   <=50K  \n",
       "27563             0                      40   United-States   <=50K  \n",
       "25056             0                      60   United-States   <=50K  \n",
       "5928              0                      35   United-States   <=50K  \n",
       "30827             0                      40   United-States   <=50K  "
      ]
     },
     "execution_count": 16,
     "metadata": {},
     "output_type": "execute_result"
    }
   ],
   "source": [
    "data[data['occupation'] ==' ?'].sample(5)"
   ]
  },
  {
   "cell_type": "code",
   "execution_count": 17,
   "id": "ba3e18c1",
   "metadata": {},
   "outputs": [
    {
     "data": {
      "text/plain": [
       " ?               1836\n",
       " Never-worked       7\n",
       "Name: workclass, dtype: int64"
      ]
     },
     "execution_count": 17,
     "metadata": {},
     "output_type": "execute_result"
    }
   ],
   "source": [
    "data[data['occupation'] ==' ?']['workclass'].value_counts()"
   ]
  },
  {
   "cell_type": "markdown",
   "id": "2f11e50e",
   "metadata": {},
   "source": [
    "* We observe the same pattern here, where occupation is ? most of the values in workclass are ?."
   ]
  },
  {
   "cell_type": "code",
   "execution_count": 18,
   "id": "0040b0e4",
   "metadata": {},
   "outputs": [
    {
     "data": {
      "text/plain": [
       " United-States         1666\n",
       " Mexico                  33\n",
       " ?                       27\n",
       " Canada                  14\n",
       " Philippines             10\n",
       " Taiwan                   9\n",
       " Germany                  9\n",
       " South                    9\n",
       " China                    7\n",
       " El-Salvador              6\n",
       " Italy                    5\n",
       " Puerto-Rico              5\n",
       " Poland                   4\n",
       " England                  4\n",
       " Dominican-Republic       3\n",
       " Vietnam                  3\n",
       " Columbia                 3\n",
       " Japan                    3\n",
       " Cuba                     3\n",
       " Portugal                 3\n",
       " Haiti                    2\n",
       " France                   2\n",
       " Scotland                 1\n",
       " Thailand                 1\n",
       " Cambodia                 1\n",
       " Guatemala                1\n",
       " Jamaica                  1\n",
       " Iran                     1\n",
       " Honduras                 1\n",
       " Nicaragua                1\n",
       " Peru                     1\n",
       " Ecuador                  1\n",
       " Trinadad&Tobago          1\n",
       " Hong                     1\n",
       " Laos                     1\n",
       "Name: native_country, dtype: int64"
      ]
     },
     "execution_count": 18,
     "metadata": {},
     "output_type": "execute_result"
    }
   ],
   "source": [
    "data[data['occupation'] ==' ?']['native_country'].value_counts()"
   ]
  },
  {
   "cell_type": "markdown",
   "id": "5f15d397",
   "metadata": {},
   "source": [
    "* The native_country column has other countries where the observations are ? corresponding to ?s in occupation."
   ]
  },
  {
   "cell_type": "markdown",
   "id": "14cced77",
   "metadata": {},
   "source": [
    "#### native_country"
   ]
  },
  {
   "cell_type": "code",
   "execution_count": 19,
   "id": "b2b7f5ec",
   "metadata": {},
   "outputs": [
    {
     "data": {
      "text/html": [
       "<div>\n",
       "<style scoped>\n",
       "    .dataframe tbody tr th:only-of-type {\n",
       "        vertical-align: middle;\n",
       "    }\n",
       "\n",
       "    .dataframe tbody tr th {\n",
       "        vertical-align: top;\n",
       "    }\n",
       "\n",
       "    .dataframe thead th {\n",
       "        text-align: right;\n",
       "    }\n",
       "</style>\n",
       "<table border=\"1\" class=\"dataframe\">\n",
       "  <thead>\n",
       "    <tr style=\"text-align: right;\">\n",
       "      <th></th>\n",
       "      <th>age</th>\n",
       "      <th>workclass</th>\n",
       "      <th>fnlwgt</th>\n",
       "      <th>education</th>\n",
       "      <th>education_no_of_years</th>\n",
       "      <th>marital_status</th>\n",
       "      <th>occupation</th>\n",
       "      <th>race</th>\n",
       "      <th>sex</th>\n",
       "      <th>capital_gain</th>\n",
       "      <th>capital_loss</th>\n",
       "      <th>working_hours_per_week</th>\n",
       "      <th>native_country</th>\n",
       "      <th>salary</th>\n",
       "    </tr>\n",
       "  </thead>\n",
       "  <tbody>\n",
       "    <tr>\n",
       "      <th>6242</th>\n",
       "      <td>27</td>\n",
       "      <td>Private</td>\n",
       "      <td>195681</td>\n",
       "      <td>Some-college</td>\n",
       "      <td>10</td>\n",
       "      <td>Never-married</td>\n",
       "      <td>Prof-specialty</td>\n",
       "      <td>White</td>\n",
       "      <td>Female</td>\n",
       "      <td>0</td>\n",
       "      <td>0</td>\n",
       "      <td>48</td>\n",
       "      <td>?</td>\n",
       "      <td>&lt;=50K</td>\n",
       "    </tr>\n",
       "    <tr>\n",
       "      <th>453</th>\n",
       "      <td>42</td>\n",
       "      <td>Private</td>\n",
       "      <td>197583</td>\n",
       "      <td>Assoc-acdm</td>\n",
       "      <td>12</td>\n",
       "      <td>Married-civ-spouse</td>\n",
       "      <td>Exec-managerial</td>\n",
       "      <td>Black</td>\n",
       "      <td>Male</td>\n",
       "      <td>0</td>\n",
       "      <td>0</td>\n",
       "      <td>40</td>\n",
       "      <td>?</td>\n",
       "      <td>&gt;50K</td>\n",
       "    </tr>\n",
       "    <tr>\n",
       "      <th>12362</th>\n",
       "      <td>29</td>\n",
       "      <td>State-gov</td>\n",
       "      <td>106334</td>\n",
       "      <td>Masters</td>\n",
       "      <td>14</td>\n",
       "      <td>Never-married</td>\n",
       "      <td>Exec-managerial</td>\n",
       "      <td>White</td>\n",
       "      <td>Male</td>\n",
       "      <td>0</td>\n",
       "      <td>0</td>\n",
       "      <td>40</td>\n",
       "      <td>?</td>\n",
       "      <td>&lt;=50K</td>\n",
       "    </tr>\n",
       "    <tr>\n",
       "      <th>887</th>\n",
       "      <td>33</td>\n",
       "      <td>Self-emp-inc</td>\n",
       "      <td>155781</td>\n",
       "      <td>Some-college</td>\n",
       "      <td>10</td>\n",
       "      <td>Married-civ-spouse</td>\n",
       "      <td>Craft-repair</td>\n",
       "      <td>White</td>\n",
       "      <td>Male</td>\n",
       "      <td>0</td>\n",
       "      <td>0</td>\n",
       "      <td>60</td>\n",
       "      <td>?</td>\n",
       "      <td>&lt;=50K</td>\n",
       "    </tr>\n",
       "    <tr>\n",
       "      <th>6186</th>\n",
       "      <td>43</td>\n",
       "      <td>Private</td>\n",
       "      <td>163215</td>\n",
       "      <td>Bachelors</td>\n",
       "      <td>13</td>\n",
       "      <td>Married-civ-spouse</td>\n",
       "      <td>Other-service</td>\n",
       "      <td>White</td>\n",
       "      <td>Female</td>\n",
       "      <td>0</td>\n",
       "      <td>0</td>\n",
       "      <td>35</td>\n",
       "      <td>?</td>\n",
       "      <td>&gt;50K</td>\n",
       "    </tr>\n",
       "  </tbody>\n",
       "</table>\n",
       "</div>"
      ],
      "text/plain": [
       "       age      workclass  fnlwgt      education  education_no_of_years  \\\n",
       "6242    27        Private  195681   Some-college                     10   \n",
       "453     42        Private  197583     Assoc-acdm                     12   \n",
       "12362   29      State-gov  106334        Masters                     14   \n",
       "887     33   Self-emp-inc  155781   Some-college                     10   \n",
       "6186    43        Private  163215      Bachelors                     13   \n",
       "\n",
       "            marital_status        occupation    race      sex  capital_gain  \\\n",
       "6242         Never-married    Prof-specialty   White   Female             0   \n",
       "453     Married-civ-spouse   Exec-managerial   Black     Male             0   \n",
       "12362        Never-married   Exec-managerial   White     Male             0   \n",
       "887     Married-civ-spouse      Craft-repair   White     Male             0   \n",
       "6186    Married-civ-spouse     Other-service   White   Female             0   \n",
       "\n",
       "       capital_loss  working_hours_per_week native_country  salary  \n",
       "6242              0                      48              ?   <=50K  \n",
       "453               0                      40              ?    >50K  \n",
       "12362             0                      40              ?   <=50K  \n",
       "887               0                      60              ?   <=50K  \n",
       "6186              0                      35              ?    >50K  "
      ]
     },
     "execution_count": 19,
     "metadata": {},
     "output_type": "execute_result"
    }
   ],
   "source": [
    "data[data['native_country'] ==' ?'].sample(5)"
   ]
  },
  {
   "cell_type": "code",
   "execution_count": 20,
   "id": "9ea33758",
   "metadata": {},
   "outputs": [
    {
     "data": {
      "text/plain": [
       " Prof-specialty       102\n",
       " Other-service         83\n",
       " Exec-managerial       74\n",
       " Craft-repair          69\n",
       " Sales                 66\n",
       " Adm-clerical          49\n",
       " Machine-op-inspct     36\n",
       " ?                     27\n",
       " Transport-moving      25\n",
       " Handlers-cleaners     20\n",
       " Tech-support          16\n",
       " Priv-house-serv        6\n",
       " Protective-serv        5\n",
       " Farming-fishing        5\n",
       "Name: occupation, dtype: int64"
      ]
     },
     "execution_count": 20,
     "metadata": {},
     "output_type": "execute_result"
    }
   ],
   "source": [
    "data[data['native_country'] ==' ?']['occupation'].value_counts()"
   ]
  },
  {
   "cell_type": "code",
   "execution_count": 21,
   "id": "da32923f",
   "metadata": {},
   "outputs": [
    {
     "data": {
      "text/plain": [
       " Private             410\n",
       " Self-emp-not-inc     42\n",
       " Self-emp-inc         42\n",
       " ?                    27\n",
       " Local-gov            26\n",
       " State-gov            19\n",
       " Federal-gov          17\n",
       "Name: workclass, dtype: int64"
      ]
     },
     "execution_count": 21,
     "metadata": {},
     "output_type": "execute_result"
    }
   ],
   "source": [
    "data[data['native_country'] ==' ?']['workclass'].value_counts()"
   ]
  },
  {
   "cell_type": "markdown",
   "id": "8babae94",
   "metadata": {},
   "source": [
    "* There is no clear pattern here."
   ]
  },
  {
   "cell_type": "markdown",
   "id": "b7d13a5b",
   "metadata": {},
   "source": [
    "#### Observations:\n",
    "* We observe that all the observations where workclass = ? the values in the occupation are ? \n",
    "* The strong pattern between workclass and occupation makes sense as both of these variables capture similar information.\n",
    "* There is no strong correlation of ? observations in occupation and workclass with native_country.\n",
    "* For now we will replace these ?'s with the 'unknown' category."
   ]
  },
  {
   "cell_type": "markdown",
   "id": "f082fe65",
   "metadata": {},
   "source": [
    "#### Replacing ? with 'Unknown'"
   ]
  },
  {
   "cell_type": "code",
   "execution_count": 22,
   "id": "3e25f797",
   "metadata": {
    "id": "d-SZuewJ9WJ-"
   },
   "outputs": [],
   "source": [
    "data.workclass = data.workclass.apply(lambda x: 'Unknown' if x == ' ?' else x)\n",
    "data.native_country = data.native_country.apply(lambda x: 'Unknown' if x == ' ?' else x)\n",
    "data.occupation = data.occupation.apply(lambda x: 'Unknown' if x == ' ?' else x)"
   ]
  },
  {
   "cell_type": "markdown",
   "id": "30119c3d",
   "metadata": {},
   "source": [
    "#### Mapping countries to continents to reduce the number of unique values."
   ]
  },
  {
   "cell_type": "code",
   "execution_count": 23,
   "id": "b3d280d0",
   "metadata": {},
   "outputs": [
    {
     "data": {
      "text/plain": [
       "42"
      ]
     },
     "execution_count": 23,
     "metadata": {},
     "output_type": "execute_result"
    }
   ],
   "source": [
    "data.native_country.nunique()"
   ]
  },
  {
   "cell_type": "markdown",
   "id": "48e6010d",
   "metadata": {
    "colab": {
     "base_uri": "https://localhost:8080/"
    },
    "id": "0ZSir3jF9WKA",
    "outputId": "e0ac41c1-de06-4599-c6f1-3f3f8447cf10"
   },
   "source": [
    "* There are 42 distinct countries in the data set, we can reduce them to their respective continents as this will help us reduce the dimension of data."
   ]
  },
  {
   "cell_type": "code",
   "execution_count": 24,
   "id": "937c2da8",
   "metadata": {
    "id": "JWuabviJ9WKD"
   },
   "outputs": [],
   "source": [
    "data.native_country = data.native_country.str.replace(' ','') # remove empty spaces from strings"
   ]
  },
  {
   "cell_type": "code",
   "execution_count": 25,
   "id": "9a66091c",
   "metadata": {
    "id": "RaVHYsJd9WKF"
   },
   "outputs": [],
   "source": [
    "north_america  = [\"Canada\", \"Cuba\", \"Dominican-Republic\", \"El-Salvador\", \"Guatemala\",\n",
    "                   \"Haiti\", \"Honduras\", \"Jamaica\", \"Mexico\", \"Nicaragua\",\n",
    "                   \"Outlying-US(Guam-USVI-etc)\", \"Puerto-Rico\", \"Trinadad&Tobago\",\n",
    "                   \"United-States\"]\n",
    "asia  = [\"Cambodia\", \"China\", \"Hong\", \"India\", \"Iran\", \"Japan\", \"Laos\",\n",
    "          \"Philippines\", \"Taiwan\", \"Thailand\", \"Vietnam\"]\n",
    "south_america = [\"Columbia\", \"Ecuador\", \"Peru\"]\n",
    "europe = [\"England\", \"France\", \"Germany\", \"Greece\", \"Holand-Netherlands\",\n",
    "            \"Hungary\", \"Ireland\", \"Italy\", \"Poland\", \"Portugal\", \"Scotland\",\n",
    "            \"Yugoslavia\"]\n",
    "other  = [\"South\", \"Unknown\",\"?\"]"
   ]
  },
  {
   "cell_type": "code",
   "execution_count": 26,
   "id": "3f0ccaf1",
   "metadata": {
    "id": "ICxgTn2t9WKH"
   },
   "outputs": [],
   "source": [
    "def region_combining(x):\n",
    "    if x in north_america:\n",
    "        return 'north_america'\n",
    "    elif x in asia:\n",
    "        return 'asia'\n",
    "    elif x in south_america:\n",
    "        return 'south_america'\n",
    "    elif x in europe:\n",
    "        return 'europe'\n",
    "    elif x in other:\n",
    "        return 'other'\n",
    "    else:\n",
    "        return x"
   ]
  },
  {
   "cell_type": "code",
   "execution_count": 27,
   "id": "d8a5d645",
   "metadata": {
    "id": "NnJUQlYm9WKM"
   },
   "outputs": [],
   "source": [
    "data['native_country'] = data['native_country'].apply(region_combining)"
   ]
  },
  {
   "cell_type": "code",
   "execution_count": 28,
   "id": "a61beaf4",
   "metadata": {},
   "outputs": [
    {
     "name": "stdout",
     "output_type": "stream",
     "text": [
      "Distinct values in Native Country column: 5\n"
     ]
    }
   ],
   "source": [
    "print('Distinct values in Native Country column:', data.native_country.nunique())"
   ]
  },
  {
   "cell_type": "markdown",
   "id": "164282c8",
   "metadata": {},
   "source": [
    "#### Reducing the number of distinct values in marital_status"
   ]
  },
  {
   "cell_type": "code",
   "execution_count": 29,
   "id": "1842e0eb",
   "metadata": {},
   "outputs": [
    {
     "data": {
      "text/plain": [
       "array([' Never-married', ' Married-civ-spouse', ' Divorced',\n",
       "       ' Married-spouse-absent', ' Separated', ' Married-AF-spouse',\n",
       "       ' Widowed'], dtype=object)"
      ]
     },
     "execution_count": 29,
     "metadata": {},
     "output_type": "execute_result"
    }
   ],
   "source": [
    "data.marital_status.unique()"
   ]
  },
  {
   "cell_type": "markdown",
   "id": "8a7017ff",
   "metadata": {},
   "source": [
    "We can reduce these values into the following groups:\n",
    "* Married\n",
    "* Not-Married\n",
    "* Never-Married"
   ]
  },
  {
   "cell_type": "code",
   "execution_count": 30,
   "id": "23093886",
   "metadata": {
    "id": "8dnUp7zb9WKO"
   },
   "outputs": [],
   "source": [
    "data.marital_status = data.marital_status.str.replace(' ','') # remove empty spaces from strings\n",
    "\n",
    "married = ['Married-civ-spouse','Married-AF-spouse']\n",
    "not_married = ['Divorced','Separated','Widowed','Married-spouse-absent']\n",
    "\n",
    "def reduce_marital_status(x):\n",
    "    if x in married:\n",
    "        return 'married'\n",
    "    elif x in not_married:\n",
    "        return 'not_married'\n",
    "    else:\n",
    "        return x"
   ]
  },
  {
   "cell_type": "code",
   "execution_count": 31,
   "id": "39e6d66d",
   "metadata": {
    "id": "gYG1pieB9WKP"
   },
   "outputs": [],
   "source": [
    "data.marital_status = data.marital_status.apply(reduce_marital_status)"
   ]
  },
  {
   "cell_type": "code",
   "execution_count": 32,
   "id": "ebe06130",
   "metadata": {
    "colab": {
     "base_uri": "https://localhost:8080/"
    },
    "id": "NDdrqItt9WKS",
    "outputId": "f760d042-5202-402a-9829-c07061fc6b9c"
   },
   "outputs": [
    {
     "data": {
      "text/plain": [
       "array(['Never-married', 'married', 'not_married'], dtype=object)"
      ]
     },
     "execution_count": 32,
     "metadata": {},
     "output_type": "execute_result"
    }
   ],
   "source": [
    "data.marital_status.unique()"
   ]
  },
  {
   "cell_type": "markdown",
   "id": "ca60008e",
   "metadata": {},
   "source": [
    "* Values have been clubbed into three categories."
   ]
  },
  {
   "cell_type": "markdown",
   "id": "aedd531c",
   "metadata": {
    "id": "L7Drz5w_9WKV"
   },
   "source": [
    "## Univariate Analysis"
   ]
  },
  {
   "cell_type": "code",
   "execution_count": 33,
   "id": "2db3182a",
   "metadata": {
    "id": "hEBzp-zs9WKV"
   },
   "outputs": [],
   "source": [
    "# While doing uni-variate analysis of numerical variables we want to study their central tendency \n",
    "# and dispersion.\n",
    "# Let us write a function that will help us create boxplot and histogram for any input numerical \n",
    "# variable.\n",
    "# This function takes the numerical column as the input and returns the boxplots \n",
    "# and histograms for the variable.\n",
    "# Let us see if this help us write faster and cleaner code.\n",
    "def histogram_boxplot(feature, figsize=(15,10), bins = None):\n",
    "    \"\"\" Boxplot and histogram combined\n",
    "    feature: 1-d feature array\n",
    "    figsize: size of fig (default (9,8))\n",
    "    bins: number of bins (default None / auto)\n",
    "    \"\"\"\n",
    "    f2, (ax_box2, ax_hist2) = plt.subplots(nrows = 2, # Number of rows of the subplot grid= 2\n",
    "                                           sharex = True, # x-axis will be shared among all subplots\n",
    "                                           gridspec_kw = {\"height_ratios\": (.25, .75)}, \n",
    "                                           figsize = figsize \n",
    "                                           ) # creating the 2 subplots\n",
    "    sns.boxplot(feature, ax=ax_box2, showmeans=True, color='violet') # boxplot will be created and a star will indicate the mean value of the column\n",
    "    sns.distplot(feature, kde=F, ax=ax_hist2, bins=bins,color = 'orange') if bins else sns.distplot(feature, kde=False, ax=ax_hist2,color='tab:cyan') # For histogram\n",
    "    ax_hist2.axvline(np.mean(feature), color='purple', linestyle='--') # Add mean to the histogram\n",
    "    ax_hist2.axvline(np.median(feature), color='black', linestyle='-') # Add median to the histogram"
   ]
  },
  {
   "cell_type": "markdown",
   "id": "0aa7b1de",
   "metadata": {
    "id": "AlEBrVr39WKa"
   },
   "source": [
    "### Observations on fnlwgt"
   ]
  },
  {
   "cell_type": "code",
   "execution_count": 34,
   "id": "fa846b86",
   "metadata": {
    "colab": {
     "base_uri": "https://localhost:8080/",
     "height": 632
    },
    "id": "_IWOPknr9WKb",
    "outputId": "bc9a8b3e-169c-4227-e171-499e9e3f6db9"
   },
   "outputs": [
    {
     "data": {
      "image/png": "[encoded data removed]",
      "text/plain": [
       "<Figure size 1080x720 with 2 Axes>"
      ]
     },
     "metadata": {
      "needs_background": "light"
     },
     "output_type": "display_data"
    }
   ],
   "source": [
    "histogram_boxplot(data.fnlwgt)"
   ]
  },
  {
   "cell_type": "markdown",
   "id": "01a38bad",
   "metadata": {
    "id": "CC8vyGOh9WKc"
   },
   "source": [
    "* fnlwght is right-skewed. It has lots of outliers on the right side which we can cap."
   ]
  },
  {
   "cell_type": "markdown",
   "id": "a9dc972a",
   "metadata": {
    "id": "dsoZ6CBQ9WKm"
   },
   "source": [
    "### Observations on hours_per_week"
   ]
  },
  {
   "cell_type": "code",
   "execution_count": 35,
   "id": "0b2291cd",
   "metadata": {
    "colab": {
     "base_uri": "https://localhost:8080/",
     "height": 633
    },
    "id": "PhStxB749WKm",
    "outputId": "7d990ab7-0a70-45a4-e151-3d36d3db45ca"
   },
   "outputs": [
    {
     "data": {
      "image/png": "[encoded data removed]",
      "text/plain": [
       "<Figure size 1080x720 with 2 Axes>"
      ]
     },
     "metadata": {
      "needs_background": "light"
     },
     "output_type": "display_data"
    }
   ],
   "source": [
    "histogram_boxplot(data.working_hours_per_week)"
   ]
  },
  {
   "cell_type": "markdown",
   "id": "e08820ea",
   "metadata": {
    "id": "8NOg3r3d9WKo"
   },
   "source": [
    "* Most of the data is concentrated around 40 working hours this gives a sense that most of the observations in data might be salaried employees working 8hrs 5 days a week.\n",
    "* Some of the observations are clear outliers like working  1 hour a week which needs to be treated."
   ]
  },
  {
   "cell_type": "code",
   "execution_count": 36,
   "id": "8867bdfa",
   "metadata": {},
   "outputs": [],
   "source": [
    "# Function to create barplots that indicate percentage for each category.\n",
    "\n",
    "def perc_on_bar(z):\n",
    "    '''\n",
    "    plot\n",
    "    feature: categorical feature\n",
    "    the function won't work if a column is passed in hue parameter\n",
    "    '''\n",
    "\n",
    "    total = len(data[z]) # length of the column\n",
    "    plt.figure(figsize=(15,5))\n",
    "    #plt.xticks(rotation=45)\n",
    "    ax = sns.countplot(data[z],palette='Paired')\n",
    "    for p in ax.patches:\n",
    "        percentage = '{:.1f}%'.format(100 * p.get_height()/total) # percentage of each class of the category\n",
    "        x = p.get_x() + p.get_width() / 2 - 0.05 # width of the plot\n",
    "        y = p.get_y() + p.get_height()           # hieght of the plot\n",
    "        \n",
    "        ax.annotate(percentage, (x, y), size = 12) # annotate the percantage \n",
    "    plt.show() # show the plot"
   ]
  },
  {
   "cell_type": "markdown",
   "id": "78b8a645",
   "metadata": {
    "id": "O7aOYV_y9WKp"
   },
   "source": [
    "### Observations on workclass"
   ]
  },
  {
   "cell_type": "code",
   "execution_count": 37,
   "id": "1e3d616d",
   "metadata": {},
   "outputs": [
    {
     "data": {
      "image/png": "[encoded data removed]",
      "text/plain": [
       "<Figure size 1080x360 with 1 Axes>"
      ]
     },
     "metadata": {
      "needs_background": "light"
     },
     "output_type": "display_data"
    }
   ],
   "source": [
    "perc_on_bar('workclass')"
   ]
  },
  {
   "cell_type": "markdown",
   "id": "ba619019",
   "metadata": {},
   "source": [
    "* ~70% of the observations are from the Private sector working class.\n",
    "* As expected from the number of hours per week."
   ]
  },
  {
   "cell_type": "markdown",
   "id": "1b0ca6ab",
   "metadata": {
    "id": "O7aOYV_y9WKp"
   },
   "source": [
    "### Observations on marital_status"
   ]
  },
  {
   "cell_type": "code",
   "execution_count": 38,
   "id": "b77f02da",
   "metadata": {},
   "outputs": [
    {
     "data": {
      "image/png": "[encoded data removed]",
      "text/plain": [
       "<Figure size 1080x360 with 1 Axes>"
      ]
     },
     "metadata": {
      "needs_background": "light"
     },
     "output_type": "display_data"
    }
   ],
   "source": [
    "perc_on_bar('marital_status')"
   ]
  },
  {
   "cell_type": "markdown",
   "id": "a7f91362",
   "metadata": {},
   "source": [
    "* 47.3% of the observations in the dataset are married followed by 32.8% of the people who never married."
   ]
  },
  {
   "cell_type": "markdown",
   "id": "5fd4ce65",
   "metadata": {
    "id": "O7aOYV_y9WKp"
   },
   "source": [
    "### Observations on native_country"
   ]
  },
  {
   "cell_type": "code",
   "execution_count": 39,
   "id": "c5145cd9",
   "metadata": {},
   "outputs": [
    {
     "data": {
      "image/png": "[encoded data removed]",
      "text/plain": [
       "<Figure size 1080x360 with 1 Axes>"
      ]
     },
     "metadata": {
      "needs_background": "light"
     },
     "output_type": "display_data"
    }
   ],
   "source": [
    "perc_on_bar('native_country')"
   ]
  },
  {
   "cell_type": "markdown",
   "id": "ea439682",
   "metadata": {},
   "source": [
    "* 94% of the people are native to north_america followed by 2.1% Asians."
   ]
  },
  {
   "cell_type": "markdown",
   "id": "d948fa19",
   "metadata": {
    "id": "O7aOYV_y9WKp"
   },
   "source": [
    "### Observations on salary"
   ]
  },
  {
   "cell_type": "code",
   "execution_count": 40,
   "id": "de330ed5",
   "metadata": {},
   "outputs": [
    {
     "data": {
      "image/png": "[encoded data removed]",
      "text/plain": [
       "<Figure size 1080x360 with 1 Axes>"
      ]
     },
     "metadata": {
      "needs_background": "light"
     },
     "output_type": "display_data"
    }
   ],
   "source": [
    "perc_on_bar('salary')"
   ]
  },
  {
   "cell_type": "markdown",
   "id": "37e5ca7e",
   "metadata": {
    "id": "Zjfs5yc39WKr"
   },
   "source": [
    "* 24% of the observations have a salary above 50K and while 76% have a salary below 50K"
   ]
  },
  {
   "cell_type": "markdown",
   "id": "d858bbbc",
   "metadata": {
    "id": "3jS63iRW9WKs"
   },
   "source": [
    "## Bivariate analysis"
   ]
  },
  {
   "cell_type": "code",
   "execution_count": 41,
   "id": "3686629e",
   "metadata": {},
   "outputs": [
    {
     "data": {
      "image/png": "[encoded data removed]",
      "text/plain": [
       "<Figure size 720x360 with 2 Axes>"
      ]
     },
     "metadata": {
      "needs_background": "light"
     },
     "output_type": "display_data"
    }
   ],
   "source": [
    "plt.figure(figsize=(10,5))\n",
    "sns.heatmap(data.corr(),annot=True,vmin=-1,vmax=1,fmt='.2f',cmap='Spectral')\n",
    "plt.show()"
   ]
  },
  {
   "cell_type": "markdown",
   "id": "a9953b6e",
   "metadata": {},
   "source": [
    "* There is no significant correlation between the columns."
   ]
  },
  {
   "cell_type": "code",
   "execution_count": 42,
   "id": "8a6eaa87",
   "metadata": {},
   "outputs": [],
   "source": [
    "### Function to plot stacked bar charts for categorical columns\n",
    "def stacked_plot(x):\n",
    "    sns.set()\n",
    "    ## crosstab \n",
    "    tab1 = pd.crosstab(x,data['salary'],margins=True).sort_values(by=' >50K',ascending=False)\n",
    "    print(tab1)\n",
    "    print('-'*120)\n",
    "    ## visualising the cross tab\n",
    "    tab = pd.crosstab(x,data['salary'],normalize='index').sort_values(by=' >50K',ascending=False)\n",
    "    tab.plot(kind='bar',stacked=True,figsize=(17,7))\n",
    "    plt.legend(loc='lower left', frameon=False,)\n",
    "    plt.legend(loc=\"upper left\", bbox_to_anchor=(1,1))\n",
    "    plt.show()"
   ]
  },
  {
   "cell_type": "code",
   "execution_count": 43,
   "id": "08fc9404",
   "metadata": {},
   "outputs": [
    {
     "name": "stdout",
     "output_type": "stream",
     "text": [
      "salary    <=50K   >50K    All\n",
      "sex                          \n",
      "All       24720   7841  32561\n",
      " Male     15128   6662  21790\n",
      " Female    9592   1179  10771\n",
      "------------------------------------------------------------------------------------------------------------------------\n"
     ]
    },
    {
     "data": {
      "image/png": "[encoded data removed]",
      "text/plain": [
       "<Figure size 1224x504 with 1 Axes>"
      ]
     },
     "metadata": {},
     "output_type": "display_data"
    }
   ],
   "source": [
    "stacked_plot(data['sex'])"
   ]
  },
  {
   "cell_type": "markdown",
   "id": "8e1592e1",
   "metadata": {},
   "source": [
    "* ~25% of the males have salary >50K whereas only ~15% of the females have salary >50K.\n",
    "* This shows the pay gap that exists in society and the government should investigate further on it to formulate policy to ensure equal pay."
   ]
  },
  {
   "cell_type": "markdown",
   "id": "8b5e0125",
   "metadata": {
    "id": "ui3naO159WKs"
   },
   "source": [
    "### salary vs education"
   ]
  },
  {
   "cell_type": "code",
   "execution_count": 44,
   "id": "b9bab10a",
   "metadata": {},
   "outputs": [
    {
     "name": "stdout",
     "output_type": "stream",
     "text": [
      "salary          <=50K   >50K    All\n",
      "education                          \n",
      "All             24720   7841  32561\n",
      " Bachelors       3134   2221   5355\n",
      " HS-grad         8826   1675  10501\n",
      " Some-college    5904   1387   7291\n",
      " Masters          764    959   1723\n",
      " Prof-school      153    423    576\n",
      " Assoc-voc       1021    361   1382\n",
      " Doctorate        107    306    413\n",
      " Assoc-acdm       802    265   1067\n",
      " 10th             871     62    933\n",
      " 11th            1115     60   1175\n",
      " 7th-8th          606     40    646\n",
      " 12th             400     33    433\n",
      " 9th              487     27    514\n",
      " 5th-6th          317     16    333\n",
      " 1st-4th          162      6    168\n",
      " Preschool         51      0     51\n",
      "------------------------------------------------------------------------------------------------------------------------\n"
     ]
    },
    {
     "data": {
      "image/png": "[encoded data removed]",
      "text/plain": [
       "<Figure size 1224x504 with 1 Axes>"
      ]
     },
     "metadata": {},
     "output_type": "display_data"
    }
   ],
   "source": [
    "stacked_plot(data['education'])"
   ]
  },
  {
   "cell_type": "markdown",
   "id": "bad5145f",
   "metadata": {
    "id": "-bVs_9Ju9WKu"
   },
   "source": [
    "* ~70% of the people of are Doctorate, graduate from Professional school program (Prof-school) have a salary above $50K.\n",
    "* This clearly shows a positive relationship between education and salary, the higher the education higher is the salary."
   ]
  },
  {
   "cell_type": "markdown",
   "id": "8fc5f10f",
   "metadata": {
    "id": "XgAfyOaHm6Ew"
   },
   "source": [
    "### salary vs occupation"
   ]
  },
  {
   "cell_type": "code",
   "execution_count": 45,
   "id": "bcb3f452",
   "metadata": {},
   "outputs": [
    {
     "name": "stdout",
     "output_type": "stream",
     "text": [
      "salary               <=50K   >50K    All\n",
      "occupation                              \n",
      "All                  24720   7841  32561\n",
      " Exec-managerial      2098   1968   4066\n",
      " Prof-specialty       2281   1859   4140\n",
      " Sales                2667    983   3650\n",
      " Craft-repair         3170    929   4099\n",
      " Adm-clerical         3263    507   3770\n",
      " Transport-moving     1277    320   1597\n",
      " Tech-support          645    283    928\n",
      " Machine-op-inspct    1752    250   2002\n",
      " Protective-serv       438    211    649\n",
      "Unknown               1652    191   1843\n",
      " Other-service        3158    137   3295\n",
      " Farming-fishing       879    115    994\n",
      " Handlers-cleaners    1284     86   1370\n",
      " Armed-Forces            8      1      9\n",
      " Priv-house-serv       148      1    149\n",
      "------------------------------------------------------------------------------------------------------------------------\n"
     ]
    },
    {
     "data": {
      "image/png": "[encoded data removed]",
      "text/plain": [
       "<Figure size 1224x504 with 1 Axes>"
      ]
     },
     "metadata": {},
     "output_type": "display_data"
    }
   ],
   "source": [
    "stacked_plot(data['occupation'])"
   ]
  },
  {
   "cell_type": "markdown",
   "id": "559eafa4",
   "metadata": {
    "id": "Dj5NDHpblxjt"
   },
   "source": [
    "- ~50% of the people whose occupation is of Executive Manager, Professor-speciality have a salary above $50,000\n",
    "- People with occupations like Private house service,handlers-cleaners, farming-fishing have a higher likelihood of having below 50K salary."
   ]
  },
  {
   "cell_type": "markdown",
   "id": "a950d69b",
   "metadata": {
    "id": "WpbA5Fuq9WKu"
   },
   "source": [
    "### salary vs race"
   ]
  },
  {
   "cell_type": "code",
   "execution_count": 46,
   "id": "d6f4a810",
   "metadata": {},
   "outputs": [
    {
     "name": "stdout",
     "output_type": "stream",
     "text": [
      "salary                <=50K   >50K    All\n",
      "race                                     \n",
      "All                   24720   7841  32561\n",
      " White                20699   7117  27816\n",
      " Black                 2737    387   3124\n",
      " Asian-Pac-Islander     763    276   1039\n",
      " Amer-Indian-Eskimo     275     36    311\n",
      " Other                  246     25    271\n",
      "------------------------------------------------------------------------------------------------------------------------\n"
     ]
    },
    {
     "data": {
      "image/png": "[encoded data removed]",
      "text/plain": [
       "<Figure size 1224x504 with 1 Axes>"
      ]
     },
     "metadata": {},
     "output_type": "display_data"
    }
   ],
   "source": [
    "stacked_plot(data['race'])"
   ]
  },
  {
   "cell_type": "markdown",
   "id": "3f2cd2f3",
   "metadata": {
    "id": "rt0uyR4W9WKw"
   },
   "source": [
    "* 25% of the White and Asia-Pacific people have a salary more than 50K salary as compared to people from other race."
   ]
  },
  {
   "cell_type": "markdown",
   "id": "d0b6e4aa",
   "metadata": {
    "id": "HIB_dcZu9WK0"
   },
   "source": [
    "### salary vs workclass"
   ]
  },
  {
   "cell_type": "code",
   "execution_count": 47,
   "id": "575c6c04",
   "metadata": {},
   "outputs": [
    {
     "name": "stdout",
     "output_type": "stream",
     "text": [
      "salary              <=50K   >50K    All\n",
      "workclass                              \n",
      "All                 24720   7841  32561\n",
      " Private            17733   4963  22696\n",
      " Self-emp-not-inc    1817    724   2541\n",
      " Self-emp-inc         494    622   1116\n",
      " Local-gov           1476    617   2093\n",
      " Federal-gov          589    371    960\n",
      " State-gov            945    353   1298\n",
      "Unknown              1645    191   1836\n",
      " Never-worked           7      0      7\n",
      " Without-pay           14      0     14\n",
      "------------------------------------------------------------------------------------------------------------------------\n"
     ]
    },
    {
     "data": {
      "image/png": "[encoded data removed]",
      "text/plain": [
       "<Figure size 1224x504 with 1 Axes>"
      ]
     },
     "metadata": {},
     "output_type": "display_data"
    }
   ],
   "source": [
    "stacked_plot(data['workclass'])"
   ]
  },
  {
   "cell_type": "markdown",
   "id": "16b3d58c",
   "metadata": {
    "id": "urxkoDCM9WK3"
   },
   "source": [
    "* ~50% of the self-employed people have a salary above 50K followed by ~40% of the federal govt employee who has salary more than 50K.\n",
    "* ~20% of the people working in the private sector earn more than 50K."
   ]
  },
  {
   "cell_type": "markdown",
   "id": "396f6c5a",
   "metadata": {
    "id": "eDOk11FY9WK4"
   },
   "source": [
    "### salary vs marital_status"
   ]
  },
  {
   "cell_type": "code",
   "execution_count": 48,
   "id": "f4ee1563",
   "metadata": {},
   "outputs": [
    {
     "name": "stdout",
     "output_type": "stream",
     "text": [
      "salary           <=50K   >50K    All\n",
      "marital_status                      \n",
      "All              24720   7841  32561\n",
      "married           8297   6702  14999\n",
      "not_married       6231    648   6879\n",
      "Never-married    10192    491  10683\n",
      "------------------------------------------------------------------------------------------------------------------------\n"
     ]
    },
    {
     "data": {
      "image/png": "[encoded data removed]",
      "text/plain": [
       "<Figure size 1224x504 with 1 Axes>"
      ]
     },
     "metadata": {},
     "output_type": "display_data"
    }
   ],
   "source": [
    "stacked_plot(data['marital_status'])"
   ]
  },
  {
   "cell_type": "markdown",
   "id": "becc7012",
   "metadata": {
    "id": "7P8Dx-hV9WK6"
   },
   "source": [
    "* Married people have a higher likelihood of getting a salary above 50K compared to Never Married and Not married people."
   ]
  },
  {
   "cell_type": "code",
   "execution_count": 49,
   "id": "f70c4e7c",
   "metadata": {},
   "outputs": [],
   "source": [
    "### Function to plot distributions and Boxplots of customers\n",
    "import matplotlib.transforms as mtrans\n",
    "def plot(x,target='salary'):\n",
    "    fig,axs = plt.subplots(2,2,figsize=(12,10))\n",
    "    axs[0, 0].set_title(f'Distribution of {x} of people with <=50K salary',fontsize=12,fontweight='bold')\n",
    "    sns.distplot(data[(data[target] == ' <=50K')][x],ax=axs[0,0],color='teal')\n",
    "    axs[0, 1].set_title(f\"Distribution of {x} of people with >50K salary\",fontsize=12,fontweight='bold')\n",
    "    sns.distplot(data[(data[target] == ' >50K')][x],ax=axs[0,1],color='orange')\n",
    "    axs[1,0].set_title(f'Boxplot of {x} w.r.t salary',fontsize=12,fontweight='bold')\n",
    "    \n",
    "    line = plt.Line2D((.1,.9),(.5,.5), color='grey', linewidth=1.5,linestyle='--')\n",
    "    fig.add_artist(line)\n",
    "   \n",
    "    sns.boxplot(data[target],data[x],ax=axs[1,0],palette='gist_rainbow',showmeans=True)\n",
    "    axs[1,1].set_title(f'Boxplot of {x} w.r.t salary - Without outliers',fontsize=12,fontweight='bold')\n",
    "    sns.boxplot(data[target],data[x],ax=axs[1,1],showfliers=False,palette='gist_rainbow',showmeans=True) #turning off outliers from boxplot\n",
    "    plt.tight_layout(pad=4)\n",
    "    plt.show()"
   ]
  },
  {
   "cell_type": "markdown",
   "id": "ef4e84bd",
   "metadata": {
    "id": "Tf7AqU6K9WLB"
   },
   "source": [
    "### salary vs age"
   ]
  },
  {
   "cell_type": "code",
   "execution_count": 50,
   "id": "24176af2",
   "metadata": {
    "scrolled": false
   },
   "outputs": [
    {
     "data": {
      "image/png": "[encoded data removed]",
      "text/plain": [
       "<Figure size 864x720 with 4 Axes>"
      ]
     },
     "metadata": {},
     "output_type": "display_data"
    }
   ],
   "source": [
    "plot('age')"
   ]
  },
  {
   "cell_type": "markdown",
   "id": "0c90d398",
   "metadata": {
    "id": "hbZSjGGJ9WLD"
   },
   "source": [
    "* People who more than 50K salary are generally older having an average age of around 48 years.\n",
    "* People who have less than 50K salary have an average age of around 36."
   ]
  },
  {
   "cell_type": "markdown",
   "id": "f1ac8ddc",
   "metadata": {},
   "source": [
    "### salary vs working_hours_per_week"
   ]
  },
  {
   "cell_type": "code",
   "execution_count": 51,
   "id": "df8e945c",
   "metadata": {
    "colab": {
     "base_uri": "https://localhost:8080/",
     "height": 487
    },
    "id": "3nNI4bsv9WLM",
    "outputId": "f062e838-197e-467e-ba65-b41167656e17"
   },
   "outputs": [
    {
     "data": {
      "image/png": "[encoded data removed]",
      "text/plain": [
       "<Figure size 864x720 with 4 Axes>"
      ]
     },
     "metadata": {},
     "output_type": "display_data"
    }
   ],
   "source": [
    "plot('working_hours_per_week')"
   ]
  },
  {
   "cell_type": "markdown",
   "id": "593f4370",
   "metadata": {
    "id": "NtJBle6f9WLP"
   },
   "source": [
    "* Majority of people having above 50K salary work around 40 hours per week.\n",
    "* Those having >50K salary have a higher range of working hours as compared to the ones with <=50K, but there are outliers present."
   ]
  },
  {
   "cell_type": "code",
   "execution_count": 52,
   "id": "556f8e10",
   "metadata": {},
   "outputs": [
    {
     "data": {
      "image/png": "[encoded data removed]",
      "text/plain": [
       "<Figure size 1080x864 with 1 Axes>"
      ]
     },
     "metadata": {},
     "output_type": "display_data"
    }
   ],
   "source": [
    "# lets see how working hours per week vary across different occupation\n",
    "plt.figure(figsize=(15,12))\n",
    "sns.boxplot(y=\"workclass\", x=\"working_hours_per_week\", data=data,hue='salary',showfliers=False);"
   ]
  },
  {
   "cell_type": "markdown",
   "id": "9c1a5043",
   "metadata": {},
   "source": [
    "* Private sector employees work for more hours to get a salary above 50K.\n",
    "* There's large variability in the working hours of self-employed people which makes sense as they might be working at their ease.\n",
    "* Without pay and never worked will have no income or less than 50K income.\n",
    "* The number of working hours for many government employees is concentrated at 40 hrs a week, which makes sense as government employees generally have fixed working hours."
   ]
  },
  {
   "cell_type": "markdown",
   "id": "cd2ba2be",
   "metadata": {},
   "source": [
    "### <a id='link1'>Summary of EDA</a>\n",
    "**Data Description:**\n",
    "\n",
    "* Dependent variable is the salary which is of categorical data type.\n",
    "* age, capital gain, and capital loss are of integer type while other variables are of categorical type\n",
    "* There are no missing values in the dataset.\n",
    "\n",
    "**Data Cleaning:**\n",
    "\n",
    "* We observed that all the observations where workclass = ? the values in the occupation are ? \n",
    "* The strong pattern between workclass and occupation makes sense as both of these variables capture similar information.\n",
    "* There is no strong correlation of ? observations in occupation and workclass with native_country.\n",
    "* For now we will replaced these ?'s with the 'unknown' category.\n",
    "* There are 42 distinct countries in the data set, which were reduced to their respective continents to reduce the dimension of data and we now have only 5 distinct values in the data.\n",
    "* We reduced the distinct groups of marital_status to three categories: Married, Not-Married and Never-Married.\n",
    "\n",
    "**Observations from EDA:**\n",
    "\n",
    "* `age`: Average age of people in the dataset is 38 years, age has a wide range from 17 to 90 years.\n",
    "* `education_no_of_years`: The average education in years is 10 years. There's a large difference between the minimum value and 25th percentile which indicates that there might be outliers present in this variable.\n",
    "* `capital_gain`: There's a huge difference in the 75th percentile and maximum value of capital_gain indicating the presence of outliers. Also, 75% of the observations are 0.\n",
    "* `capital_loss`: Same as capital gain there's a huge difference in the 75th percentile and maximum value indicating the presence of outliers. Also, 75% of the observations are 0.\n",
    "* `working_hours_per_week`: On average people work for 40 hours a week. A vast difference in minimum value and 25th percentile, as well as 75th percentile and the maximum value, indicates that there might be outliers present in the variable.\n",
    "* `fnlwght`: fnlwght is right-skewed. It has lots of outliers on the right side which we can cap.\n",
    "* `working_hours_per_week`: Most of the data is concentrated around 40 working hours this gives a sense that most of the observations in data might be salaried employees working 8hrs 5 days a week. Some of the observations are clear outliers like working  1 hour a week which needs to be treated.\n",
    "* `workclass`: ~70% of the observations are from the Private sector working class.\n",
    "* `marita_status`: 47.3% of the observations in the dataset are married followed by 32.8% of the people who never married.\n",
    "* `race`: * 94% of the people are native to north_america followed by 2.1% Asians.\n",
    "* `salary vs sex`: ~25% of the males have salary >50K whereas only ~15% of the females have salary >50K.\n",
    "* `salary vs occupation`: - ~50% of the people whose occupation is of Executive Manager, Professor-speciality have a salary above 50,000 dollars. People with occupations like Private house service,handlers-cleaners, farming-fishing have a higher likelihood of having below 50K salary.\n",
    "* `salary vs education`: ~70% of the people of are Doctorate, graduate from Professional school program (Prof-school) have a salary above 50K dollars\n",
    "* `salary vs workclass`: ~50% of the self-employed people have a salary above 50K followed by ~40% of the federal govt employee who has salary more than 50K. ~20% of the people working in the private sector earn more than 50K.\n",
    "* `salary vs working_hours_per_week`: Majority of people having above 50K salary work around 40 hours per week.\n",
    "* Private sector employees work for more hours to get a salary above 50K.\n",
    "* There's large variability in the working hours of self-employed people which makes sense as they might be working at their ease.\n",
    "\n",
    "\n",
    "**Actions for data pre-processing:**\n",
    "\n",
    "* Many variables have outliers that need to be treated.\n",
    "* We can drop capital_gain and capital_loss as most of the observations are 0 in these variables, and if the government already knows a person's capital gain or loss it will be easier for them to classify a person into a salary group."
   ]
  },
  {
   "cell_type": "markdown",
   "id": "700e0322",
   "metadata": {},
   "source": [
    "### Data Pre-Processing"
   ]
  },
  {
   "cell_type": "markdown",
   "id": "100e5128",
   "metadata": {
    "id": "7Wd46Gf29WLe"
   },
   "source": [
    "* There are many outliers in the data which we will treat (perform capping of outliers).\n",
    "* All the values smaller than the lower whisker will be assigned the value of the lower whisker, and all the values above the upper whisker will be assigned the value of the upper whisker."
   ]
  },
  {
   "cell_type": "markdown",
   "id": "ffdc9abd",
   "metadata": {},
   "source": [
    "**Dropping capital_gain and capital_loss**"
   ]
  },
  {
   "cell_type": "code",
   "execution_count": 53,
   "id": "f938efce",
   "metadata": {},
   "outputs": [],
   "source": [
    "data.drop(['capital_gain','capital_loss'],axis=1,inplace=True)"
   ]
  },
  {
   "cell_type": "markdown",
   "id": "64598c9e",
   "metadata": {},
   "source": [
    "**Outliers detection using boxplot**"
   ]
  },
  {
   "cell_type": "code",
   "execution_count": 54,
   "id": "00db311c",
   "metadata": {
    "colab": {
     "base_uri": "https://localhost:8080/",
     "height": 774
    },
    "id": "1lWp2Zl99WLe",
    "outputId": "679650a3-78e6-4bf8-c93a-b7f5f1c49be6"
   },
   "outputs": [
    {
     "data": {
      "image/png": "[encoded data removed]",
      "text/plain": [
       "<Figure size 1440x2160 with 4 Axes>"
      ]
     },
     "metadata": {},
     "output_type": "display_data"
    }
   ],
   "source": [
    "numerical_col = data.select_dtypes(include=np.number).columns.tolist()\n",
    "plt.figure(figsize=(20,30))\n",
    "\n",
    "for i, variable in enumerate(numerical_col):\n",
    "                     plt.subplot(5,4,i+1)\n",
    "                     plt.boxplot(data[variable],whis=1.5)\n",
    "                     plt.tight_layout()\n",
    "                     plt.title(variable)\n",
    "\n",
    "plt.show()"
   ]
  },
  {
   "cell_type": "markdown",
   "id": "7acbdb4a",
   "metadata": {
    "id": "i9gv73Cj9WLg"
   },
   "source": [
    "* Age and fnlwgt have upper outliers. \n",
    "* education_no_years has lower outliers. \n",
    "* working_hours_per_week has both upper and lower outliers."
   ]
  },
  {
   "cell_type": "markdown",
   "id": "a744825d",
   "metadata": {
    "id": "wlGTPLQA9WLg"
   },
   "source": [
    "### Treating Outliers"
   ]
  },
  {
   "cell_type": "code",
   "execution_count": 55,
   "id": "349be551",
   "metadata": {
    "id": "aCAdMuMm9WLh"
   },
   "outputs": [],
   "source": [
    "def treat_outliers(data,col):\n",
    "    '''\n",
    "    treats outliers in a varaible\n",
    "    col: str, name of the numerical varaible\n",
    "    data: data frame\n",
    "    col: name of the column\n",
    "    '''\n",
    "    Q1=data[col].quantile(0.25) # 25th quantile\n",
    "    Q3=data[col].quantile(0.75)  # 75th quantile\n",
    "    IQR=Q3-Q1\n",
    "    Lower_Whisker = Q1 - 1.5*IQR \n",
    "    Upper_Whisker = Q3 + 1.5*IQR\n",
    "    data[col] = np.clip(data[col], Lower_Whisker, Upper_Whisker) # all the values smaller than Lower_Whisker will be assigned value of Lower_whisker \n",
    "                                                            # and all the values above upper_whisker will be assigned value of upper_Whisker \n",
    "    return data\n",
    "\n",
    "def treat_outliers_all(data, col_list):\n",
    "    '''\n",
    "    treat outlier in all numerical varaibles\n",
    "    col_list: list of numerical varaibles\n",
    "    data: data frame\n",
    "    '''\n",
    "    for c in col_list:\n",
    "        data = treat_outliers(data,c)\n",
    "        \n",
    "    return data\n",
    "    "
   ]
  },
  {
   "cell_type": "code",
   "execution_count": 56,
   "id": "c82bc017",
   "metadata": {
    "id": "A8b4w_FX9WLj"
   },
   "outputs": [],
   "source": [
    "numerical_col = data.select_dtypes(include=np.number).columns.tolist()# getting list of numerical columns\n",
    "\n",
    "# treating outliers\n",
    "numerical_col = [ele for ele in numerical_col] \n",
    "data = treat_outliers_all(data,numerical_col)"
   ]
  },
  {
   "cell_type": "markdown",
   "id": "eb0de397",
   "metadata": {},
   "source": [
    "### Data Preparation"
   ]
  },
  {
   "cell_type": "markdown",
   "id": "ed9ea967",
   "metadata": {},
   "source": [
    "* Converting the data type of categorical features to 'category'"
   ]
  },
  {
   "cell_type": "code",
   "execution_count": 57,
   "id": "bf897172",
   "metadata": {},
   "outputs": [],
   "source": [
    "## converting object type columns to category\n",
    "data[cat_columns] = data[cat_columns].astype('category')\n",
    "\n",
    "data['salary'] = data['salary'].apply(lambda x: 1 if x==' <=50K' else 0) "
   ]
  },
  {
   "cell_type": "markdown",
   "id": "04b312af",
   "metadata": {},
   "source": [
    "#### Creating a function to split, encode and add a constant to X\n",
    "* The function will save us some time while checking high VIF values as we have to iteratively drop variables and check model performance."
   ]
  },
  {
   "cell_type": "code",
   "execution_count": 58,
   "id": "d6fda917",
   "metadata": {},
   "outputs": [],
   "source": [
    "def split(*kwargs):\n",
    "    '''\n",
    "    Function to split data into X and Y then one hot encode the X variable.\n",
    "    Returns training and test sets\n",
    "    *kwargs : Variable to remove from the dataset before splitting into X and Y\n",
    "    '''\n",
    "    X = data.drop([*kwargs], axis=1)\n",
    "    Y = data['salary']\n",
    "\n",
    "    X = pd.get_dummies(X,drop_first=True)\n",
    "    X = add_constant(X)\n",
    "\n",
    "    #Splitting data in train and test sets\n",
    "    X_train, X_test, y_train, y_test = train_test_split(X,Y, test_size=0.30, random_state = 1)\n",
    "    return X_train,X_test, y_train, y_test"
   ]
  },
  {
   "cell_type": "code",
   "execution_count": 59,
   "id": "84a4c889",
   "metadata": {},
   "outputs": [],
   "source": [
    "X_train,X_test, y_train, y_test = split('salary')"
   ]
  },
  {
   "cell_type": "markdown",
   "id": "c1b489c9",
   "metadata": {},
   "source": [
    "### Building the model"
   ]
  },
  {
   "cell_type": "markdown",
   "id": "2b9053f5",
   "metadata": {},
   "source": [
    "### Model evaluation criterion\n",
    "\n",
    "### Model can make wrong predictions as:\n",
    "1. Predicting a person has a salary >50K but actually the salary is <=50K.\n",
    "2. Predicting a person doesn't have a salary >50K but actually, the salary is >50k.\n",
    "\n",
    "### Which case is more important? \n",
    "* Both the cases are important as:\n",
    "\n",
    "* If we predict a person has a salary >50K but actually the salary is <=50K that person will not be able to avail the benefits of the scheme.\n",
    "\n",
    "* If we predict a person doesn't have a salary >50K but actually the salary is >50K then a wrong person will be getting the benefits of the scheme.\n",
    "\n",
    "### How to reduce losses?\n",
    "* We can use accuracy but since the data is imbalanced it would not be the right metric to check the model performance.\n",
    "*  Therefore, `f1_score` should be maximized, the greater the f1_score higher the chances of identifying both the classes correctly."
   ]
  },
  {
   "cell_type": "markdown",
   "id": "55da0023",
   "metadata": {},
   "source": [
    "#### First, let's create functions to calculate different metrics and confusion matrix so that we don't have to use the same code repeatedly for each model.\n",
    "* The get_metrics_score1 function will be used to check the model performance of models built using the statsmodels library.\n",
    "* The get_metrics_score2 function will be used to check the model performance of models built using the Sklearn library."
   ]
  },
  {
   "cell_type": "code",
   "execution_count": 60,
   "id": "7d16fb1a",
   "metadata": {},
   "outputs": [],
   "source": [
    "def get_metrics_score1(model,train,test,train_y,test_y,threshold=0.5,flag=True,roc=False):\n",
    "    '''\n",
    "    Function to calculate different metric scores of the model - Accuracy, Recall, Precision, and F1 score\n",
    "    model: classifier to predict values of X\n",
    "    train, test: Independent features\n",
    "    train_y,test_y: Dependent variable\n",
    "    threshold: thresold for classifiying the observation as 1\n",
    "    flag: If the flag is set to True then only the print statements showing different will be displayed. The default value is set to True.\n",
    "    roc: If the roc is set to True then only roc score will be displayed. The default value is set to False.\n",
    "    '''\n",
    "    # defining an empty list to store train and test results\n",
    "    \n",
    "    score_list=[] \n",
    "    \n",
    "    pred_train = (model.predict(train)>threshold)\n",
    "    pred_test = (model.predict(test)>threshold)\n",
    "\n",
    "    pred_train = np.round(pred_train)\n",
    "    pred_test = np.round(pred_test)\n",
    "    \n",
    "    train_acc = accuracy_score(pred_train,train_y)\n",
    "    test_acc = accuracy_score(pred_test,test_y)\n",
    "    \n",
    "    train_recall = recall_score(train_y,pred_train)\n",
    "    test_recall = recall_score(test_y,pred_test)\n",
    "    \n",
    "    train_precision = precision_score(train_y,pred_train)\n",
    "    test_precision = precision_score(test_y,pred_test)\n",
    "    \n",
    "    train_f1 = f1_score(train_y,pred_train)\n",
    "    test_f1 = f1_score(test_y,pred_test)\n",
    "    \n",
    "    \n",
    "    score_list.extend((train_acc,test_acc,train_recall,test_recall,train_precision,test_precision,train_f1,test_f1))\n",
    "        \n",
    "    \n",
    "    if flag == True: \n",
    "        print(\"Accuracy on training set : \",accuracy_score(pred_train,train_y))\n",
    "        print(\"Accuracy on test set : \",accuracy_score(pred_test,test_y))\n",
    "        print(\"Recall on training set : \",recall_score(train_y,pred_train))\n",
    "        print(\"Recall on test set : \",recall_score(test_y,pred_test))\n",
    "        print(\"Precision on training set : \",precision_score(train_y,pred_train))\n",
    "        print(\"Precision on test set : \",precision_score(test_y,pred_test))\n",
    "        print(\"F1 on training set : \",f1_score(train_y,pred_train))\n",
    "        print(\"F1 on test set : \",f1_score(test_y,pred_test))\n",
    "   \n",
    "    if roc == True:\n",
    "        print(\"ROC-AUC Score on training set : \",roc_auc_score(train_y,pred_train))\n",
    "        print(\"ROC-AUC Score on test set : \",roc_auc_score(test_y,pred_test))\n",
    "    \n",
    "    return score_list # returning the list with train and test scores"
   ]
  },
  {
   "cell_type": "code",
   "execution_count": 61,
   "id": "d7f829e5",
   "metadata": {},
   "outputs": [],
   "source": [
    "def get_metrics_score2(model,train,test,train_y,test_y,flag=True,roc=False):\n",
    "    '''\n",
    "    Function to calculate different metric scores of the model - Accuracy, Recall, Precision, and F1 score\n",
    "    model: classifier to predict values of X\n",
    "    train, test: Independent features\n",
    "    train_y,test_y: Dependent variable\n",
    "    flag: If the flag is set to True then only the print statements shwoing different will be displayed. The default value is set to True.\n",
    "    roc: If the roc is set to True then only roc score will be displayed. The default value is set to False.\n",
    "    '''\n",
    "    # defining an empty list to store train and test results\n",
    "    \n",
    "    score_list=[] \n",
    "    \n",
    "    pred_train = model.predict(train)\n",
    "    pred_test = model.predict(test)\n",
    "    \n",
    "    train_acc = accuracy_score(pred_train,train_y)\n",
    "    test_acc = accuracy_score(pred_test,test_y)\n",
    "    \n",
    "    train_recall = recall_score(train_y,pred_train)\n",
    "    test_recall = recall_score(test_y,pred_test)\n",
    "    \n",
    "    train_precision = precision_score(train_y,pred_train)\n",
    "    test_precision = precision_score(test_y,pred_test)\n",
    "    \n",
    "    train_f1 = f1_score(train_y,pred_train)\n",
    "    test_f1 = f1_score(test_y,pred_test)\n",
    "    \n",
    "    \n",
    "    score_list.extend((train_acc,test_acc,train_recall,test_recall,train_precision,test_precision,train_f1,test_f1))\n",
    "        \n",
    "     # If the flag is set to True then only the following print statements will be dispayed. The default value is set to True.\n",
    "    if flag == True: \n",
    "        print(\"Accuracy on training set : \",accuracy_score(pred_train,train_y))\n",
    "        print(\"Accuracy on test set : \",accuracy_score(pred_test,test_y))\n",
    "        print(\"Recall on training set : \",recall_score(train_y,pred_train))\n",
    "        print(\"Recall on test set : \",recall_score(test_y,pred_test))\n",
    "        print(\"Precision on training set : \",precision_score(train_y,pred_train))\n",
    "        print(\"Precision on test set : \",precision_score(test_y,pred_test))\n",
    "        print(\"F1 on training set : \",f1_score(train_y,pred_train))\n",
    "        print(\"F1 on test set : \",f1_score(test_y,pred_test))\n",
    "        \n",
    "    if roc == True:\n",
    "        print(\"ROC-AUC Score on training set : \",roc_auc_score(train_y,pred_train))\n",
    "        print(\"ROC-AUC Score on test set : \",roc_auc_score(test_y,pred_test))\n",
    "    \n",
    "    return score_list # returning the list with train and test scores"
   ]
  },
  {
   "cell_type": "code",
   "execution_count": 62,
   "id": "f1189935",
   "metadata": {},
   "outputs": [],
   "source": [
    "def make_confusion_matrix(model,test_X,y_actual,labels=[1, 0]):\n",
    "    '''\n",
    "    model : classifier to predict values of X\n",
    "    test_X: test set\n",
    "    y_actual : ground truth  \n",
    "    \n",
    "    '''\n",
    "    y_predict = model.predict(test_X)\n",
    "    cm=metrics.confusion_matrix( y_actual, y_predict, labels=[1,0])\n",
    "    df_cm = pd.DataFrame(cm, index = [i for i in [\"Actual - >50K\",\"Actual - <=50K\"]],\n",
    "                  columns = [i for i in ['Predicted - >50K','Predicted - <=50k']])\n",
    "    group_counts = [\"{0:0.0f}\".format(value) for value in\n",
    "                cm.flatten()]\n",
    "    group_percentages = [\"{0:.2%}\".format(value) for value in\n",
    "                         cm.flatten()/np.sum(cm)]\n",
    "    labels = [f\"{v1}\\n{v2}\" for v1, v2 in\n",
    "              zip(group_counts,group_percentages)]\n",
    "    labels = np.asarray(labels).reshape(2,2)\n",
    "    plt.figure(figsize = (10,7))\n",
    "    sns.heatmap(df_cm, annot=labels,fmt='')\n",
    "    plt.ylabel('True label')\n",
    "    plt.xlabel('Predicted label')"
   ]
  },
  {
   "cell_type": "markdown",
   "id": "9a6283c3",
   "metadata": {},
   "source": [
    "### Logistic Regression (with Sklearn library)"
   ]
  },
  {
   "cell_type": "code",
   "execution_count": 63,
   "id": "3ef556dc",
   "metadata": {},
   "outputs": [
    {
     "name": "stdout",
     "output_type": "stream",
     "text": [
      "Accuracy on training set :  0.8327922077922078\n",
      "Accuracy on test set :  0.8382638959975433\n",
      "Recall on training set :  0.9230052417006407\n",
      "Recall on test set :  0.9178807947019868\n",
      "Precision on training set :  0.8642635109341767\n",
      "Precision on test set :  0.8783269961977186\n",
      "F1 on training set :  0.8926690511730081\n",
      "F1 on test set :  0.8976683937823834\n"
     ]
    }
   ],
   "source": [
    "lr = LogisticRegression(solver='newton-cg',random_state=1,fit_intercept=False)\n",
    "model  = lr.fit(X_train,y_train)\n",
    "\n",
    "# Let's check model performances for this model\n",
    "scores_LR = get_metrics_score2(model,X_train,X_test,y_train,y_test)"
   ]
  },
  {
   "cell_type": "markdown",
   "id": "807ca087",
   "metadata": {},
   "source": [
    "- We have build a logistic regression model which shows good performance on the train and test sets but to identify significant variables we will have to build a logistic regression model using the statsmodels library."
   ]
  },
  {
   "cell_type": "markdown",
   "id": "acf6607a",
   "metadata": {},
   "source": [
    "- We will now perform logistic regression using statsmodels, a Python module that provides functions for the estimation of many statistical models, as well as for conducting statistical tests, and statistical data exploration.\n",
    "\n",
    "- Using statsmodels, we will be able to check the statistical validity of our model - identify the significant predictors from p-values that we get for each predictor variable."
   ]
  },
  {
   "cell_type": "markdown",
   "id": "6fa0bcd1",
   "metadata": {},
   "source": [
    "### Logistic Regression (with statsmodels library)"
   ]
  },
  {
   "cell_type": "code",
   "execution_count": 64,
   "id": "34b50b45",
   "metadata": {},
   "outputs": [
    {
     "name": "stdout",
     "output_type": "stream",
     "text": [
      "Warning: Maximum number of iterations has been exceeded.\n",
      "         Current function value: 0.355823\n",
      "         Iterations: 35\n",
      "Accuracy on training set :  0.8334503334503335\n",
      "Accuracy on test set :  0.8379568021291841\n",
      "Recall on training set :  0.9223645894001165\n",
      "Recall on test set :  0.9174834437086092\n",
      "Precision on training set :  0.8654098360655738\n",
      "Precision on test set :  0.8782807151007987\n",
      "F1 on training set :  0.8929799830842966\n",
      "F1 on test set :  0.8974541685560665\n"
     ]
    }
   ],
   "source": [
    "logit = sm.Logit(y_train, X_train.astype(float))\n",
    "lg = logit.fit(warn_convergence =False)\n",
    "\n",
    "# Let's check model performances for this model\n",
    "scores_LR = get_metrics_score1(lg,X_train,X_test,y_train,y_test)"
   ]
  },
  {
   "cell_type": "code",
   "execution_count": 65,
   "id": "27d76bd3",
   "metadata": {},
   "outputs": [
    {
     "data": {
      "text/html": [
       "<table class=\"simpletable\">\n",
       "<caption>Logit Regression Results</caption>\n",
       "<tr>\n",
       "  <th>Dep. Variable:</th>        <td>salary</td>      <th>  No. Observations:  </th>  <td> 22792</td> \n",
       "</tr>\n",
       "<tr>\n",
       "  <th>Model:</th>                 <td>Logit</td>      <th>  Df Residuals:      </th>  <td> 22741</td> \n",
       "</tr>\n",
       "<tr>\n",
       "  <th>Method:</th>                 <td>MLE</td>       <th>  Df Model:          </th>  <td>    50</td> \n",
       "</tr>\n",
       "<tr>\n",
       "  <th>Date:</th>            <td>Sun, 16 May 2021</td> <th>  Pseudo R-squ.:     </th>  <td>0.3631</td> \n",
       "</tr>\n",
       "<tr>\n",
       "  <th>Time:</th>                <td>11:32:56</td>     <th>  Log-Likelihood:    </th> <td> -8109.9</td>\n",
       "</tr>\n",
       "<tr>\n",
       "  <th>converged:</th>             <td>False</td>      <th>  LL-Null:           </th> <td> -12733.</td>\n",
       "</tr>\n",
       "<tr>\n",
       "  <th>Covariance Type:</th>     <td>nonrobust</td>    <th>  LLR p-value:       </th>  <td> 0.000</td> \n",
       "</tr>\n",
       "</table>\n",
       "<table class=\"simpletable\">\n",
       "<tr>\n",
       "                <td></td>                   <th>coef</th>     <th>std err</th>      <th>z</th>      <th>P>|z|</th>  <th>[0.025</th>    <th>0.975]</th>  \n",
       "</tr>\n",
       "<tr>\n",
       "  <th>const</th>                         <td>    9.8403</td> <td> 1.87e+06</td> <td> 5.28e-06</td> <td> 1.000</td> <td>-3.66e+06</td> <td> 3.66e+06</td>\n",
       "</tr>\n",
       "<tr>\n",
       "  <th>age</th>                           <td>   -0.0296</td> <td>    0.002</td> <td>  -16.233</td> <td> 0.000</td> <td>   -0.033</td> <td>   -0.026</td>\n",
       "</tr>\n",
       "<tr>\n",
       "  <th>fnlwgt</th>                        <td>-8.962e-07</td> <td> 2.11e-07</td> <td>   -4.244</td> <td> 0.000</td> <td>-1.31e-06</td> <td>-4.82e-07</td>\n",
       "</tr>\n",
       "<tr>\n",
       "  <th>education_no_of_years</th>         <td>   -0.1993</td> <td> 3.11e+05</td> <td>-6.41e-07</td> <td> 1.000</td> <td>-6.09e+05</td> <td> 6.09e+05</td>\n",
       "</tr>\n",
       "<tr>\n",
       "  <th>working_hours_per_week</th>        <td>   -0.0676</td> <td>    0.003</td> <td>  -19.417</td> <td> 0.000</td> <td>   -0.074</td> <td>   -0.061</td>\n",
       "</tr>\n",
       "<tr>\n",
       "  <th>workclass_ Local-gov</th>          <td>    0.7003</td> <td>    0.127</td> <td>    5.529</td> <td> 0.000</td> <td>    0.452</td> <td>    0.949</td>\n",
       "</tr>\n",
       "<tr>\n",
       "  <th>workclass_ Never-worked</th>       <td>   12.7506</td> <td>      nan</td> <td>      nan</td> <td>   nan</td> <td>      nan</td> <td>      nan</td>\n",
       "</tr>\n",
       "<tr>\n",
       "  <th>workclass_ Private</th>            <td>    0.4649</td> <td>    0.105</td> <td>    4.424</td> <td> 0.000</td> <td>    0.259</td> <td>    0.671</td>\n",
       "</tr>\n",
       "<tr>\n",
       "  <th>workclass_ Self-emp-inc</th>       <td>    0.1071</td> <td>    0.138</td> <td>    0.776</td> <td> 0.438</td> <td>   -0.163</td> <td>    0.377</td>\n",
       "</tr>\n",
       "<tr>\n",
       "  <th>workclass_ Self-emp-not-inc</th>   <td>    0.9197</td> <td>    0.123</td> <td>    7.485</td> <td> 0.000</td> <td>    0.679</td> <td>    1.160</td>\n",
       "</tr>\n",
       "<tr>\n",
       "  <th>workclass_ State-gov</th>          <td>    0.6757</td> <td>    0.140</td> <td>    4.843</td> <td> 0.000</td> <td>    0.402</td> <td>    0.949</td>\n",
       "</tr>\n",
       "<tr>\n",
       "  <th>workclass_ Without-pay</th>        <td>   19.9913</td> <td> 1.04e+04</td> <td>    0.002</td> <td> 0.998</td> <td>-2.04e+04</td> <td> 2.04e+04</td>\n",
       "</tr>\n",
       "<tr>\n",
       "  <th>workclass_Unknown</th>             <td>   -5.7799</td> <td>      nan</td> <td>      nan</td> <td>   nan</td> <td>      nan</td> <td>      nan</td>\n",
       "</tr>\n",
       "<tr>\n",
       "  <th>education_ 11th</th>               <td>    0.1602</td> <td> 3.11e+05</td> <td> 5.15e-07</td> <td> 1.000</td> <td>-6.09e+05</td> <td> 6.09e+05</td>\n",
       "</tr>\n",
       "<tr>\n",
       "  <th>education_ 12th</th>               <td>   -0.1161</td> <td> 6.22e+05</td> <td>-1.87e-07</td> <td> 1.000</td> <td>-1.22e+06</td> <td> 1.22e+06</td>\n",
       "</tr>\n",
       "<tr>\n",
       "  <th>education_ 1st-4th</th>            <td>    0.4957</td> <td> 4.66e+05</td> <td> 1.06e-06</td> <td> 1.000</td> <td>-9.14e+05</td> <td> 9.14e+05</td>\n",
       "</tr>\n",
       "<tr>\n",
       "  <th>education_ 5th-6th</th>            <td>    0.1761</td> <td> 4.66e+05</td> <td> 3.78e-07</td> <td> 1.000</td> <td>-9.14e+05</td> <td> 9.14e+05</td>\n",
       "</tr>\n",
       "<tr>\n",
       "  <th>education_ 7th-8th</th>            <td>    0.2590</td> <td> 4.66e+05</td> <td> 5.55e-07</td> <td> 1.000</td> <td>-9.14e+05</td> <td> 9.14e+05</td>\n",
       "</tr>\n",
       "<tr>\n",
       "  <th>education_ 9th</th>                <td>    0.2793</td> <td> 3.11e+05</td> <td> 8.99e-07</td> <td> 1.000</td> <td>-6.09e+05</td> <td> 6.09e+05</td>\n",
       "</tr>\n",
       "<tr>\n",
       "  <th>education_ Assoc-acdm</th>         <td>   -0.1817</td> <td> 1.87e+06</td> <td>-9.74e-08</td> <td> 1.000</td> <td>-3.66e+06</td> <td> 3.66e+06</td>\n",
       "</tr>\n",
       "<tr>\n",
       "  <th>education_ Assoc-voc</th>          <td>   -0.4214</td> <td> 1.55e+06</td> <td>-2.71e-07</td> <td> 1.000</td> <td>-3.05e+06</td> <td> 3.05e+06</td>\n",
       "</tr>\n",
       "<tr>\n",
       "  <th>education_ Bachelors</th>          <td>   -0.6339</td> <td> 2.18e+06</td> <td>-2.91e-07</td> <td> 1.000</td> <td>-4.26e+06</td> <td> 4.26e+06</td>\n",
       "</tr>\n",
       "<tr>\n",
       "  <th>education_ Doctorate</th>          <td>   -0.9419</td> <td> 3.11e+06</td> <td>-3.03e-07</td> <td> 1.000</td> <td>-6.09e+06</td> <td> 6.09e+06</td>\n",
       "</tr>\n",
       "<tr>\n",
       "  <th>education_ HS-grad</th>            <td>   -0.2731</td> <td> 9.33e+05</td> <td>-2.93e-07</td> <td> 1.000</td> <td>-1.83e+06</td> <td> 1.83e+06</td>\n",
       "</tr>\n",
       "<tr>\n",
       "  <th>education_ Masters</th>            <td>   -0.8273</td> <td> 2.49e+06</td> <td>-3.33e-07</td> <td> 1.000</td> <td>-4.87e+06</td> <td> 4.87e+06</td>\n",
       "</tr>\n",
       "<tr>\n",
       "  <th>education_ Preschool</th>          <td>   13.2214</td> <td> 4.66e+05</td> <td> 2.84e-05</td> <td> 1.000</td> <td>-9.14e+05</td> <td> 9.14e+05</td>\n",
       "</tr>\n",
       "<tr>\n",
       "  <th>education_ Prof-school</th>        <td>   -1.2857</td> <td>  2.8e+06</td> <td> -4.6e-07</td> <td> 1.000</td> <td>-5.48e+06</td> <td> 5.48e+06</td>\n",
       "</tr>\n",
       "<tr>\n",
       "  <th>education_ Some-college</th>       <td>   -0.3997</td> <td> 1.24e+06</td> <td>-3.21e-07</td> <td> 1.000</td> <td>-2.44e+06</td> <td> 2.44e+06</td>\n",
       "</tr>\n",
       "<tr>\n",
       "  <th>marital_status_married</th>        <td>   -2.5557</td> <td>    0.069</td> <td>  -37.298</td> <td> 0.000</td> <td>   -2.690</td> <td>   -2.421</td>\n",
       "</tr>\n",
       "<tr>\n",
       "  <th>marital_status_not_married</th>    <td>   -0.4237</td> <td>    0.083</td> <td>   -5.104</td> <td> 0.000</td> <td>   -0.586</td> <td>   -0.261</td>\n",
       "</tr>\n",
       "<tr>\n",
       "  <th>occupation_ Armed-Forces</th>      <td>    0.9057</td> <td>    1.334</td> <td>    0.679</td> <td> 0.497</td> <td>   -1.708</td> <td>    3.520</td>\n",
       "</tr>\n",
       "<tr>\n",
       "  <th>occupation_ Craft-repair</th>      <td>   -0.0982</td> <td>    0.089</td> <td>   -1.109</td> <td> 0.267</td> <td>   -0.272</td> <td>    0.075</td>\n",
       "</tr>\n",
       "<tr>\n",
       "  <th>occupation_ Exec-managerial</th>   <td>   -0.7609</td> <td>    0.085</td> <td>   -8.939</td> <td> 0.000</td> <td>   -0.928</td> <td>   -0.594</td>\n",
       "</tr>\n",
       "<tr>\n",
       "  <th>occupation_ Farming-fishing</th>   <td>    0.9681</td> <td>    0.155</td> <td>    6.234</td> <td> 0.000</td> <td>    0.664</td> <td>    1.272</td>\n",
       "</tr>\n",
       "<tr>\n",
       "  <th>occupation_ Handlers-cleaners</th> <td>    0.7093</td> <td>    0.158</td> <td>    4.476</td> <td> 0.000</td> <td>    0.399</td> <td>    1.020</td>\n",
       "</tr>\n",
       "<tr>\n",
       "  <th>occupation_ Machine-op-inspct</th> <td>    0.3001</td> <td>    0.114</td> <td>    2.636</td> <td> 0.008</td> <td>    0.077</td> <td>    0.523</td>\n",
       "</tr>\n",
       "<tr>\n",
       "  <th>occupation_ Other-service</th>     <td>    0.9223</td> <td>    0.132</td> <td>    6.992</td> <td> 0.000</td> <td>    0.664</td> <td>    1.181</td>\n",
       "</tr>\n",
       "<tr>\n",
       "  <th>occupation_ Priv-house-serv</th>   <td>    2.2452</td> <td>    1.086</td> <td>    2.068</td> <td> 0.039</td> <td>    0.117</td> <td>    4.373</td>\n",
       "</tr>\n",
       "<tr>\n",
       "  <th>occupation_ Prof-specialty</th>    <td>   -0.4799</td> <td>    0.090</td> <td>   -5.333</td> <td> 0.000</td> <td>   -0.656</td> <td>   -0.304</td>\n",
       "</tr>\n",
       "<tr>\n",
       "  <th>occupation_ Protective-serv</th>   <td>   -0.5111</td> <td>    0.141</td> <td>   -3.632</td> <td> 0.000</td> <td>   -0.787</td> <td>   -0.235</td>\n",
       "</tr>\n",
       "<tr>\n",
       "  <th>occupation_ Sales</th>             <td>   -0.1993</td> <td>    0.091</td> <td>   -2.189</td> <td> 0.029</td> <td>   -0.378</td> <td>   -0.021</td>\n",
       "</tr>\n",
       "<tr>\n",
       "  <th>occupation_ Tech-support</th>      <td>   -0.5768</td> <td>    0.124</td> <td>   -4.638</td> <td> 0.000</td> <td>   -0.821</td> <td>   -0.333</td>\n",
       "</tr>\n",
       "<tr>\n",
       "  <th>occupation_ Transport-moving</th>  <td>    0.1702</td> <td>    0.112</td> <td>    1.524</td> <td> 0.128</td> <td>   -0.049</td> <td>    0.389</td>\n",
       "</tr>\n",
       "<tr>\n",
       "  <th>occupation_Unknown</th>            <td>    6.9708</td> <td>      nan</td> <td>      nan</td> <td>   nan</td> <td>      nan</td> <td>      nan</td>\n",
       "</tr>\n",
       "<tr>\n",
       "  <th>race_ Asian-Pac-Islander</th>      <td>   -0.4247</td> <td>    0.282</td> <td>   -1.506</td> <td> 0.132</td> <td>   -0.977</td> <td>    0.128</td>\n",
       "</tr>\n",
       "<tr>\n",
       "  <th>race_ Black</th>                   <td>   -0.3083</td> <td>    0.248</td> <td>   -1.244</td> <td> 0.214</td> <td>   -0.794</td> <td>    0.177</td>\n",
       "</tr>\n",
       "<tr>\n",
       "  <th>race_ Other</th>                   <td>   -0.0396</td> <td>    0.371</td> <td>   -0.107</td> <td> 0.915</td> <td>   -0.766</td> <td>    0.687</td>\n",
       "</tr>\n",
       "<tr>\n",
       "  <th>race_ White</th>                   <td>   -0.4326</td> <td>    0.235</td> <td>   -1.839</td> <td> 0.066</td> <td>   -0.894</td> <td>    0.029</td>\n",
       "</tr>\n",
       "<tr>\n",
       "  <th>sex_ Male</th>                     <td>   -0.0502</td> <td>    0.058</td> <td>   -0.871</td> <td> 0.384</td> <td>   -0.163</td> <td>    0.063</td>\n",
       "</tr>\n",
       "<tr>\n",
       "  <th>native_country_europe</th>         <td>   -0.3432</td> <td>    0.236</td> <td>   -1.454</td> <td> 0.146</td> <td>   -0.806</td> <td>    0.119</td>\n",
       "</tr>\n",
       "<tr>\n",
       "  <th>native_country_north_america</th>  <td>   -0.2124</td> <td>    0.188</td> <td>   -1.127</td> <td> 0.260</td> <td>   -0.582</td> <td>    0.157</td>\n",
       "</tr>\n",
       "<tr>\n",
       "  <th>native_country_other</th>          <td>    0.1241</td> <td>    0.212</td> <td>    0.585</td> <td> 0.559</td> <td>   -0.292</td> <td>    0.540</td>\n",
       "</tr>\n",
       "<tr>\n",
       "  <th>native_country_south_america</th>  <td>    1.8671</td> <td>    0.690</td> <td>    2.706</td> <td> 0.007</td> <td>    0.515</td> <td>    3.219</td>\n",
       "</tr>\n",
       "</table>"
      ],
      "text/plain": [
       "<class 'statsmodels.iolib.summary.Summary'>\n",
       "\"\"\"\n",
       "                           Logit Regression Results                           \n",
       "==============================================================================\n",
       "Dep. Variable:                 salary   No. Observations:                22792\n",
       "Model:                          Logit   Df Residuals:                    22741\n",
       "Method:                           MLE   Df Model:                           50\n",
       "Date:                Sun, 16 May 2021   Pseudo R-squ.:                  0.3631\n",
       "Time:                        11:32:56   Log-Likelihood:                -8109.9\n",
       "converged:                      False   LL-Null:                       -12733.\n",
       "Covariance Type:            nonrobust   LLR p-value:                     0.000\n",
       "=================================================================================================\n",
       "                                    coef    std err          z      P>|z|      [0.025      0.975]\n",
       "-------------------------------------------------------------------------------------------------\n",
       "const                             9.8403   1.87e+06   5.28e-06      1.000   -3.66e+06    3.66e+06\n",
       "age                              -0.0296      0.002    -16.233      0.000      -0.033      -0.026\n",
       "fnlwgt                        -8.962e-07   2.11e-07     -4.244      0.000   -1.31e-06   -4.82e-07\n",
       "education_no_of_years            -0.1993   3.11e+05  -6.41e-07      1.000   -6.09e+05    6.09e+05\n",
       "working_hours_per_week           -0.0676      0.003    -19.417      0.000      -0.074      -0.061\n",
       "workclass_ Local-gov              0.7003      0.127      5.529      0.000       0.452       0.949\n",
       "workclass_ Never-worked          12.7506        nan        nan        nan         nan         nan\n",
       "workclass_ Private                0.4649      0.105      4.424      0.000       0.259       0.671\n",
       "workclass_ Self-emp-inc           0.1071      0.138      0.776      0.438      -0.163       0.377\n",
       "workclass_ Self-emp-not-inc       0.9197      0.123      7.485      0.000       0.679       1.160\n",
       "workclass_ State-gov              0.6757      0.140      4.843      0.000       0.402       0.949\n",
       "workclass_ Without-pay           19.9913   1.04e+04      0.002      0.998   -2.04e+04    2.04e+04\n",
       "workclass_Unknown                -5.7799        nan        nan        nan         nan         nan\n",
       "education_ 11th                   0.1602   3.11e+05   5.15e-07      1.000   -6.09e+05    6.09e+05\n",
       "education_ 12th                  -0.1161   6.22e+05  -1.87e-07      1.000   -1.22e+06    1.22e+06\n",
       "education_ 1st-4th                0.4957   4.66e+05   1.06e-06      1.000   -9.14e+05    9.14e+05\n",
       "education_ 5th-6th                0.1761   4.66e+05   3.78e-07      1.000   -9.14e+05    9.14e+05\n",
       "education_ 7th-8th                0.2590   4.66e+05   5.55e-07      1.000   -9.14e+05    9.14e+05\n",
       "education_ 9th                    0.2793   3.11e+05   8.99e-07      1.000   -6.09e+05    6.09e+05\n",
       "education_ Assoc-acdm            -0.1817   1.87e+06  -9.74e-08      1.000   -3.66e+06    3.66e+06\n",
       "education_ Assoc-voc             -0.4214   1.55e+06  -2.71e-07      1.000   -3.05e+06    3.05e+06\n",
       "education_ Bachelors             -0.6339   2.18e+06  -2.91e-07      1.000   -4.26e+06    4.26e+06\n",
       "education_ Doctorate             -0.9419   3.11e+06  -3.03e-07      1.000   -6.09e+06    6.09e+06\n",
       "education_ HS-grad               -0.2731   9.33e+05  -2.93e-07      1.000   -1.83e+06    1.83e+06\n",
       "education_ Masters               -0.8273   2.49e+06  -3.33e-07      1.000   -4.87e+06    4.87e+06\n",
       "education_ Preschool             13.2214   4.66e+05   2.84e-05      1.000   -9.14e+05    9.14e+05\n",
       "education_ Prof-school           -1.2857    2.8e+06   -4.6e-07      1.000   -5.48e+06    5.48e+06\n",
       "education_ Some-college          -0.3997   1.24e+06  -3.21e-07      1.000   -2.44e+06    2.44e+06\n",
       "marital_status_married           -2.5557      0.069    -37.298      0.000      -2.690      -2.421\n",
       "marital_status_not_married       -0.4237      0.083     -5.104      0.000      -0.586      -0.261\n",
       "occupation_ Armed-Forces          0.9057      1.334      0.679      0.497      -1.708       3.520\n",
       "occupation_ Craft-repair         -0.0982      0.089     -1.109      0.267      -0.272       0.075\n",
       "occupation_ Exec-managerial      -0.7609      0.085     -8.939      0.000      -0.928      -0.594\n",
       "occupation_ Farming-fishing       0.9681      0.155      6.234      0.000       0.664       1.272\n",
       "occupation_ Handlers-cleaners     0.7093      0.158      4.476      0.000       0.399       1.020\n",
       "occupation_ Machine-op-inspct     0.3001      0.114      2.636      0.008       0.077       0.523\n",
       "occupation_ Other-service         0.9223      0.132      6.992      0.000       0.664       1.181\n",
       "occupation_ Priv-house-serv       2.2452      1.086      2.068      0.039       0.117       4.373\n",
       "occupation_ Prof-specialty       -0.4799      0.090     -5.333      0.000      -0.656      -0.304\n",
       "occupation_ Protective-serv      -0.5111      0.141     -3.632      0.000      -0.787      -0.235\n",
       "occupation_ Sales                -0.1993      0.091     -2.189      0.029      -0.378      -0.021\n",
       "occupation_ Tech-support         -0.5768      0.124     -4.638      0.000      -0.821      -0.333\n",
       "occupation_ Transport-moving      0.1702      0.112      1.524      0.128      -0.049       0.389\n",
       "occupation_Unknown                6.9708        nan        nan        nan         nan         nan\n",
       "race_ Asian-Pac-Islander         -0.4247      0.282     -1.506      0.132      -0.977       0.128\n",
       "race_ Black                      -0.3083      0.248     -1.244      0.214      -0.794       0.177\n",
       "race_ Other                      -0.0396      0.371     -0.107      0.915      -0.766       0.687\n",
       "race_ White                      -0.4326      0.235     -1.839      0.066      -0.894       0.029\n",
       "sex_ Male                        -0.0502      0.058     -0.871      0.384      -0.163       0.063\n",
       "native_country_europe            -0.3432      0.236     -1.454      0.146      -0.806       0.119\n",
       "native_country_north_america     -0.2124      0.188     -1.127      0.260      -0.582       0.157\n",
       "native_country_other              0.1241      0.212      0.585      0.559      -0.292       0.540\n",
       "native_country_south_america      1.8671      0.690      2.706      0.007       0.515       3.219\n",
       "=================================================================================================\n",
       "\"\"\""
      ]
     },
     "execution_count": 65,
     "metadata": {},
     "output_type": "execute_result"
    }
   ],
   "source": [
    "lg.summary()"
   ]
  },
  {
   "cell_type": "markdown",
   "id": "44b90954",
   "metadata": {},
   "source": [
    "**But first we will have to remove multicollinearity from the data to get reliable coefficients and p-values.** \n",
    "* There are different ways of detecting (or testing) multi-collinearity, one such way is the Variation Inflation Factor."
   ]
  },
  {
   "cell_type": "markdown",
   "id": "f700b3c1",
   "metadata": {},
   "source": [
    "### Additional Information on VIF\n",
    "\n",
    "* **Variance  Inflation  factor**:  Variance  inflation  factors  measure  the  inflation  in  the variances of the regression coefficients estimates due to collinearities that exist among the  predictors.  It  is  a  measure  of  how  much  the  variance  of  the  estimated  regression coefficient βk is “inflated”by  the  existence  of  correlation  among  the  predictor variables in the model. \n",
    "\n",
    "* General Rule of thumb: If VIF is 1 then there is no correlation among the kth predictor and the remaining predictor variables, and  hence  the variance of β̂k is not inflated at all. Whereas if VIF exceeds 5, we say there is moderate VIF and if it is 10 or exceeding 10, it shows signs of high multi-collinearity. But the purpose of the analysis should dictate which threshold to use. "
   ]
  },
  {
   "cell_type": "markdown",
   "id": "288834f4",
   "metadata": {},
   "source": [
    "### Multicollinearity"
   ]
  },
  {
   "cell_type": "code",
   "execution_count": 66,
   "id": "9003c61d",
   "metadata": {},
   "outputs": [],
   "source": [
    "# changing datatype of colums to numeric for checking vif\n",
    "X_train_num = X_train.astype(float).copy()"
   ]
  },
  {
   "cell_type": "code",
   "execution_count": 67,
   "id": "407c3a3a",
   "metadata": {},
   "outputs": [
    {
     "name": "stdout",
     "output_type": "stream",
     "text": [
      "Series before feature selection: \n",
      "\n",
      "const                             0.000000\n",
      "age                               1.543408\n",
      "fnlwgt                            1.037670\n",
      "education_no_of_years                  inf\n",
      "working_hours_per_week            1.230480\n",
      "workclass_ Local-gov              3.157727\n",
      "workclass_ Never-worked                inf\n",
      "workclass_ Private                7.932842\n",
      "workclass_ Self-emp-inc           2.238230\n",
      "workclass_ Self-emp-not-inc       3.614046\n",
      "workclass_ State-gov              2.343798\n",
      "workclass_ Without-pay            1.017431\n",
      "workclass_Unknown                      inf\n",
      "education_ 11th                        inf\n",
      "education_ 12th                        inf\n",
      "education_ 1st-4th                     inf\n",
      "education_ 5th-6th                     inf\n",
      "education_ 7th-8th                     inf\n",
      "education_ 9th                         inf\n",
      "education_ Assoc-acdm                  inf\n",
      "education_ Assoc-voc                   inf\n",
      "education_ Bachelors                   inf\n",
      "education_ Doctorate                   inf\n",
      "education_ HS-grad                     inf\n",
      "education_ Masters                     inf\n",
      "education_ Preschool                   inf\n",
      "education_ Prof-school                 inf\n",
      "education_ Some-college                inf\n",
      "marital_status_married            1.984803\n",
      "marital_status_not_married        1.727480\n",
      "occupation_ Armed-Forces          1.012501\n",
      "occupation_ Craft-repair          2.189802\n",
      "occupation_ Exec-managerial       2.096769\n",
      "occupation_ Farming-fishing       1.388777\n",
      "occupation_ Handlers-cleaners     1.445563\n",
      "occupation_ Machine-op-inspct     1.590302\n",
      "occupation_ Other-service         1.798841\n",
      "occupation_ Priv-house-serv       1.059072\n",
      "occupation_ Prof-specialty        2.366622\n",
      "occupation_ Protective-serv       1.272686\n",
      "occupation_ Sales                 1.923069\n",
      "occupation_ Tech-support          1.242822\n",
      "occupation_ Transport-moving      1.526982\n",
      "occupation_Unknown                     inf\n",
      "race_ Asian-Pac-Islander          5.279284\n",
      "race_ Black                       9.974292\n",
      "race_ Other                       1.881308\n",
      "race_ White                      13.203171\n",
      "sex_ Male                         1.517932\n",
      "native_country_europe             2.471834\n",
      "native_country_north_america      5.454332\n",
      "native_country_other              2.430084\n",
      "native_country_south_america      1.322060\n",
      "dtype: float64\n",
      "\n"
     ]
    }
   ],
   "source": [
    "vif_series1 = pd.Series([variance_inflation_factor(X_train_num.values,i) for i in range(X_train_num.shape[1])],index=X_train_num.columns, dtype = float)\n",
    "print('Series before feature selection: \\n\\n{}\\n'.format(vif_series1))"
   ]
  },
  {
   "cell_type": "markdown",
   "id": "6c8ad20d",
   "metadata": {},
   "source": [
    "* As we saw in our earlier analysis that wherever workclass has ? or unknown values occupation is also ? or unknown.\n",
    "* The high correlation between these variables has been highlighted in the VIF values as well.\n",
    "* We will drop occupation_Unknown as we get the same information from workclass_Unknown.\n",
    "* education_no_of_years, education, and some categorical levels of Occupation, Workclass, relationship, native_country, and race also exhibit high multicollinearity."
   ]
  },
  {
   "cell_type": "markdown",
   "id": "f34df34b",
   "metadata": {},
   "source": [
    "#### Removing occupation_Unknown"
   ]
  },
  {
   "cell_type": "code",
   "execution_count": 68,
   "id": "843f021e",
   "metadata": {},
   "outputs": [
    {
     "name": "stdout",
     "output_type": "stream",
     "text": [
      "Series before feature selection: \n",
      "\n",
      "const                             0.000000\n",
      "age                               1.543408\n",
      "fnlwgt                            1.037670\n",
      "education_no_of_years                  inf\n",
      "working_hours_per_week            1.230480\n",
      "workclass_ Local-gov              3.157727\n",
      "workclass_ Never-worked           1.010896\n",
      "workclass_ Private                7.932842\n",
      "workclass_ Self-emp-inc           2.238230\n",
      "workclass_ Self-emp-not-inc       3.614046\n",
      "workclass_ State-gov              2.343798\n",
      "workclass_ Without-pay            1.017431\n",
      "workclass_Unknown                 3.105519\n",
      "education_ 11th                        inf\n",
      "education_ 12th                        inf\n",
      "education_ 1st-4th                     inf\n",
      "education_ 5th-6th                     inf\n",
      "education_ 7th-8th                     inf\n",
      "education_ 9th                         inf\n",
      "education_ Assoc-acdm                  inf\n",
      "education_ Assoc-voc                   inf\n",
      "education_ Bachelors                   inf\n",
      "education_ Doctorate                   inf\n",
      "education_ HS-grad                     inf\n",
      "education_ Masters                     inf\n",
      "education_ Preschool                   inf\n",
      "education_ Prof-school                 inf\n",
      "education_ Some-college                inf\n",
      "marital_status_married            1.984803\n",
      "marital_status_not_married        1.727480\n",
      "occupation_ Armed-Forces          1.012501\n",
      "occupation_ Craft-repair          2.189802\n",
      "occupation_ Exec-managerial       2.096769\n",
      "occupation_ Farming-fishing       1.388777\n",
      "occupation_ Handlers-cleaners     1.445563\n",
      "occupation_ Machine-op-inspct     1.590302\n",
      "occupation_ Other-service         1.798841\n",
      "occupation_ Priv-house-serv       1.059072\n",
      "occupation_ Prof-specialty        2.366622\n",
      "occupation_ Protective-serv       1.272686\n",
      "occupation_ Sales                 1.923069\n",
      "occupation_ Tech-support          1.242822\n",
      "occupation_ Transport-moving      1.526982\n",
      "race_ Asian-Pac-Islander          5.279284\n",
      "race_ Black                       9.974292\n",
      "race_ Other                       1.881308\n",
      "race_ White                      13.203171\n",
      "sex_ Male                         1.517932\n",
      "native_country_europe             2.471834\n",
      "native_country_north_america      5.454332\n",
      "native_country_other              2.430084\n",
      "native_country_south_america      1.322060\n",
      "dtype: float64\n",
      "\n"
     ]
    }
   ],
   "source": [
    "X_train_num1 = X_train_num.drop('occupation_Unknown',axis=1)\n",
    "vif_series2 = pd.Series([variance_inflation_factor(X_train_num1.values,i) for i in range(X_train_num1.shape[1])],index=X_train_num1.columns)\n",
    "print('Series before feature selection: \\n\\n{}\\n'.format(vif_series2))"
   ]
  },
  {
   "cell_type": "markdown",
   "id": "f6c98b14",
   "metadata": {},
   "source": [
    "* Removal of occupation_Unknown has fixed multicollinearity in workclass column.\n",
    "* education_no_of_years and education also capture similar information and hence it is understandable that they have high VIF values.\n",
    "* Now dropping education_no_of_years, and education to see which variable has a significant impact on the model's performance."
   ]
  },
  {
   "cell_type": "markdown",
   "id": "9b937742",
   "metadata": {},
   "source": [
    "#### Let's create a model with all the features except occupation_Unknown"
   ]
  },
  {
   "cell_type": "code",
   "execution_count": 69,
   "id": "99a25d97",
   "metadata": {},
   "outputs": [],
   "source": [
    "X_train,X_test,y_train,y_test = split('salary')"
   ]
  },
  {
   "cell_type": "code",
   "execution_count": 70,
   "id": "617c3c2d",
   "metadata": {},
   "outputs": [],
   "source": [
    "X_train.drop(['occupation_Unknown'],axis=1,inplace=True)\n",
    "X_test.drop(['occupation_Unknown'],axis=1,inplace=True)"
   ]
  },
  {
   "cell_type": "code",
   "execution_count": 71,
   "id": "e2b280d7",
   "metadata": {},
   "outputs": [
    {
     "name": "stdout",
     "output_type": "stream",
     "text": [
      "Warning: Maximum number of iterations has been exceeded.\n",
      "         Current function value: 0.355823\n",
      "         Iterations: 35\n",
      "Accuracy on training set :  0.8334503334503335\n",
      "Accuracy on test set :  0.8379568021291841\n",
      "Recall on training set :  0.9223645894001165\n",
      "Recall on test set :  0.9174834437086092\n",
      "Precision on training set :  0.8654098360655738\n",
      "Precision on test set :  0.8782807151007987\n",
      "F1 on training set :  0.8929799830842966\n",
      "F1 on test set :  0.8974541685560665\n"
     ]
    }
   ],
   "source": [
    "logit1 = sm.Logit(y_train, X_train.astype(float))\n",
    "lg1 = logit1.fit(warn_convergence =False)\n",
    "\n",
    "# Let's check model performances for this model\n",
    "scores_LR = get_metrics_score1(lg1,X_train,X_test,y_train,y_test)"
   ]
  },
  {
   "cell_type": "markdown",
   "id": "ea10d2f0",
   "metadata": {},
   "source": [
    "#### Dropping education_no_of_years"
   ]
  },
  {
   "cell_type": "code",
   "execution_count": 72,
   "id": "fbe13a5b",
   "metadata": {},
   "outputs": [
    {
     "name": "stdout",
     "output_type": "stream",
     "text": [
      "Series before feature selection: \n",
      "\n",
      "const                            327.504107\n",
      "age                                1.543408\n",
      "fnlwgt                             1.037670\n",
      "working_hours_per_week             1.230480\n",
      "workclass_ Local-gov               3.157727\n",
      "workclass_ Never-worked            1.010896\n",
      "workclass_ Private                 7.932842\n",
      "workclass_ Self-emp-inc            2.238230\n",
      "workclass_ Self-emp-not-inc        3.614046\n",
      "workclass_ State-gov               2.343798\n",
      "workclass_ Without-pay             1.017431\n",
      "workclass_Unknown                  3.105519\n",
      "education_ 11th                    2.207699\n",
      "education_ 12th                    1.423685\n",
      "education_ 1st-4th                 1.178784\n",
      "education_ 5th-6th                 1.346636\n",
      "education_ 7th-8th                 1.662528\n",
      "education_ 9th                     1.548277\n",
      "education_ Assoc-acdm              2.134350\n",
      "education_ Assoc-voc               2.456743\n",
      "education_ Bachelors               6.123671\n",
      "education_ Doctorate               1.584916\n",
      "education_ HS-grad                 8.371239\n",
      "education_ Masters                 3.065246\n",
      "education_ Preschool               1.064171\n",
      "education_ Prof-school             1.833853\n",
      "education_ Some-college            6.990001\n",
      "marital_status_married             1.984803\n",
      "marital_status_not_married         1.727480\n",
      "occupation_ Armed-Forces           1.012501\n",
      "occupation_ Craft-repair           2.189802\n",
      "occupation_ Exec-managerial        2.096769\n",
      "occupation_ Farming-fishing        1.388777\n",
      "occupation_ Handlers-cleaners      1.445563\n",
      "occupation_ Machine-op-inspct      1.590302\n",
      "occupation_ Other-service          1.798841\n",
      "occupation_ Priv-house-serv        1.059072\n",
      "occupation_ Prof-specialty         2.366622\n",
      "occupation_ Protective-serv        1.272686\n",
      "occupation_ Sales                  1.923069\n",
      "occupation_ Tech-support           1.242822\n",
      "occupation_ Transport-moving       1.526982\n",
      "race_ Asian-Pac-Islander           5.279284\n",
      "race_ Black                        9.974292\n",
      "race_ Other                        1.881308\n",
      "race_ White                       13.203171\n",
      "sex_ Male                          1.517932\n",
      "native_country_europe              2.471834\n",
      "native_country_north_america       5.454332\n",
      "native_country_other               2.430084\n",
      "native_country_south_america       1.322060\n",
      "dtype: float64\n",
      "\n"
     ]
    }
   ],
   "source": [
    "X_train_num2 = X_train_num1.drop('education_no_of_years',axis=1)\n",
    "vif_series3 = pd.Series([variance_inflation_factor(X_train_num2.values,i) for i in range(X_train_num2.shape[1])],index=X_train_num2.columns)\n",
    "print('Series before feature selection: \\n\\n{}\\n'.format(vif_series3))"
   ]
  },
  {
   "cell_type": "markdown",
   "id": "6be65108",
   "metadata": {},
   "source": [
    "* Dropping education_no_of_years fixes the multicollinearity in education column."
   ]
  },
  {
   "cell_type": "code",
   "execution_count": 73,
   "id": "51b5b884",
   "metadata": {},
   "outputs": [],
   "source": [
    "X_train1,X_test1,y_train,y_test = split('salary','education_no_of_years')"
   ]
  },
  {
   "cell_type": "code",
   "execution_count": 74,
   "id": "1168fdc3",
   "metadata": {},
   "outputs": [],
   "source": [
    "X_train1.drop(['occupation_Unknown'],axis=1,inplace=True)\n",
    "X_test1.drop(['occupation_Unknown'],axis=1,inplace=True)"
   ]
  },
  {
   "cell_type": "code",
   "execution_count": 75,
   "id": "f3392fe5",
   "metadata": {},
   "outputs": [
    {
     "name": "stdout",
     "output_type": "stream",
     "text": [
      "Warning: Maximum number of iterations has been exceeded.\n",
      "         Current function value: 0.355823\n",
      "         Iterations: 35\n",
      "Accuracy on training set :  0.8334503334503335\n",
      "Accuracy on test set :  0.8379568021291841\n",
      "Recall on training set :  0.9223645894001165\n",
      "Recall on test set :  0.9174834437086092\n",
      "Precision on training set :  0.8654098360655738\n",
      "Precision on test set :  0.8782807151007987\n",
      "F1 on training set :  0.8929799830842966\n",
      "F1 on test set :  0.8974541685560665\n"
     ]
    }
   ],
   "source": [
    "logit2 = sm.Logit(y_train, X_train1.astype(float))\n",
    "lg2 = logit2.fit(warn_convergence =False)\n",
    "\n",
    "# Let's check model performances for this model\n",
    "scores_LR = get_metrics_score1(lg2,X_train1,X_test1,y_train,y_test,flag=True)"
   ]
  },
  {
   "cell_type": "markdown",
   "id": "5e0dcafe",
   "metadata": {},
   "source": [
    "* No significant change in the model performance."
   ]
  },
  {
   "cell_type": "markdown",
   "id": "19729488",
   "metadata": {},
   "source": [
    "#### Dropping education"
   ]
  },
  {
   "cell_type": "code",
   "execution_count": 76,
   "id": "20512667",
   "metadata": {},
   "outputs": [],
   "source": [
    "X_train2,X_test2,y_train,y_test = split('salary','education')"
   ]
  },
  {
   "cell_type": "code",
   "execution_count": 77,
   "id": "b3314bf6",
   "metadata": {},
   "outputs": [],
   "source": [
    "X_train2.drop(['occupation_Unknown'],axis=1,inplace=True)\n",
    "X_test2.drop(['occupation_Unknown'],axis=1,inplace=True)"
   ]
  },
  {
   "cell_type": "code",
   "execution_count": 78,
   "id": "85153604",
   "metadata": {},
   "outputs": [
    {
     "name": "stdout",
     "output_type": "stream",
     "text": [
      "Series before feature selection: \n",
      "\n",
      "const                            314.852442\n",
      "age                                1.489234\n",
      "fnlwgt                             1.033255\n",
      "education_no_of_years              1.533282\n",
      "working_hours_per_week             1.223754\n",
      "workclass_ Local-gov               3.147016\n",
      "workclass_ Never-worked            1.009753\n",
      "workclass_ Private                 7.925086\n",
      "workclass_ Self-emp-inc            2.229977\n",
      "workclass_ Self-emp-not-inc        3.602889\n",
      "workclass_ State-gov               2.333573\n",
      "workclass_ Without-pay             1.016985\n",
      "workclass_Unknown                  3.090059\n",
      "marital_status_married             1.977821\n",
      "marital_status_not_married         1.719371\n",
      "occupation_ Armed-Forces           1.011604\n",
      "occupation_ Craft-repair           2.178469\n",
      "occupation_ Exec-managerial        2.051804\n",
      "occupation_ Farming-fishing        1.381175\n",
      "occupation_ Handlers-cleaners      1.436503\n",
      "occupation_ Machine-op-inspct      1.576180\n",
      "occupation_ Other-service          1.785909\n",
      "occupation_ Priv-house-serv        1.049459\n",
      "occupation_ Prof-specialty         2.162833\n",
      "occupation_ Protective-serv        1.271458\n",
      "occupation_ Sales                  1.908218\n",
      "occupation_ Tech-support           1.233212\n",
      "occupation_ Transport-moving       1.517587\n",
      "race_ Asian-Pac-Islander           5.272383\n",
      "race_ Black                        9.963851\n",
      "race_ Other                        1.877076\n",
      "race_ White                       13.191494\n",
      "sex_ Male                          1.513342\n",
      "native_country_europe              2.464396\n",
      "native_country_north_america       5.428132\n",
      "native_country_other               2.423269\n",
      "native_country_south_america       1.319961\n",
      "dtype: float64\n",
      "\n"
     ]
    }
   ],
   "source": [
    "X_train_num3 = X_train2.astype(float).copy()\n",
    "vif_series4 = pd.Series([variance_inflation_factor(X_train_num3.values,i) for i in range(X_train_num3.shape[1])],index=X_train_num3.columns)\n",
    "print('Series before feature selection: \\n\\n{}\\n'.format(vif_series4))"
   ]
  },
  {
   "cell_type": "markdown",
   "id": "b8c38f75",
   "metadata": {},
   "source": [
    "* VIF value for education_no_of_years has reduced."
   ]
  },
  {
   "cell_type": "code",
   "execution_count": 79,
   "id": "b8e849aa",
   "metadata": {},
   "outputs": [
    {
     "name": "stdout",
     "output_type": "stream",
     "text": [
      "Warning: Maximum number of iterations has been exceeded.\n",
      "         Current function value: 0.356502\n",
      "         Iterations: 35\n",
      "Accuracy on training set :  0.8327922077922078\n",
      "Accuracy on test set :  0.8377520728836114\n",
      "Recall on training set :  0.921549213744904\n",
      "Recall on test set :  0.9166887417218543\n",
      "Precision on training set :  0.8652594739432383\n",
      "Precision on test set :  0.878633997714866\n",
      "F1 on training set :  0.8925176974927377\n",
      "F1 on test set :  0.8972580540610618\n"
     ]
    }
   ],
   "source": [
    "logit3 = sm.Logit(y_train, X_train2.astype(float))\n",
    "lg3 = logit3.fit(warn_convergence =False)\n",
    "\n",
    "# Let's check model performances for this model\n",
    "scores_LR = get_metrics_score1(lg3,X_train2,X_test2,y_train,y_test)"
   ]
  },
  {
   "cell_type": "markdown",
   "id": "8a73e662",
   "metadata": {},
   "source": [
    "* No significant change in the model performance."
   ]
  },
  {
   "cell_type": "markdown",
   "id": "5d24f726",
   "metadata": {},
   "source": [
    "**Observations:**\n",
    "1. Dropping education_no_of_years and education doesn't have a significant impact on the model performance.\n",
    "2. We can choose any model to proceed to the next steps.\n",
    "3. Here, we will go with the lg2 model - where we dropped education_no_of_years as the education column captures more specific information.\n",
    "4. Some of the categorical levels of a variable still have VIF>5 but removing certain categories from a variable will impact the interpretations from the model."
   ]
  },
  {
   "cell_type": "markdown",
   "id": "51be5ac9",
   "metadata": {},
   "source": [
    "#### Summary of final model"
   ]
  },
  {
   "cell_type": "code",
   "execution_count": 80,
   "id": "6d88ea07",
   "metadata": {},
   "outputs": [
    {
     "data": {
      "text/html": [
       "<table class=\"simpletable\">\n",
       "<caption>Logit Regression Results</caption>\n",
       "<tr>\n",
       "  <th>Dep. Variable:</th>        <td>salary</td>      <th>  No. Observations:  </th>  <td> 22792</td> \n",
       "</tr>\n",
       "<tr>\n",
       "  <th>Model:</th>                 <td>Logit</td>      <th>  Df Residuals:      </th>  <td> 22741</td> \n",
       "</tr>\n",
       "<tr>\n",
       "  <th>Method:</th>                 <td>MLE</td>       <th>  Df Model:          </th>  <td>    50</td> \n",
       "</tr>\n",
       "<tr>\n",
       "  <th>Date:</th>            <td>Sun, 16 May 2021</td> <th>  Pseudo R-squ.:     </th>  <td>0.3631</td> \n",
       "</tr>\n",
       "<tr>\n",
       "  <th>Time:</th>                <td>11:33:07</td>     <th>  Log-Likelihood:    </th> <td> -8109.9</td>\n",
       "</tr>\n",
       "<tr>\n",
       "  <th>converged:</th>             <td>False</td>      <th>  LL-Null:           </th> <td> -12733.</td>\n",
       "</tr>\n",
       "<tr>\n",
       "  <th>Covariance Type:</th>     <td>nonrobust</td>    <th>  LLR p-value:       </th>  <td> 0.000</td> \n",
       "</tr>\n",
       "</table>\n",
       "<table class=\"simpletable\">\n",
       "<tr>\n",
       "                <td></td>                   <th>coef</th>     <th>std err</th>      <th>z</th>      <th>P>|z|</th>  <th>[0.025</th>    <th>0.975]</th>  \n",
       "</tr>\n",
       "<tr>\n",
       "  <th>const</th>                         <td>    8.6446</td> <td>    0.404</td> <td>   21.422</td> <td> 0.000</td> <td>    7.854</td> <td>    9.436</td>\n",
       "</tr>\n",
       "<tr>\n",
       "  <th>age</th>                           <td>   -0.0296</td> <td>    0.002</td> <td>  -16.233</td> <td> 0.000</td> <td>   -0.033</td> <td>   -0.026</td>\n",
       "</tr>\n",
       "<tr>\n",
       "  <th>fnlwgt</th>                        <td>-8.962e-07</td> <td> 2.11e-07</td> <td>   -4.244</td> <td> 0.000</td> <td>-1.31e-06</td> <td>-4.82e-07</td>\n",
       "</tr>\n",
       "<tr>\n",
       "  <th>working_hours_per_week</th>        <td>   -0.0676</td> <td>    0.003</td> <td>  -19.417</td> <td> 0.000</td> <td>   -0.074</td> <td>   -0.061</td>\n",
       "</tr>\n",
       "<tr>\n",
       "  <th>workclass_ Local-gov</th>          <td>    0.7003</td> <td>    0.127</td> <td>    5.529</td> <td> 0.000</td> <td>    0.452</td> <td>    0.949</td>\n",
       "</tr>\n",
       "<tr>\n",
       "  <th>workclass_ Never-worked</th>       <td>   15.2366</td> <td> 3027.024</td> <td>    0.005</td> <td> 0.996</td> <td>-5917.621</td> <td> 5948.094</td>\n",
       "</tr>\n",
       "<tr>\n",
       "  <th>workclass_ Private</th>            <td>    0.4649</td> <td>    0.105</td> <td>    4.424</td> <td> 0.000</td> <td>    0.259</td> <td>    0.671</td>\n",
       "</tr>\n",
       "<tr>\n",
       "  <th>workclass_ Self-emp-inc</th>       <td>    0.1071</td> <td>    0.138</td> <td>    0.776</td> <td> 0.438</td> <td>   -0.163</td> <td>    0.377</td>\n",
       "</tr>\n",
       "<tr>\n",
       "  <th>workclass_ Self-emp-not-inc</th>   <td>    0.9197</td> <td>    0.123</td> <td>    7.485</td> <td> 0.000</td> <td>    0.679</td> <td>    1.160</td>\n",
       "</tr>\n",
       "<tr>\n",
       "  <th>workclass_ State-gov</th>          <td>    0.6757</td> <td>    0.140</td> <td>    4.843</td> <td> 0.000</td> <td>    0.402</td> <td>    0.949</td>\n",
       "</tr>\n",
       "<tr>\n",
       "  <th>workclass_ Without-pay</th>        <td>   19.9396</td> <td> 1.01e+04</td> <td>    0.002</td> <td> 0.998</td> <td>-1.98e+04</td> <td> 1.99e+04</td>\n",
       "</tr>\n",
       "<tr>\n",
       "  <th>workclass_Unknown</th>             <td>    1.1909</td> <td>    0.158</td> <td>    7.556</td> <td> 0.000</td> <td>    0.882</td> <td>    1.500</td>\n",
       "</tr>\n",
       "<tr>\n",
       "  <th>education_ 11th</th>               <td>   -0.0390</td> <td>    0.243</td> <td>   -0.161</td> <td> 0.872</td> <td>   -0.515</td> <td>    0.437</td>\n",
       "</tr>\n",
       "<tr>\n",
       "  <th>education_ 12th</th>               <td>   -0.5146</td> <td>    0.292</td> <td>   -1.762</td> <td> 0.078</td> <td>   -1.087</td> <td>    0.058</td>\n",
       "</tr>\n",
       "<tr>\n",
       "  <th>education_ 1st-4th</th>            <td>    0.7946</td> <td>    0.556</td> <td>    1.428</td> <td> 0.153</td> <td>   -0.296</td> <td>    1.885</td>\n",
       "</tr>\n",
       "<tr>\n",
       "  <th>education_ 5th-6th</th>            <td>    0.4751</td> <td>    0.353</td> <td>    1.345</td> <td> 0.179</td> <td>   -0.217</td> <td>    1.167</td>\n",
       "</tr>\n",
       "<tr>\n",
       "  <th>education_ 7th-8th</th>            <td>    0.5579</td> <td>    0.268</td> <td>    2.085</td> <td> 0.037</td> <td>    0.034</td> <td>    1.082</td>\n",
       "</tr>\n",
       "<tr>\n",
       "  <th>education_ 9th</th>                <td>    0.4786</td> <td>    0.306</td> <td>    1.566</td> <td> 0.117</td> <td>   -0.120</td> <td>    1.078</td>\n",
       "</tr>\n",
       "<tr>\n",
       "  <th>education_ Assoc-acdm</th>         <td>   -1.3774</td> <td>    0.201</td> <td>   -6.856</td> <td> 0.000</td> <td>   -1.771</td> <td>   -0.984</td>\n",
       "</tr>\n",
       "<tr>\n",
       "  <th>education_ Assoc-voc</th>          <td>   -1.4178</td> <td>    0.192</td> <td>   -7.388</td> <td> 0.000</td> <td>   -1.794</td> <td>   -1.042</td>\n",
       "</tr>\n",
       "<tr>\n",
       "  <th>education_ Bachelors</th>          <td>   -2.0289</td> <td>    0.179</td> <td>  -11.325</td> <td> 0.000</td> <td>   -2.380</td> <td>   -1.678</td>\n",
       "</tr>\n",
       "<tr>\n",
       "  <th>education_ Doctorate</th>          <td>   -2.9347</td> <td>    0.240</td> <td>  -12.243</td> <td> 0.000</td> <td>   -3.405</td> <td>   -2.465</td>\n",
       "</tr>\n",
       "<tr>\n",
       "  <th>education_ HS-grad</th>            <td>   -0.8710</td> <td>    0.175</td> <td>   -4.988</td> <td> 0.000</td> <td>   -1.213</td> <td>   -0.529</td>\n",
       "</tr>\n",
       "<tr>\n",
       "  <th>education_ Masters</th>            <td>   -2.4216</td> <td>    0.191</td> <td>  -12.707</td> <td> 0.000</td> <td>   -2.795</td> <td>   -2.048</td>\n",
       "</tr>\n",
       "<tr>\n",
       "  <th>education_ Preschool</th>          <td>   14.7471</td> <td> 1084.422</td> <td>    0.014</td> <td> 0.989</td> <td>-2110.680</td> <td> 2140.174</td>\n",
       "</tr>\n",
       "<tr>\n",
       "  <th>education_ Prof-school</th>        <td>   -3.0793</td> <td>    0.224</td> <td>  -13.758</td> <td> 0.000</td> <td>   -3.518</td> <td>   -2.641</td>\n",
       "</tr>\n",
       "<tr>\n",
       "  <th>education_ Some-college</th>       <td>   -1.1969</td> <td>    0.177</td> <td>   -6.755</td> <td> 0.000</td> <td>   -1.544</td> <td>   -0.850</td>\n",
       "</tr>\n",
       "<tr>\n",
       "  <th>marital_status_married</th>        <td>   -2.5557</td> <td>    0.069</td> <td>  -37.298</td> <td> 0.000</td> <td>   -2.690</td> <td>   -2.421</td>\n",
       "</tr>\n",
       "<tr>\n",
       "  <th>marital_status_not_married</th>    <td>   -0.4237</td> <td>    0.083</td> <td>   -5.104</td> <td> 0.000</td> <td>   -0.586</td> <td>   -0.261</td>\n",
       "</tr>\n",
       "<tr>\n",
       "  <th>occupation_ Armed-Forces</th>      <td>    0.9057</td> <td>    1.334</td> <td>    0.679</td> <td> 0.497</td> <td>   -1.708</td> <td>    3.520</td>\n",
       "</tr>\n",
       "<tr>\n",
       "  <th>occupation_ Craft-repair</th>      <td>   -0.0982</td> <td>    0.089</td> <td>   -1.109</td> <td> 0.267</td> <td>   -0.272</td> <td>    0.075</td>\n",
       "</tr>\n",
       "<tr>\n",
       "  <th>occupation_ Exec-managerial</th>   <td>   -0.7609</td> <td>    0.085</td> <td>   -8.939</td> <td> 0.000</td> <td>   -0.928</td> <td>   -0.594</td>\n",
       "</tr>\n",
       "<tr>\n",
       "  <th>occupation_ Farming-fishing</th>   <td>    0.9681</td> <td>    0.155</td> <td>    6.234</td> <td> 0.000</td> <td>    0.664</td> <td>    1.272</td>\n",
       "</tr>\n",
       "<tr>\n",
       "  <th>occupation_ Handlers-cleaners</th> <td>    0.7093</td> <td>    0.158</td> <td>    4.476</td> <td> 0.000</td> <td>    0.399</td> <td>    1.020</td>\n",
       "</tr>\n",
       "<tr>\n",
       "  <th>occupation_ Machine-op-inspct</th> <td>    0.3001</td> <td>    0.114</td> <td>    2.636</td> <td> 0.008</td> <td>    0.077</td> <td>    0.523</td>\n",
       "</tr>\n",
       "<tr>\n",
       "  <th>occupation_ Other-service</th>     <td>    0.9223</td> <td>    0.132</td> <td>    6.992</td> <td> 0.000</td> <td>    0.664</td> <td>    1.181</td>\n",
       "</tr>\n",
       "<tr>\n",
       "  <th>occupation_ Priv-house-serv</th>   <td>    2.2452</td> <td>    1.086</td> <td>    2.068</td> <td> 0.039</td> <td>    0.117</td> <td>    4.373</td>\n",
       "</tr>\n",
       "<tr>\n",
       "  <th>occupation_ Prof-specialty</th>    <td>   -0.4799</td> <td>    0.090</td> <td>   -5.333</td> <td> 0.000</td> <td>   -0.656</td> <td>   -0.304</td>\n",
       "</tr>\n",
       "<tr>\n",
       "  <th>occupation_ Protective-serv</th>   <td>   -0.5111</td> <td>    0.141</td> <td>   -3.632</td> <td> 0.000</td> <td>   -0.787</td> <td>   -0.235</td>\n",
       "</tr>\n",
       "<tr>\n",
       "  <th>occupation_ Sales</th>             <td>   -0.1993</td> <td>    0.091</td> <td>   -2.189</td> <td> 0.029</td> <td>   -0.378</td> <td>   -0.021</td>\n",
       "</tr>\n",
       "<tr>\n",
       "  <th>occupation_ Tech-support</th>      <td>   -0.5768</td> <td>    0.124</td> <td>   -4.638</td> <td> 0.000</td> <td>   -0.821</td> <td>   -0.333</td>\n",
       "</tr>\n",
       "<tr>\n",
       "  <th>occupation_ Transport-moving</th>  <td>    0.1702</td> <td>    0.112</td> <td>    1.524</td> <td> 0.128</td> <td>   -0.049</td> <td>    0.389</td>\n",
       "</tr>\n",
       "<tr>\n",
       "  <th>race_ Asian-Pac-Islander</th>      <td>   -0.4247</td> <td>    0.282</td> <td>   -1.506</td> <td> 0.132</td> <td>   -0.977</td> <td>    0.128</td>\n",
       "</tr>\n",
       "<tr>\n",
       "  <th>race_ Black</th>                   <td>   -0.3083</td> <td>    0.248</td> <td>   -1.244</td> <td> 0.214</td> <td>   -0.794</td> <td>    0.177</td>\n",
       "</tr>\n",
       "<tr>\n",
       "  <th>race_ Other</th>                   <td>   -0.0396</td> <td>    0.371</td> <td>   -0.107</td> <td> 0.915</td> <td>   -0.766</td> <td>    0.687</td>\n",
       "</tr>\n",
       "<tr>\n",
       "  <th>race_ White</th>                   <td>   -0.4326</td> <td>    0.235</td> <td>   -1.839</td> <td> 0.066</td> <td>   -0.894</td> <td>    0.029</td>\n",
       "</tr>\n",
       "<tr>\n",
       "  <th>sex_ Male</th>                     <td>   -0.0502</td> <td>    0.058</td> <td>   -0.871</td> <td> 0.384</td> <td>   -0.163</td> <td>    0.063</td>\n",
       "</tr>\n",
       "<tr>\n",
       "  <th>native_country_europe</th>         <td>   -0.3432</td> <td>    0.236</td> <td>   -1.454</td> <td> 0.146</td> <td>   -0.806</td> <td>    0.119</td>\n",
       "</tr>\n",
       "<tr>\n",
       "  <th>native_country_north_america</th>  <td>   -0.2124</td> <td>    0.188</td> <td>   -1.127</td> <td> 0.260</td> <td>   -0.582</td> <td>    0.157</td>\n",
       "</tr>\n",
       "<tr>\n",
       "  <th>native_country_other</th>          <td>    0.1241</td> <td>    0.212</td> <td>    0.585</td> <td> 0.559</td> <td>   -0.292</td> <td>    0.540</td>\n",
       "</tr>\n",
       "<tr>\n",
       "  <th>native_country_south_america</th>  <td>    1.8671</td> <td>    0.690</td> <td>    2.706</td> <td> 0.007</td> <td>    0.515</td> <td>    3.219</td>\n",
       "</tr>\n",
       "</table>"
      ],
      "text/plain": [
       "<class 'statsmodels.iolib.summary.Summary'>\n",
       "\"\"\"\n",
       "                           Logit Regression Results                           \n",
       "==============================================================================\n",
       "Dep. Variable:                 salary   No. Observations:                22792\n",
       "Model:                          Logit   Df Residuals:                    22741\n",
       "Method:                           MLE   Df Model:                           50\n",
       "Date:                Sun, 16 May 2021   Pseudo R-squ.:                  0.3631\n",
       "Time:                        11:33:07   Log-Likelihood:                -8109.9\n",
       "converged:                      False   LL-Null:                       -12733.\n",
       "Covariance Type:            nonrobust   LLR p-value:                     0.000\n",
       "=================================================================================================\n",
       "                                    coef    std err          z      P>|z|      [0.025      0.975]\n",
       "-------------------------------------------------------------------------------------------------\n",
       "const                             8.6446      0.404     21.422      0.000       7.854       9.436\n",
       "age                              -0.0296      0.002    -16.233      0.000      -0.033      -0.026\n",
       "fnlwgt                        -8.962e-07   2.11e-07     -4.244      0.000   -1.31e-06   -4.82e-07\n",
       "working_hours_per_week           -0.0676      0.003    -19.417      0.000      -0.074      -0.061\n",
       "workclass_ Local-gov              0.7003      0.127      5.529      0.000       0.452       0.949\n",
       "workclass_ Never-worked          15.2366   3027.024      0.005      0.996   -5917.621    5948.094\n",
       "workclass_ Private                0.4649      0.105      4.424      0.000       0.259       0.671\n",
       "workclass_ Self-emp-inc           0.1071      0.138      0.776      0.438      -0.163       0.377\n",
       "workclass_ Self-emp-not-inc       0.9197      0.123      7.485      0.000       0.679       1.160\n",
       "workclass_ State-gov              0.6757      0.140      4.843      0.000       0.402       0.949\n",
       "workclass_ Without-pay           19.9396   1.01e+04      0.002      0.998   -1.98e+04    1.99e+04\n",
       "workclass_Unknown                 1.1909      0.158      7.556      0.000       0.882       1.500\n",
       "education_ 11th                  -0.0390      0.243     -0.161      0.872      -0.515       0.437\n",
       "education_ 12th                  -0.5146      0.292     -1.762      0.078      -1.087       0.058\n",
       "education_ 1st-4th                0.7946      0.556      1.428      0.153      -0.296       1.885\n",
       "education_ 5th-6th                0.4751      0.353      1.345      0.179      -0.217       1.167\n",
       "education_ 7th-8th                0.5579      0.268      2.085      0.037       0.034       1.082\n",
       "education_ 9th                    0.4786      0.306      1.566      0.117      -0.120       1.078\n",
       "education_ Assoc-acdm            -1.3774      0.201     -6.856      0.000      -1.771      -0.984\n",
       "education_ Assoc-voc             -1.4178      0.192     -7.388      0.000      -1.794      -1.042\n",
       "education_ Bachelors             -2.0289      0.179    -11.325      0.000      -2.380      -1.678\n",
       "education_ Doctorate             -2.9347      0.240    -12.243      0.000      -3.405      -2.465\n",
       "education_ HS-grad               -0.8710      0.175     -4.988      0.000      -1.213      -0.529\n",
       "education_ Masters               -2.4216      0.191    -12.707      0.000      -2.795      -2.048\n",
       "education_ Preschool             14.7471   1084.422      0.014      0.989   -2110.680    2140.174\n",
       "education_ Prof-school           -3.0793      0.224    -13.758      0.000      -3.518      -2.641\n",
       "education_ Some-college          -1.1969      0.177     -6.755      0.000      -1.544      -0.850\n",
       "marital_status_married           -2.5557      0.069    -37.298      0.000      -2.690      -2.421\n",
       "marital_status_not_married       -0.4237      0.083     -5.104      0.000      -0.586      -0.261\n",
       "occupation_ Armed-Forces          0.9057      1.334      0.679      0.497      -1.708       3.520\n",
       "occupation_ Craft-repair         -0.0982      0.089     -1.109      0.267      -0.272       0.075\n",
       "occupation_ Exec-managerial      -0.7609      0.085     -8.939      0.000      -0.928      -0.594\n",
       "occupation_ Farming-fishing       0.9681      0.155      6.234      0.000       0.664       1.272\n",
       "occupation_ Handlers-cleaners     0.7093      0.158      4.476      0.000       0.399       1.020\n",
       "occupation_ Machine-op-inspct     0.3001      0.114      2.636      0.008       0.077       0.523\n",
       "occupation_ Other-service         0.9223      0.132      6.992      0.000       0.664       1.181\n",
       "occupation_ Priv-house-serv       2.2452      1.086      2.068      0.039       0.117       4.373\n",
       "occupation_ Prof-specialty       -0.4799      0.090     -5.333      0.000      -0.656      -0.304\n",
       "occupation_ Protective-serv      -0.5111      0.141     -3.632      0.000      -0.787      -0.235\n",
       "occupation_ Sales                -0.1993      0.091     -2.189      0.029      -0.378      -0.021\n",
       "occupation_ Tech-support         -0.5768      0.124     -4.638      0.000      -0.821      -0.333\n",
       "occupation_ Transport-moving      0.1702      0.112      1.524      0.128      -0.049       0.389\n",
       "race_ Asian-Pac-Islander         -0.4247      0.282     -1.506      0.132      -0.977       0.128\n",
       "race_ Black                      -0.3083      0.248     -1.244      0.214      -0.794       0.177\n",
       "race_ Other                      -0.0396      0.371     -0.107      0.915      -0.766       0.687\n",
       "race_ White                      -0.4326      0.235     -1.839      0.066      -0.894       0.029\n",
       "sex_ Male                        -0.0502      0.058     -0.871      0.384      -0.163       0.063\n",
       "native_country_europe            -0.3432      0.236     -1.454      0.146      -0.806       0.119\n",
       "native_country_north_america     -0.2124      0.188     -1.127      0.260      -0.582       0.157\n",
       "native_country_other              0.1241      0.212      0.585      0.559      -0.292       0.540\n",
       "native_country_south_america      1.8671      0.690      2.706      0.007       0.515       3.219\n",
       "=================================================================================================\n",
       "\"\"\""
      ]
     },
     "execution_count": 80,
     "metadata": {},
     "output_type": "execute_result"
    }
   ],
   "source": [
    "lg2.summary()"
   ]
  },
  {
   "cell_type": "markdown",
   "id": "024c46cc",
   "metadata": {},
   "source": [
    "* In the case of 'race' all the attributes have a high p-value which means it is not significant therefore we can drop the complete variable.\n",
    "\n",
    "* For other attributes present in the data, the p-values are high only for few dummy variables and since only one (or some) of the categorical levels have a high p-value and not all the categorical levels. Hence, the variable can be considered significant overall."
   ]
  },
  {
   "cell_type": "code",
   "execution_count": 81,
   "id": "3050048d",
   "metadata": {},
   "outputs": [
    {
     "name": "stdout",
     "output_type": "stream",
     "text": [
      "Warning: Maximum number of iterations has been exceeded.\n",
      "         Current function value: 0.355988\n",
      "         Iterations: 35\n",
      "                           Logit Regression Results                           \n",
      "==============================================================================\n",
      "Dep. Variable:                 salary   No. Observations:                22792\n",
      "Model:                          Logit   Df Residuals:                    22745\n",
      "Method:                           MLE   Df Model:                           46\n",
      "Date:                Sun, 16 May 2021   Pseudo R-squ.:                  0.3628\n",
      "Time:                        11:33:07   Log-Likelihood:                -8113.7\n",
      "converged:                      False   LL-Null:                       -12733.\n",
      "Covariance Type:            nonrobust   LLR p-value:                     0.000\n",
      "=================================================================================================\n",
      "                                    coef    std err          z      P>|z|      [0.025      0.975]\n",
      "-------------------------------------------------------------------------------------------------\n",
      "const                             8.2711      0.303     27.327      0.000       7.678       8.864\n",
      "age                              -0.0297      0.002    -16.335      0.000      -0.033      -0.026\n",
      "fnlwgt                        -8.797e-07   2.09e-07     -4.200      0.000   -1.29e-06   -4.69e-07\n",
      "working_hours_per_week           -0.0679      0.003    -19.515      0.000      -0.075      -0.061\n",
      "workclass_ Local-gov              0.6915      0.126      5.470      0.000       0.444       0.939\n",
      "workclass_ Never-worked          14.7856   2318.091      0.006      0.995   -4528.589    4558.160\n",
      "workclass_ Private                0.4490      0.105      4.291      0.000       0.244       0.654\n",
      "workclass_ Self-emp-inc           0.0873      0.138      0.634      0.526      -0.182       0.357\n",
      "workclass_ Self-emp-not-inc       0.9032      0.122      7.375      0.000       0.663       1.143\n",
      "workclass_ State-gov              0.6635      0.139      4.763      0.000       0.391       0.937\n",
      "workclass_ Without-pay           17.5751   3144.055      0.006      0.996   -6144.660    6179.810\n",
      "workclass_Unknown                 1.1790      0.157      7.499      0.000       0.871       1.487\n",
      "education_ 11th                  -0.0461      0.243     -0.190      0.850      -0.522       0.430\n",
      "education_ 12th                  -0.5041      0.292     -1.728      0.084      -1.076       0.068\n",
      "education_ 1st-4th                0.8112      0.556      1.458      0.145      -0.279       1.902\n",
      "education_ 5th-6th                0.4764      0.353      1.349      0.177      -0.216       1.168\n",
      "education_ 7th-8th                0.5607      0.267      2.097      0.036       0.037       1.085\n",
      "education_ 9th                    0.4786      0.305      1.566      0.117      -0.120       1.077\n",
      "education_ Assoc-acdm            -1.3819      0.201     -6.884      0.000      -1.775      -0.988\n",
      "education_ Assoc-voc             -1.4236      0.192     -7.424      0.000      -1.799      -1.048\n",
      "education_ Bachelors             -2.0372      0.179    -11.382      0.000      -2.388      -1.686\n",
      "education_ Doctorate             -2.9427      0.239    -12.288      0.000      -3.412      -2.473\n",
      "education_ HS-grad               -0.8749      0.174     -5.015      0.000      -1.217      -0.533\n",
      "education_ Masters               -2.4326      0.190    -12.775      0.000      -2.806      -2.059\n",
      "education_ Preschool             16.0380   2007.441      0.008      0.994   -3918.474    3950.550\n",
      "education_ Prof-school           -3.0871      0.224    -13.800      0.000      -3.526      -2.649\n",
      "education_ Some-college          -1.1994      0.177     -6.774      0.000      -1.546      -0.852\n",
      "marital_status_married           -2.5582      0.068    -37.374      0.000      -2.692      -2.424\n",
      "marital_status_not_married       -0.4206      0.083     -5.071      0.000      -0.583      -0.258\n",
      "occupation_ Armed-Forces          0.9899      1.313      0.754      0.451      -1.584       3.563\n",
      "occupation_ Craft-repair         -0.1004      0.089     -1.135      0.256      -0.274       0.073\n",
      "occupation_ Exec-managerial      -0.7616      0.085     -8.952      0.000      -0.928      -0.595\n",
      "occupation_ Farming-fishing       0.9670      0.155      6.231      0.000       0.663       1.271\n",
      "occupation_ Handlers-cleaners     0.7155      0.158      4.518      0.000       0.405       1.026\n",
      "occupation_ Machine-op-inspct     0.3057      0.114      2.687      0.007       0.083       0.529\n",
      "occupation_ Other-service         0.9323      0.132      7.075      0.000       0.674       1.191\n",
      "occupation_ Priv-house-serv       2.2477      1.086      2.070      0.038       0.120       4.376\n",
      "occupation_ Prof-specialty       -0.4806      0.090     -5.348      0.000      -0.657      -0.304\n",
      "occupation_ Protective-serv      -0.5057      0.141     -3.597      0.000      -0.781      -0.230\n",
      "occupation_ Sales                -0.2008      0.091     -2.206      0.027      -0.379      -0.022\n",
      "occupation_ Tech-support         -0.5819      0.124     -4.681      0.000      -0.825      -0.338\n",
      "occupation_ Transport-moving      0.1794      0.112      1.608      0.108      -0.039       0.398\n",
      "sex_ Male                        -0.0561      0.058     -0.974      0.330      -0.169       0.057\n",
      "native_country_europe            -0.3574      0.196     -1.819      0.069      -0.742       0.028\n",
      "native_country_north_america     -0.2169      0.135     -1.607      0.108      -0.481       0.048\n",
      "native_country_other              0.1357      0.193      0.704      0.481      -0.242       0.514\n",
      "native_country_south_america      1.8882      0.674      2.803      0.005       0.568       3.209\n",
      "=================================================================================================\n"
     ]
    }
   ],
   "source": [
    "X_train4 = X_train1.drop(['race_ Asian-Pac-Islander', 'race_ Black', 'race_ Other', 'race_ White'], axis = 1)\n",
    "X_test4 = X_test1.drop(['race_ Asian-Pac-Islander', 'race_ Black', 'race_ Other', 'race_ White'], axis = 1)\n",
    "\n",
    "logit4 = sm.Logit(y_train, X_train4.astype(float))\n",
    "lg4 = logit4.fit(warn_convergence =False)\n",
    "\n",
    "print(lg4.summary())"
   ]
  },
  {
   "cell_type": "markdown",
   "id": "a18c5c36",
   "metadata": {},
   "source": [
    "* Now all the columns left are significant predictors, let's check the model performance and make interpretations."
   ]
  },
  {
   "cell_type": "markdown",
   "id": "94022045",
   "metadata": {},
   "source": [
    "#### Metrics of final model 'lg4'"
   ]
  },
  {
   "cell_type": "code",
   "execution_count": 82,
   "id": "30e541e4",
   "metadata": {},
   "outputs": [
    {
     "name": "stdout",
     "output_type": "stream",
     "text": [
      "Accuracy on training set :  0.8331432081432082\n",
      "Accuracy on test set :  0.8377520728836114\n",
      "Recall on training set :  0.9223063482818871\n",
      "Recall on test set :  0.9169536423841059\n",
      "Precision on training set :  0.865118819994537\n",
      "Precision on test set :  0.878441822103794\n",
      "F1 on training set :  0.892797744890768\n",
      "F1 on test set :  0.897284686669691\n"
     ]
    }
   ],
   "source": [
    "scores_LR = get_metrics_score1(lg4,X_train4,X_test4,y_train,y_test)"
   ]
  },
  {
   "cell_type": "markdown",
   "id": "192886ae",
   "metadata": {},
   "source": [
    "#### ROC-AUC"
   ]
  },
  {
   "cell_type": "markdown",
   "id": "31d2a62e",
   "metadata": {},
   "source": [
    "* ROC-AUC on training set"
   ]
  },
  {
   "cell_type": "code",
   "execution_count": 83,
   "id": "ac7f5c66",
   "metadata": {},
   "outputs": [
    {
     "data": {
      "image/png": "[encoded data removed]",
      "text/plain": [
       "<Figure size 504x360 with 1 Axes>"
      ]
     },
     "metadata": {},
     "output_type": "display_data"
    }
   ],
   "source": [
    "logit_roc_auc_train = roc_auc_score(y_train, lg4.predict(X_train4))\n",
    "fpr, tpr, thresholds = roc_curve(y_train, lg4.predict(X_train4))\n",
    "plt.figure(figsize=(7,5))\n",
    "plt.plot(fpr, tpr, label='Logistic Regression (area = %0.2f)' % logit_roc_auc_train)\n",
    "plt.plot([0, 1], [0, 1],'r--')\n",
    "plt.xlim([0.0, 1.0])\n",
    "plt.ylim([0.0, 1.05])\n",
    "plt.xlabel('False Positive Rate')\n",
    "plt.ylabel('True Positive Rate')\n",
    "plt.title('Receiver operating characteristic')\n",
    "plt.legend(loc=\"lower right\")\n",
    "plt.show()"
   ]
  },
  {
   "cell_type": "markdown",
   "id": "8cfc2065",
   "metadata": {},
   "source": [
    "* ROC-AUC on test set"
   ]
  },
  {
   "cell_type": "code",
   "execution_count": 84,
   "id": "9259daf5",
   "metadata": {},
   "outputs": [
    {
     "data": {
      "image/png": "[encoded data removed]",
      "text/plain": [
       "<Figure size 504x360 with 1 Axes>"
      ]
     },
     "metadata": {},
     "output_type": "display_data"
    }
   ],
   "source": [
    "logit_roc_auc_test = roc_auc_score(y_test, lg4.predict(X_test4))\n",
    "fpr, tpr, thresholds = roc_curve(y_test, lg4.predict(X_test4))\n",
    "plt.figure(figsize=(7,5))\n",
    "plt.plot(fpr, tpr, label='Logistic Regression (area = %0.2f)' % logit_roc_auc_test)\n",
    "plt.plot([0, 1], [0, 1],'r--')\n",
    "plt.xlim([0.0, 1.0])\n",
    "plt.ylim([0.0, 1.05])\n",
    "plt.xlabel('False Positive Rate')\n",
    "plt.ylabel('True Positive Rate')\n",
    "plt.title('Receiver operating characteristic')\n",
    "plt.legend(loc=\"lower right\")\n",
    "plt.show()"
   ]
  },
  {
   "cell_type": "markdown",
   "id": "37473b9a",
   "metadata": {},
   "source": [
    "* Logistic Regression model is giving a generalized performance on training and test set."
   ]
  },
  {
   "cell_type": "markdown",
   "id": "193fbfb5",
   "metadata": {},
   "source": [
    "### Coefficient interpretations\n",
    "\n",
    "* Coefficient of some levels of education, workclass, marital_status, and native country are positive an increase in these will lead to increase in chances of a person having <=50K salary. \n",
    "* Coefficient of age,fnlwgt,working_hours_per_week, sex_ Male, some levels of education, workclass, marital_status, and native country are negative increase in these will lead to decrease in chances of a person having <=50K salary."
   ]
  },
  {
   "cell_type": "markdown",
   "id": "4fc871db",
   "metadata": {},
   "source": [
    "###  Converting coefficients to odds"
   ]
  },
  {
   "cell_type": "markdown",
   "id": "325526ac",
   "metadata": {},
   "source": [
    "* The coefficients of the logistic regression model are in terms of log(odd), to find the odds we have to take the exponential of the coefficients. \n",
    "* Therefore, **odds =  exp(b)**\n",
    "* The percentage change in odds is given as **odds = (exp(b) - 1) * 100**"
   ]
  },
  {
   "cell_type": "markdown",
   "id": "685b80a2",
   "metadata": {},
   "source": [
    "* Odds from coefficients"
   ]
  },
  {
   "cell_type": "code",
   "execution_count": 85,
   "id": "b99f29db",
   "metadata": {
    "scrolled": false
   },
   "outputs": [
    {
     "data": {
      "text/html": [
       "<div>\n",
       "<style scoped>\n",
       "    .dataframe tbody tr th:only-of-type {\n",
       "        vertical-align: middle;\n",
       "    }\n",
       "\n",
       "    .dataframe tbody tr th {\n",
       "        vertical-align: top;\n",
       "    }\n",
       "\n",
       "    .dataframe thead th {\n",
       "        text-align: right;\n",
       "    }\n",
       "</style>\n",
       "<table border=\"1\" class=\"dataframe\">\n",
       "  <thead>\n",
       "    <tr style=\"text-align: right;\">\n",
       "      <th></th>\n",
       "      <th>const</th>\n",
       "      <th>age</th>\n",
       "      <th>fnlwgt</th>\n",
       "      <th>working_hours_per_week</th>\n",
       "      <th>workclass_ Local-gov</th>\n",
       "      <th>workclass_ Never-worked</th>\n",
       "      <th>workclass_ Private</th>\n",
       "      <th>workclass_ Self-emp-inc</th>\n",
       "      <th>workclass_ Self-emp-not-inc</th>\n",
       "      <th>workclass_ State-gov</th>\n",
       "      <th>workclass_ Without-pay</th>\n",
       "      <th>workclass_Unknown</th>\n",
       "      <th>education_ 11th</th>\n",
       "      <th>education_ 12th</th>\n",
       "      <th>education_ 1st-4th</th>\n",
       "      <th>education_ 5th-6th</th>\n",
       "      <th>education_ 7th-8th</th>\n",
       "      <th>education_ 9th</th>\n",
       "      <th>education_ Assoc-acdm</th>\n",
       "      <th>education_ Assoc-voc</th>\n",
       "      <th>education_ Bachelors</th>\n",
       "      <th>education_ Doctorate</th>\n",
       "      <th>education_ HS-grad</th>\n",
       "      <th>education_ Masters</th>\n",
       "      <th>education_ Preschool</th>\n",
       "      <th>education_ Prof-school</th>\n",
       "      <th>education_ Some-college</th>\n",
       "      <th>marital_status_married</th>\n",
       "      <th>marital_status_not_married</th>\n",
       "      <th>occupation_ Armed-Forces</th>\n",
       "      <th>occupation_ Craft-repair</th>\n",
       "      <th>occupation_ Exec-managerial</th>\n",
       "      <th>occupation_ Farming-fishing</th>\n",
       "      <th>occupation_ Handlers-cleaners</th>\n",
       "      <th>occupation_ Machine-op-inspct</th>\n",
       "      <th>occupation_ Other-service</th>\n",
       "      <th>occupation_ Priv-house-serv</th>\n",
       "      <th>occupation_ Prof-specialty</th>\n",
       "      <th>occupation_ Protective-serv</th>\n",
       "      <th>occupation_ Sales</th>\n",
       "      <th>occupation_ Tech-support</th>\n",
       "      <th>occupation_ Transport-moving</th>\n",
       "      <th>sex_ Male</th>\n",
       "      <th>native_country_europe</th>\n",
       "      <th>native_country_north_america</th>\n",
       "      <th>native_country_other</th>\n",
       "      <th>native_country_south_america</th>\n",
       "    </tr>\n",
       "  </thead>\n",
       "  <tbody>\n",
       "    <tr>\n",
       "      <th>odds</th>\n",
       "      <td>3909.392772</td>\n",
       "      <td>0.970697</td>\n",
       "      <td>0.999999</td>\n",
       "      <td>0.93435</td>\n",
       "      <td>1.996722</td>\n",
       "      <td>2.638114e+06</td>\n",
       "      <td>1.566772</td>\n",
       "      <td>1.091172</td>\n",
       "      <td>2.467504</td>\n",
       "      <td>1.941669</td>\n",
       "      <td>4.293271e+07</td>\n",
       "      <td>3.251208</td>\n",
       "      <td>0.954976</td>\n",
       "      <td>0.604038</td>\n",
       "      <td>2.250656</td>\n",
       "      <td>1.610284</td>\n",
       "      <td>1.75197</td>\n",
       "      <td>1.613733</td>\n",
       "      <td>0.251098</td>\n",
       "      <td>0.240849</td>\n",
       "      <td>0.130392</td>\n",
       "      <td>0.052725</td>\n",
       "      <td>0.416889</td>\n",
       "      <td>0.087804</td>\n",
       "      <td>9.229939e+06</td>\n",
       "      <td>0.045636</td>\n",
       "      <td>0.301374</td>\n",
       "      <td>0.077445</td>\n",
       "      <td>0.656634</td>\n",
       "      <td>2.690882</td>\n",
       "      <td>0.904445</td>\n",
       "      <td>0.466929</td>\n",
       "      <td>2.62995</td>\n",
       "      <td>2.045309</td>\n",
       "      <td>1.357575</td>\n",
       "      <td>2.54034</td>\n",
       "      <td>9.465809</td>\n",
       "      <td>0.618399</td>\n",
       "      <td>0.603091</td>\n",
       "      <td>0.8181</td>\n",
       "      <td>0.558863</td>\n",
       "      <td>1.196512</td>\n",
       "      <td>0.945481</td>\n",
       "      <td>0.699514</td>\n",
       "      <td>0.805048</td>\n",
       "      <td>1.145338</td>\n",
       "      <td>6.60766</td>\n",
       "    </tr>\n",
       "  </tbody>\n",
       "</table>\n",
       "</div>"
      ],
      "text/plain": [
       "            const       age    fnlwgt  working_hours_per_week  \\\n",
       "odds  3909.392772  0.970697  0.999999                 0.93435   \n",
       "\n",
       "      workclass_ Local-gov  workclass_ Never-worked  workclass_ Private  \\\n",
       "odds              1.996722             2.638114e+06            1.566772   \n",
       "\n",
       "      workclass_ Self-emp-inc  workclass_ Self-emp-not-inc  \\\n",
       "odds                 1.091172                     2.467504   \n",
       "\n",
       "      workclass_ State-gov  workclass_ Without-pay  workclass_Unknown  \\\n",
       "odds              1.941669            4.293271e+07           3.251208   \n",
       "\n",
       "      education_ 11th  education_ 12th  education_ 1st-4th  \\\n",
       "odds         0.954976         0.604038            2.250656   \n",
       "\n",
       "      education_ 5th-6th  education_ 7th-8th  education_ 9th  \\\n",
       "odds            1.610284             1.75197        1.613733   \n",
       "\n",
       "      education_ Assoc-acdm  education_ Assoc-voc  education_ Bachelors  \\\n",
       "odds               0.251098              0.240849              0.130392   \n",
       "\n",
       "      education_ Doctorate  education_ HS-grad  education_ Masters  \\\n",
       "odds              0.052725            0.416889            0.087804   \n",
       "\n",
       "      education_ Preschool  education_ Prof-school  education_ Some-college  \\\n",
       "odds          9.229939e+06                0.045636                 0.301374   \n",
       "\n",
       "      marital_status_married  marital_status_not_married  \\\n",
       "odds                0.077445                    0.656634   \n",
       "\n",
       "      occupation_ Armed-Forces  occupation_ Craft-repair  \\\n",
       "odds                  2.690882                  0.904445   \n",
       "\n",
       "      occupation_ Exec-managerial  occupation_ Farming-fishing  \\\n",
       "odds                     0.466929                      2.62995   \n",
       "\n",
       "      occupation_ Handlers-cleaners  occupation_ Machine-op-inspct  \\\n",
       "odds                       2.045309                       1.357575   \n",
       "\n",
       "      occupation_ Other-service  occupation_ Priv-house-serv  \\\n",
       "odds                    2.54034                     9.465809   \n",
       "\n",
       "      occupation_ Prof-specialty  occupation_ Protective-serv  \\\n",
       "odds                    0.618399                     0.603091   \n",
       "\n",
       "      occupation_ Sales  occupation_ Tech-support  \\\n",
       "odds             0.8181                  0.558863   \n",
       "\n",
       "      occupation_ Transport-moving  sex_ Male  native_country_europe  \\\n",
       "odds                      1.196512   0.945481               0.699514   \n",
       "\n",
       "      native_country_north_america  native_country_other  \\\n",
       "odds                      0.805048              1.145338   \n",
       "\n",
       "      native_country_south_america  \n",
       "odds                       6.60766  "
      ]
     },
     "execution_count": 85,
     "metadata": {},
     "output_type": "execute_result"
    }
   ],
   "source": [
    "odds = np.exp(lg4.params) # converting coefficients to odds\n",
    "pd.set_option('display.max_columns',None)  # removing limit from number of columns to display\n",
    "pd.DataFrame(odds, X_train4.columns, columns=['odds']).T # adding the odds to a dataframe"
   ]
  },
  {
   "cell_type": "markdown",
   "id": "8ea64d61",
   "metadata": {},
   "source": [
    "* Percentage change in odds"
   ]
  },
  {
   "cell_type": "code",
   "execution_count": 86,
   "id": "863d1fc1",
   "metadata": {},
   "outputs": [
    {
     "data": {
      "text/html": [
       "<div>\n",
       "<style scoped>\n",
       "    .dataframe tbody tr th:only-of-type {\n",
       "        vertical-align: middle;\n",
       "    }\n",
       "\n",
       "    .dataframe tbody tr th {\n",
       "        vertical-align: top;\n",
       "    }\n",
       "\n",
       "    .dataframe thead th {\n",
       "        text-align: right;\n",
       "    }\n",
       "</style>\n",
       "<table border=\"1\" class=\"dataframe\">\n",
       "  <thead>\n",
       "    <tr style=\"text-align: right;\">\n",
       "      <th></th>\n",
       "      <th>const</th>\n",
       "      <th>age</th>\n",
       "      <th>fnlwgt</th>\n",
       "      <th>working_hours_per_week</th>\n",
       "      <th>workclass_ Local-gov</th>\n",
       "      <th>workclass_ Never-worked</th>\n",
       "      <th>workclass_ Private</th>\n",
       "      <th>workclass_ Self-emp-inc</th>\n",
       "      <th>workclass_ Self-emp-not-inc</th>\n",
       "      <th>workclass_ State-gov</th>\n",
       "      <th>workclass_ Without-pay</th>\n",
       "      <th>workclass_Unknown</th>\n",
       "      <th>education_ 11th</th>\n",
       "      <th>education_ 12th</th>\n",
       "      <th>education_ 1st-4th</th>\n",
       "      <th>education_ 5th-6th</th>\n",
       "      <th>education_ 7th-8th</th>\n",
       "      <th>education_ 9th</th>\n",
       "      <th>education_ Assoc-acdm</th>\n",
       "      <th>education_ Assoc-voc</th>\n",
       "      <th>education_ Bachelors</th>\n",
       "      <th>education_ Doctorate</th>\n",
       "      <th>education_ HS-grad</th>\n",
       "      <th>education_ Masters</th>\n",
       "      <th>education_ Preschool</th>\n",
       "      <th>education_ Prof-school</th>\n",
       "      <th>education_ Some-college</th>\n",
       "      <th>marital_status_married</th>\n",
       "      <th>marital_status_not_married</th>\n",
       "      <th>occupation_ Armed-Forces</th>\n",
       "      <th>occupation_ Craft-repair</th>\n",
       "      <th>occupation_ Exec-managerial</th>\n",
       "      <th>occupation_ Farming-fishing</th>\n",
       "      <th>occupation_ Handlers-cleaners</th>\n",
       "      <th>occupation_ Machine-op-inspct</th>\n",
       "      <th>occupation_ Other-service</th>\n",
       "      <th>occupation_ Priv-house-serv</th>\n",
       "      <th>occupation_ Prof-specialty</th>\n",
       "      <th>occupation_ Protective-serv</th>\n",
       "      <th>occupation_ Sales</th>\n",
       "      <th>occupation_ Tech-support</th>\n",
       "      <th>occupation_ Transport-moving</th>\n",
       "      <th>sex_ Male</th>\n",
       "      <th>native_country_europe</th>\n",
       "      <th>native_country_north_america</th>\n",
       "      <th>native_country_other</th>\n",
       "      <th>native_country_south_america</th>\n",
       "    </tr>\n",
       "  </thead>\n",
       "  <tbody>\n",
       "    <tr>\n",
       "      <th>change_odds%</th>\n",
       "      <td>390839.277231</td>\n",
       "      <td>-2.930344</td>\n",
       "      <td>-0.000088</td>\n",
       "      <td>-6.565016</td>\n",
       "      <td>99.672197</td>\n",
       "      <td>2.638113e+08</td>\n",
       "      <td>56.677174</td>\n",
       "      <td>9.11725</td>\n",
       "      <td>146.750438</td>\n",
       "      <td>94.166867</td>\n",
       "      <td>4.293271e+09</td>\n",
       "      <td>225.120789</td>\n",
       "      <td>-4.502425</td>\n",
       "      <td>-39.59623</td>\n",
       "      <td>125.065568</td>\n",
       "      <td>61.028427</td>\n",
       "      <td>75.197003</td>\n",
       "      <td>61.37333</td>\n",
       "      <td>-74.890249</td>\n",
       "      <td>-75.91506</td>\n",
       "      <td>-86.960825</td>\n",
       "      <td>-94.727494</td>\n",
       "      <td>-58.311073</td>\n",
       "      <td>-91.219584</td>\n",
       "      <td>9.229938e+08</td>\n",
       "      <td>-95.436437</td>\n",
       "      <td>-69.862558</td>\n",
       "      <td>-92.255501</td>\n",
       "      <td>-34.336574</td>\n",
       "      <td>169.088198</td>\n",
       "      <td>-9.555463</td>\n",
       "      <td>-53.307081</td>\n",
       "      <td>162.994999</td>\n",
       "      <td>104.530902</td>\n",
       "      <td>35.757468</td>\n",
       "      <td>154.034001</td>\n",
       "      <td>846.580921</td>\n",
       "      <td>-38.160061</td>\n",
       "      <td>-39.690927</td>\n",
       "      <td>-18.190045</td>\n",
       "      <td>-44.113716</td>\n",
       "      <td>19.651218</td>\n",
       "      <td>-5.451867</td>\n",
       "      <td>-30.048589</td>\n",
       "      <td>-19.495236</td>\n",
       "      <td>14.533811</td>\n",
       "      <td>560.766047</td>\n",
       "    </tr>\n",
       "  </tbody>\n",
       "</table>\n",
       "</div>"
      ],
      "text/plain": [
       "                      const       age    fnlwgt  working_hours_per_week  \\\n",
       "change_odds%  390839.277231 -2.930344 -0.000088               -6.565016   \n",
       "\n",
       "              workclass_ Local-gov  workclass_ Never-worked  \\\n",
       "change_odds%             99.672197             2.638113e+08   \n",
       "\n",
       "              workclass_ Private  workclass_ Self-emp-inc  \\\n",
       "change_odds%           56.677174                  9.11725   \n",
       "\n",
       "              workclass_ Self-emp-not-inc  workclass_ State-gov  \\\n",
       "change_odds%                   146.750438             94.166867   \n",
       "\n",
       "              workclass_ Without-pay  workclass_Unknown  education_ 11th  \\\n",
       "change_odds%            4.293271e+09         225.120789        -4.502425   \n",
       "\n",
       "              education_ 12th  education_ 1st-4th  education_ 5th-6th  \\\n",
       "change_odds%        -39.59623          125.065568           61.028427   \n",
       "\n",
       "              education_ 7th-8th  education_ 9th  education_ Assoc-acdm  \\\n",
       "change_odds%           75.197003        61.37333             -74.890249   \n",
       "\n",
       "              education_ Assoc-voc  education_ Bachelors  \\\n",
       "change_odds%             -75.91506            -86.960825   \n",
       "\n",
       "              education_ Doctorate  education_ HS-grad  education_ Masters  \\\n",
       "change_odds%            -94.727494          -58.311073          -91.219584   \n",
       "\n",
       "              education_ Preschool  education_ Prof-school  \\\n",
       "change_odds%          9.229938e+08              -95.436437   \n",
       "\n",
       "              education_ Some-college  marital_status_married  \\\n",
       "change_odds%               -69.862558              -92.255501   \n",
       "\n",
       "              marital_status_not_married  occupation_ Armed-Forces  \\\n",
       "change_odds%                  -34.336574                169.088198   \n",
       "\n",
       "              occupation_ Craft-repair  occupation_ Exec-managerial  \\\n",
       "change_odds%                 -9.555463                   -53.307081   \n",
       "\n",
       "              occupation_ Farming-fishing  occupation_ Handlers-cleaners  \\\n",
       "change_odds%                   162.994999                     104.530902   \n",
       "\n",
       "              occupation_ Machine-op-inspct  occupation_ Other-service  \\\n",
       "change_odds%                      35.757468                 154.034001   \n",
       "\n",
       "              occupation_ Priv-house-serv  occupation_ Prof-specialty  \\\n",
       "change_odds%                   846.580921                  -38.160061   \n",
       "\n",
       "              occupation_ Protective-serv  occupation_ Sales  \\\n",
       "change_odds%                   -39.690927         -18.190045   \n",
       "\n",
       "              occupation_ Tech-support  occupation_ Transport-moving  \\\n",
       "change_odds%                -44.113716                     19.651218   \n",
       "\n",
       "              sex_ Male  native_country_europe  native_country_north_america  \\\n",
       "change_odds%  -5.451867             -30.048589                    -19.495236   \n",
       "\n",
       "              native_country_other  native_country_south_america  \n",
       "change_odds%             14.533811                    560.766047  "
      ]
     },
     "execution_count": 86,
     "metadata": {},
     "output_type": "execute_result"
    }
   ],
   "source": [
    "perc_change_odds = (np.exp(lg4.params)-1)*100 # finding the percentage change\n",
    "pd.set_option('display.max_columns',None) # removing limit from number of columns to display\n",
    "pd.DataFrame(perc_change_odds, X_train4.columns, columns=['change_odds%']).T # adding the change_odds% to a dataframe"
   ]
  },
  {
   "cell_type": "markdown",
   "id": "a93ae0bd",
   "metadata": {},
   "source": [
    "### Coefficient interpretations\n",
    "\n",
    "* `age`: Holding all other features constant a 1 unit change in Age will decrease the odds of a person having salary <=50k by 0.97 times or a 2.93% decrease in odds of having salary <=50K.\n",
    "* `working_hours_per_week`: Holding all other features constant a 1 unit change in the working_hours_per_week will decrease the odds of a person having salary <=50k by 0.93 times or a decrease of 6.5% decrease in odds of having salary <=50K.\n",
    "* The odds of a male having salary <=50K is 0.94 times less than a female or a 5.45% fewer odds than female.\n",
    "* The odds of a person whose marital status is married having a salary <=50K is 0.077 less than the person who was never married or 92.2% fewer odds of having salary <=50K. Similarly, The odds of a person whose marital status is not_married having a salary <=50K is 0.65 times more than the person who was never married or 33.33% more odds of having a salary <=50K than the person who was never married. [keeping Never_married category as a reference].\n",
    "\n",
    "`Interpretation for other attributes can be done similarly.`"
   ]
  },
  {
   "cell_type": "markdown",
   "id": "95ceeb53",
   "metadata": {},
   "source": [
    "### Model Performance Improvement"
   ]
  },
  {
   "cell_type": "markdown",
   "id": "c3b3d3a2",
   "metadata": {},
   "source": [
    "* Let's see if the f1 score can be improved further, by changing the model threshold using AUC-ROC Curve."
   ]
  },
  {
   "cell_type": "markdown",
   "id": "cd68d93f",
   "metadata": {},
   "source": [
    "### Optimal threshold using AUC-ROC curve"
   ]
  },
  {
   "cell_type": "code",
   "execution_count": 87,
   "id": "e7d78aeb",
   "metadata": {},
   "outputs": [
    {
     "name": "stdout",
     "output_type": "stream",
     "text": [
      "0.7754000284898506\n"
     ]
    }
   ],
   "source": [
    "# Optimal threshold as per AUC-ROC curve\n",
    "# The optimal cut off would be where tpr is high and fpr is low\n",
    "fpr, tpr, thresholds = metrics.roc_curve(y_test, lg4.predict(X_test4))\n",
    "\n",
    "optimal_idx = np.argmax(tpr - fpr)\n",
    "optimal_threshold_auc_roc = thresholds[optimal_idx]\n",
    "print(optimal_threshold_auc_roc)"
   ]
  },
  {
   "cell_type": "code",
   "execution_count": 88,
   "id": "e952acb2",
   "metadata": {},
   "outputs": [
    {
     "name": "stdout",
     "output_type": "stream",
     "text": [
      "Accuracy on training set :  0.7805809055809055\n",
      "Accuracy on test set :  0.7784829562903061\n",
      "Recall on training set :  0.7564356435643564\n",
      "Recall on test set :  0.7540397350993377\n",
      "Precision on training set :  0.94068226262041\n",
      "Precision on test set :  0.9488333333333333\n",
      "F1 on training set :  0.8385576395390129\n",
      "F1 on test set :  0.8402952029520295\n",
      "ROC-AUC Score on training set :  0.8053789743969061\n",
      "ROC-AUC Score on test set :  0.8078445633585917\n"
     ]
    }
   ],
   "source": [
    "scores_LR = get_metrics_score1(lg4,X_train4,X_test4,y_train,y_test,threshold=optimal_threshold_auc_roc,roc=True)"
   ]
  },
  {
   "cell_type": "markdown",
   "id": "4624a0f0",
   "metadata": {},
   "source": [
    "* Precision of model has increased but the other metrics have reduced.\n",
    "* The model is still giving a generalized performance."
   ]
  },
  {
   "cell_type": "markdown",
   "id": "1b1ba580",
   "metadata": {},
   "source": [
    "#### Let's use Precision-Recall curve and see if we can find a better threshold"
   ]
  },
  {
   "cell_type": "code",
   "execution_count": 89,
   "id": "dedb6509",
   "metadata": {},
   "outputs": [
    {
     "data": {
      "image/png": "[encoded data removed]",
      "text/plain": [
       "<Figure size 720x504 with 1 Axes>"
      ]
     },
     "metadata": {},
     "output_type": "display_data"
    }
   ],
   "source": [
    "y_scores=lg4.predict(X_train4)\n",
    "prec, rec, tre = precision_recall_curve(y_train, y_scores,)\n",
    "\n",
    "def plot_prec_recall_vs_tresh(precisions, recalls, thresholds):\n",
    "    plt.plot(thresholds, precisions[:-1], 'b--', label='precision')\n",
    "    plt.plot(thresholds, recalls[:-1], 'g--', label = 'recall')\n",
    "    plt.xlabel('Threshold')\n",
    "    plt.legend(loc='upper left')\n",
    "    plt.ylim([0,1])\n",
    "plt.figure(figsize=(10,7))\n",
    "plot_prec_recall_vs_tresh(prec, rec, tre)\n",
    "plt.show()"
   ]
  },
  {
   "cell_type": "markdown",
   "id": "93c64093",
   "metadata": {},
   "source": [
    "* At the threshold of 0.58, we get balanced recall and precision."
   ]
  },
  {
   "cell_type": "code",
   "execution_count": 90,
   "id": "89e7b2c7",
   "metadata": {},
   "outputs": [
    {
     "name": "stdout",
     "output_type": "stream",
     "text": [
      "Accuracy on training set :  0.832046332046332\n",
      "Accuracy on test set :  0.8282321629644794\n",
      "Recall on training set :  0.8902737332556785\n",
      "Recall on test set :  0.8793377483443708\n",
      "Precision on training set :  0.8871735345327917\n",
      "Precision on test set :  0.8964353227113151\n",
      "F1 on training set :  0.8887209302325582\n",
      "F1 on test set :  0.8878042257288046\n",
      "ROC-AUC Score on training set :  0.7722446574496108\n",
      "ROC-AUC Score on test set :  0.7668432770563676\n"
     ]
    }
   ],
   "source": [
    "optimal_threshold_curve = 0.58\n",
    "\n",
    "scores_LR = get_metrics_score1(lg4,X_train4,X_test4,y_train,y_test,threshold=optimal_threshold_curve,roc=True)"
   ]
  },
  {
   "cell_type": "markdown",
   "id": "45b99d12",
   "metadata": {},
   "source": [
    "* There's not much change in the model performance as the default threshold is 0.5 and we selected 0.58 as the optimal threshold."
   ]
  },
  {
   "cell_type": "markdown",
   "id": "2f45d3f9",
   "metadata": {},
   "source": [
    "### Model Performance Summary"
   ]
  },
  {
   "cell_type": "code",
   "execution_count": 91,
   "id": "39255258",
   "metadata": {},
   "outputs": [],
   "source": [
    "# defining list of model\n",
    "models = [lg4]\n",
    "\n",
    "# defining empty lists to add train and test results\n",
    "acc_train = []\n",
    "acc_test = []\n",
    "recall_train = []\n",
    "recall_test = []\n",
    "precision_train = []\n",
    "precision_test = []\n",
    "f1_train = []\n",
    "f1_test = []\n",
    "\n",
    "# looping through the models list to get the metrics score - Accuracy, Recall, Precision, and F1 score\n",
    "for model in models:\n",
    "    \n",
    "    j = get_metrics_score1(model,X_train4,X_test4,y_train,y_test,flag=False)\n",
    "    acc_train.append(j[0])\n",
    "    acc_test.append(j[1])\n",
    "    recall_train.append(j[2])\n",
    "    recall_test.append(j[3])\n",
    "    precision_train.append(j[4])\n",
    "    precision_test.append(j[5])\n",
    "    f1_train.append(j[6])\n",
    "    f1_test.append(j[7])"
   ]
  },
  {
   "cell_type": "code",
   "execution_count": 92,
   "id": "d7502777",
   "metadata": {},
   "outputs": [],
   "source": [
    "# defining list of model\n",
    "models = [lg4]\n",
    "\n",
    "# looping through the models list to get the metrics score - Accuracy, Recall, Precision, and F1 score\n",
    "for model in models:\n",
    "    \n",
    "    j = get_metrics_score1(model,X_train4,X_test4,y_train,y_test,threshold=optimal_threshold_auc_roc,flag=False)\n",
    "    acc_train.append(j[0])\n",
    "    acc_test.append(j[1])\n",
    "    recall_train.append(j[2])\n",
    "    recall_test.append(j[3])\n",
    "    precision_train.append(j[4])\n",
    "    precision_test.append(j[5])\n",
    "    f1_train.append(j[6])\n",
    "    f1_test.append(j[7])"
   ]
  },
  {
   "cell_type": "code",
   "execution_count": 93,
   "id": "c11d7492",
   "metadata": {},
   "outputs": [],
   "source": [
    "# defining list of model\n",
    "models = [lg4]\n",
    "\n",
    "# looping through the models list to get the metrics score - Accuracy, Recall, Precision, and F1 score\n",
    "for model in models:\n",
    "    \n",
    "    j = get_metrics_score1(model,X_train4,X_test4,y_train,y_test,threshold=optimal_threshold_curve,flag=False)\n",
    "    acc_train.append(j[0])\n",
    "    acc_test.append(j[1])\n",
    "    recall_train.append(j[2])\n",
    "    recall_test.append(j[3])\n",
    "    precision_train.append(j[4])\n",
    "    precision_test.append(j[5])\n",
    "    f1_train.append(j[6])\n",
    "    f1_test.append(j[7])"
   ]
  },
  {
   "cell_type": "code",
   "execution_count": 94,
   "id": "52f8b693",
   "metadata": {
    "colab": {
     "base_uri": "https://localhost:8080/",
     "height": 142
    },
    "id": "DIwgJKFN9WNT",
    "outputId": "56a1e921-ff1f-433b-8415-ceabcb5edea1"
   },
   "outputs": [
    {
     "data": {
      "text/html": [
       "<div>\n",
       "<style scoped>\n",
       "    .dataframe tbody tr th:only-of-type {\n",
       "        vertical-align: middle;\n",
       "    }\n",
       "\n",
       "    .dataframe tbody tr th {\n",
       "        vertical-align: top;\n",
       "    }\n",
       "\n",
       "    .dataframe thead th {\n",
       "        text-align: right;\n",
       "    }\n",
       "</style>\n",
       "<table border=\"1\" class=\"dataframe\">\n",
       "  <thead>\n",
       "    <tr style=\"text-align: right;\">\n",
       "      <th></th>\n",
       "      <th>Model</th>\n",
       "      <th>Train_Accuracy</th>\n",
       "      <th>Test_Accuracy</th>\n",
       "      <th>Train Recall</th>\n",
       "      <th>Test Recall</th>\n",
       "      <th>Train Precision</th>\n",
       "      <th>Test Precision</th>\n",
       "      <th>Train F1</th>\n",
       "      <th>Test F1</th>\n",
       "    </tr>\n",
       "  </thead>\n",
       "  <tbody>\n",
       "    <tr>\n",
       "      <th>0</th>\n",
       "      <td>Logistic Regression Model - Statsmodels</td>\n",
       "      <td>0.833143</td>\n",
       "      <td>0.837752</td>\n",
       "      <td>0.922306</td>\n",
       "      <td>0.916954</td>\n",
       "      <td>0.865119</td>\n",
       "      <td>0.878442</td>\n",
       "      <td>0.892798</td>\n",
       "      <td>0.897285</td>\n",
       "    </tr>\n",
       "    <tr>\n",
       "      <th>1</th>\n",
       "      <td>Logistic Regression - Optimal threshold = 0 .77</td>\n",
       "      <td>0.780581</td>\n",
       "      <td>0.778483</td>\n",
       "      <td>0.756436</td>\n",
       "      <td>0.754040</td>\n",
       "      <td>0.940682</td>\n",
       "      <td>0.948833</td>\n",
       "      <td>0.838558</td>\n",
       "      <td>0.840295</td>\n",
       "    </tr>\n",
       "    <tr>\n",
       "      <th>2</th>\n",
       "      <td>Logistic Regression - Optimal threshold = 0 .58</td>\n",
       "      <td>0.832046</td>\n",
       "      <td>0.828232</td>\n",
       "      <td>0.890274</td>\n",
       "      <td>0.879338</td>\n",
       "      <td>0.887174</td>\n",
       "      <td>0.896435</td>\n",
       "      <td>0.888721</td>\n",
       "      <td>0.887804</td>\n",
       "    </tr>\n",
       "  </tbody>\n",
       "</table>\n",
       "</div>"
      ],
      "text/plain": [
       "                                             Model  Train_Accuracy  \\\n",
       "0          Logistic Regression Model - Statsmodels        0.833143   \n",
       "1  Logistic Regression - Optimal threshold = 0 .77        0.780581   \n",
       "2  Logistic Regression - Optimal threshold = 0 .58        0.832046   \n",
       "\n",
       "   Test_Accuracy  Train Recall  Test Recall  Train Precision  Test Precision  \\\n",
       "0       0.837752      0.922306     0.916954         0.865119        0.878442   \n",
       "1       0.778483      0.756436     0.754040         0.940682        0.948833   \n",
       "2       0.828232      0.890274     0.879338         0.887174        0.896435   \n",
       "\n",
       "   Train F1   Test F1  \n",
       "0  0.892798  0.897285  \n",
       "1  0.838558  0.840295  \n",
       "2  0.888721  0.887804  "
      ]
     },
     "execution_count": 94,
     "metadata": {},
     "output_type": "execute_result"
    }
   ],
   "source": [
    "comparison_frame = pd.DataFrame({'Model':['Logistic Regression Model - Statsmodels',\n",
    "                                          'Logistic Regression - Optimal threshold = 0 .77',\n",
    "                                          'Logistic Regression - Optimal threshold = 0 .58'\n",
    "                                          ],\n",
    "                                          'Train_Accuracy':acc_train, \n",
    "                                          'Test_Accuracy':acc_test,\n",
    "                                          'Train Recall':recall_train,\n",
    "                                          'Test Recall':recall_test, \n",
    "                                          'Train Precision':precision_train,\n",
    "                                          'Test Precision':precision_test,\n",
    "                                          'Train F1':f1_train,\n",
    "                                          'Test F1':f1_test\n",
    "                                })\n",
    "                                    \n",
    "\n",
    "comparison_frame"
   ]
  },
  {
   "cell_type": "markdown",
   "id": "fd93ee14",
   "metadata": {},
   "source": [
    "### Conclusion\n",
    "- We have been able to build a predictive model that can be used by the government to find the citizens having less than 50K salary with an f1_score of 0.89 on the training set and formulate policies accordingly. (Statsmodels -  Logistic Regression - with significant predictors).\n",
    "- Coefficient of some levels of education, workclass, marital_status, and native country are positive an increase in these will lead to increase in chances of a person having <=50K salary. \n",
    "- Coefficient of age,fnlwgt,working_hours_per_week, sex_ Male, some levels of education, workclass, marital_status, and native country are negative increase in these will lead to decrease in chances of a person having <=50K salary."
   ]
  },
  {
   "cell_type": "markdown",
   "id": "542e6c67",
   "metadata": {
    "id": "1KnLoSD0mLQg"
   },
   "source": [
    "### Recommendations\n",
    "\n",
    "- The government should promote education among citizens, they should make policies to make education accessible to all, as we say in our analysis that people who have higher education are more likely to have a salary above 50,000 Dollars. \n",
    "- Working hours is one of the significant predictors of salary, The government should implement laws to ensure that people are paid fairly for their work and are not overworked for the increase in salaries. This would improve work-life balance.\n",
    "- People who invest more are more likely to have a salary above 50k, government should initiate investment schemes and facilitate ease of investment so that people can plan and invest in resources.\n",
    "- As we saw in our analysis that Asian-Pac-Islander and White people are paid more than other races, there should be reforms to ensure that the salary criterion of employees is independent of their race.\n",
    "- Reforms should be made for private-sector employees so that they are paid fairly for their work.\n",
    "- Policy formulated by the government should be considerate of equal pay and counter the pay gap that exists in society."
   ]
  },
  {
   "cell_type": "markdown",
   "id": "135c9f79",
   "metadata": {},
   "source": [
    "#### Things to try:\n",
    "* Perform more univariate and bivariate analysis to get a better understanding of distributions."
   ]
  }
 ],
 "metadata": {
  "kernelspec": {
   "display_name": "Python 3",
   "language": "python",
   "name": "python3"
  },
  "language_info": {
   "codemirror_mode": {
    "name": "ipython",
    "version": 3
   },
   "file_extension": ".py",
   "mimetype": "text/x-python",
   "name": "python",
   "nbconvert_exporter": "python",
   "pygments_lexer": "ipython3",
   "version": "3.8.8"
  }
 },
 "nbformat": 4,
 "nbformat_minor": 5
}
